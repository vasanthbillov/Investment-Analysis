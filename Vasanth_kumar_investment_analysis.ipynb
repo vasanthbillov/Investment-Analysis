{
 "cells": [
  {
   "cell_type": "markdown",
   "id": "cd61a9c6",
   "metadata": {},
   "source": [
    "# Investment Data Analysis Assignment"
   ]
  },
  {
   "cell_type": "code",
   "execution_count": 10,
   "id": "00f85b35",
   "metadata": {},
   "outputs": [],
   "source": [
    "import numpy as np\n",
    "import pandas as pd\n",
    "import matplotlib.pyplot as plt\n",
    "from matplotlib import cm\n",
    "from matplotlib.pyplot import figure\n",
    "%matplotlib inline\n",
    "import datetime\n",
    "import warnings\n",
    "warnings.filterwarnings(\"ignore\")\n",
    "import seaborn as sns"
   ]
  },
  {
   "cell_type": "markdown",
   "id": "3a6a7b29",
   "metadata": {},
   "source": [
    "### Checkpoint 1: Data Cleaning 1"
   ]
  },
  {
   "cell_type": "markdown",
   "id": "4d82cfb9",
   "metadata": {},
   "source": [
    "#### How many unique companies are present in rounds2?"
   ]
  },
  {
   "cell_type": "code",
   "execution_count": 11,
   "id": "b4d93633",
   "metadata": {},
   "outputs": [],
   "source": [
    "import chardet"
   ]
  },
  {
   "cell_type": "code",
   "execution_count": 12,
   "id": "a06f49bd",
   "metadata": {},
   "outputs": [
    {
     "name": "stdout",
     "output_type": "stream",
     "text": [
      "{'encoding': 'ISO-8859-1', 'confidence': 0.73, 'language': ''}\n"
     ]
    }
   ],
   "source": [
    "with open('rounds2.csv', 'rb') as rawdata:\n",
    "    result = chardet.detect(rawdata.read(10000))\n",
    "\n",
    "print(result)"
   ]
  },
  {
   "cell_type": "code",
   "execution_count": null,
   "id": "3f407bea",
   "metadata": {},
   "outputs": [],
   "source": []
  },
  {
   "cell_type": "code",
   "execution_count": 13,
   "id": "fea0f622",
   "metadata": {
    "scrolled": false
   },
   "outputs": [
    {
     "data": {
      "text/html": [
       "<div>\n",
       "<style scoped>\n",
       "    .dataframe tbody tr th:only-of-type {\n",
       "        vertical-align: middle;\n",
       "    }\n",
       "\n",
       "    .dataframe tbody tr th {\n",
       "        vertical-align: top;\n",
       "    }\n",
       "\n",
       "    .dataframe thead th {\n",
       "        text-align: right;\n",
       "    }\n",
       "</style>\n",
       "<table border=\"1\" class=\"dataframe\">\n",
       "  <thead>\n",
       "    <tr style=\"text-align: right;\">\n",
       "      <th></th>\n",
       "      <th>company_permalink</th>\n",
       "      <th>funding_round_permalink</th>\n",
       "      <th>funding_round_type</th>\n",
       "      <th>funding_round_code</th>\n",
       "      <th>funded_at</th>\n",
       "      <th>raised_amount_usd</th>\n",
       "    </tr>\n",
       "  </thead>\n",
       "  <tbody>\n",
       "    <tr>\n",
       "      <th>0</th>\n",
       "      <td>/organization/-fame</td>\n",
       "      <td>/funding-round/9a01d05418af9f794eebff7ace91f638</td>\n",
       "      <td>venture</td>\n",
       "      <td>B</td>\n",
       "      <td>05-01-2015</td>\n",
       "      <td>10000000.0</td>\n",
       "    </tr>\n",
       "    <tr>\n",
       "      <th>1</th>\n",
       "      <td>/ORGANIZATION/-QOUNTER</td>\n",
       "      <td>/funding-round/22dacff496eb7acb2b901dec1dfe5633</td>\n",
       "      <td>venture</td>\n",
       "      <td>A</td>\n",
       "      <td>14-10-2014</td>\n",
       "      <td>NaN</td>\n",
       "    </tr>\n",
       "    <tr>\n",
       "      <th>2</th>\n",
       "      <td>/organization/-qounter</td>\n",
       "      <td>/funding-round/b44fbb94153f6cdef13083530bb48030</td>\n",
       "      <td>seed</td>\n",
       "      <td>NaN</td>\n",
       "      <td>01-03-2014</td>\n",
       "      <td>700000.0</td>\n",
       "    </tr>\n",
       "    <tr>\n",
       "      <th>3</th>\n",
       "      <td>/ORGANIZATION/-THE-ONE-OF-THEM-INC-</td>\n",
       "      <td>/funding-round/650b8f704416801069bb178a1418776b</td>\n",
       "      <td>venture</td>\n",
       "      <td>B</td>\n",
       "      <td>30-01-2014</td>\n",
       "      <td>3406878.0</td>\n",
       "    </tr>\n",
       "    <tr>\n",
       "      <th>4</th>\n",
       "      <td>/organization/0-6-com</td>\n",
       "      <td>/funding-round/5727accaeaa57461bd22a9bdd945382d</td>\n",
       "      <td>venture</td>\n",
       "      <td>A</td>\n",
       "      <td>19-03-2008</td>\n",
       "      <td>2000000.0</td>\n",
       "    </tr>\n",
       "  </tbody>\n",
       "</table>\n",
       "</div>"
      ],
      "text/plain": [
       "                     company_permalink  \\\n",
       "0                  /organization/-fame   \n",
       "1               /ORGANIZATION/-QOUNTER   \n",
       "2               /organization/-qounter   \n",
       "3  /ORGANIZATION/-THE-ONE-OF-THEM-INC-   \n",
       "4                /organization/0-6-com   \n",
       "\n",
       "                           funding_round_permalink funding_round_type  \\\n",
       "0  /funding-round/9a01d05418af9f794eebff7ace91f638            venture   \n",
       "1  /funding-round/22dacff496eb7acb2b901dec1dfe5633            venture   \n",
       "2  /funding-round/b44fbb94153f6cdef13083530bb48030               seed   \n",
       "3  /funding-round/650b8f704416801069bb178a1418776b            venture   \n",
       "4  /funding-round/5727accaeaa57461bd22a9bdd945382d            venture   \n",
       "\n",
       "  funding_round_code   funded_at  raised_amount_usd  \n",
       "0                  B  05-01-2015         10000000.0  \n",
       "1                  A  14-10-2014                NaN  \n",
       "2                NaN  01-03-2014           700000.0  \n",
       "3                  B  30-01-2014          3406878.0  \n",
       "4                  A  19-03-2008          2000000.0  "
      ]
     },
     "execution_count": 13,
     "metadata": {},
     "output_type": "execute_result"
    }
   ],
   "source": [
    "#Loading rounds2 data\n",
    "rounds2 = pd.read_csv('rounds2.csv', encoding = 'ISO-8859-1')\n",
    "pd.set_option('display.max_columns',rounds2.shape[1]+1)\n",
    "\n",
    "rounds2.head()"
   ]
  },
  {
   "cell_type": "code",
   "execution_count": null,
   "id": "94472018",
   "metadata": {},
   "outputs": [],
   "source": []
  },
  {
   "cell_type": "code",
   "execution_count": 14,
   "id": "0a9a6f2c",
   "metadata": {
    "scrolled": false
   },
   "outputs": [
    {
     "data": {
      "text/plain": [
       "(114949, 6)"
      ]
     },
     "execution_count": 14,
     "metadata": {},
     "output_type": "execute_result"
    }
   ],
   "source": [
    "rounds2.shape"
   ]
  },
  {
   "cell_type": "code",
   "execution_count": 15,
   "id": "a36075f0",
   "metadata": {},
   "outputs": [
    {
     "name": "stdout",
     "output_type": "stream",
     "text": [
      "90247\n",
      "90247\n"
     ]
    }
   ],
   "source": [
    "#Checking unique companies are present in rounds2?\n",
    "\n",
    "print(rounds2['company_permalink'].value_counts().count())\n",
    "print(len(rounds2['company_permalink'].unique()))"
   ]
  },
  {
   "cell_type": "code",
   "execution_count": 16,
   "id": "0fbd2307",
   "metadata": {
    "scrolled": false
   },
   "outputs": [
    {
     "data": {
      "text/html": [
       "<div>\n",
       "<style scoped>\n",
       "    .dataframe tbody tr th:only-of-type {\n",
       "        vertical-align: middle;\n",
       "    }\n",
       "\n",
       "    .dataframe tbody tr th {\n",
       "        vertical-align: top;\n",
       "    }\n",
       "\n",
       "    .dataframe thead th {\n",
       "        text-align: right;\n",
       "    }\n",
       "</style>\n",
       "<table border=\"1\" class=\"dataframe\">\n",
       "  <thead>\n",
       "    <tr style=\"text-align: right;\">\n",
       "      <th></th>\n",
       "      <th>company_permalink</th>\n",
       "      <th>funding_round_permalink</th>\n",
       "      <th>funding_round_type</th>\n",
       "      <th>funding_round_code</th>\n",
       "      <th>funded_at</th>\n",
       "      <th>raised_amount_usd</th>\n",
       "    </tr>\n",
       "  </thead>\n",
       "  <tbody>\n",
       "    <tr>\n",
       "      <th>0</th>\n",
       "      <td>/Organization/-Fame</td>\n",
       "      <td>/funding-round/9a01d05418af9f794eebff7ace91f638</td>\n",
       "      <td>venture</td>\n",
       "      <td>B</td>\n",
       "      <td>05-01-2015</td>\n",
       "      <td>10000000.0</td>\n",
       "    </tr>\n",
       "    <tr>\n",
       "      <th>1</th>\n",
       "      <td>/Organization/-Qounter</td>\n",
       "      <td>/funding-round/22dacff496eb7acb2b901dec1dfe5633</td>\n",
       "      <td>venture</td>\n",
       "      <td>A</td>\n",
       "      <td>14-10-2014</td>\n",
       "      <td>NaN</td>\n",
       "    </tr>\n",
       "    <tr>\n",
       "      <th>2</th>\n",
       "      <td>/Organization/-Qounter</td>\n",
       "      <td>/funding-round/b44fbb94153f6cdef13083530bb48030</td>\n",
       "      <td>seed</td>\n",
       "      <td>NaN</td>\n",
       "      <td>01-03-2014</td>\n",
       "      <td>700000.0</td>\n",
       "    </tr>\n",
       "    <tr>\n",
       "      <th>3</th>\n",
       "      <td>/Organization/-The-One-Of-Them-Inc-</td>\n",
       "      <td>/funding-round/650b8f704416801069bb178a1418776b</td>\n",
       "      <td>venture</td>\n",
       "      <td>B</td>\n",
       "      <td>30-01-2014</td>\n",
       "      <td>3406878.0</td>\n",
       "    </tr>\n",
       "    <tr>\n",
       "      <th>4</th>\n",
       "      <td>/Organization/0-6-Com</td>\n",
       "      <td>/funding-round/5727accaeaa57461bd22a9bdd945382d</td>\n",
       "      <td>venture</td>\n",
       "      <td>A</td>\n",
       "      <td>19-03-2008</td>\n",
       "      <td>2000000.0</td>\n",
       "    </tr>\n",
       "  </tbody>\n",
       "</table>\n",
       "</div>"
      ],
      "text/plain": [
       "                     company_permalink  \\\n",
       "0                  /Organization/-Fame   \n",
       "1               /Organization/-Qounter   \n",
       "2               /Organization/-Qounter   \n",
       "3  /Organization/-The-One-Of-Them-Inc-   \n",
       "4                /Organization/0-6-Com   \n",
       "\n",
       "                           funding_round_permalink funding_round_type  \\\n",
       "0  /funding-round/9a01d05418af9f794eebff7ace91f638            venture   \n",
       "1  /funding-round/22dacff496eb7acb2b901dec1dfe5633            venture   \n",
       "2  /funding-round/b44fbb94153f6cdef13083530bb48030               seed   \n",
       "3  /funding-round/650b8f704416801069bb178a1418776b            venture   \n",
       "4  /funding-round/5727accaeaa57461bd22a9bdd945382d            venture   \n",
       "\n",
       "  funding_round_code   funded_at  raised_amount_usd  \n",
       "0                  B  05-01-2015         10000000.0  \n",
       "1                  A  14-10-2014                NaN  \n",
       "2                NaN  01-03-2014           700000.0  \n",
       "3                  B  30-01-2014          3406878.0  \n",
       "4                  A  19-03-2008          2000000.0  "
      ]
     },
     "execution_count": 16,
     "metadata": {},
     "output_type": "execute_result"
    }
   ],
   "source": [
    "rounds2['company_permalink'] = rounds2['company_permalink'].apply(lambda x: x.title())\n",
    "rounds2.head()"
   ]
  },
  {
   "cell_type": "code",
   "execution_count": 17,
   "id": "ad84b16b",
   "metadata": {},
   "outputs": [
    {
     "name": "stdout",
     "output_type": "stream",
     "text": [
      "66370\n"
     ]
    }
   ],
   "source": [
    "#How many unique companies are present in rounds2?\n",
    "print(len(rounds2['company_permalink'].unique()))"
   ]
  },
  {
   "cell_type": "code",
   "execution_count": 18,
   "id": "bbe9ef69",
   "metadata": {},
   "outputs": [
    {
     "data": {
      "text/html": [
       "<div>\n",
       "<style scoped>\n",
       "    .dataframe tbody tr th:only-of-type {\n",
       "        vertical-align: middle;\n",
       "    }\n",
       "\n",
       "    .dataframe tbody tr th {\n",
       "        vertical-align: top;\n",
       "    }\n",
       "\n",
       "    .dataframe thead th {\n",
       "        text-align: right;\n",
       "    }\n",
       "</style>\n",
       "<table border=\"1\" class=\"dataframe\">\n",
       "  <thead>\n",
       "    <tr style=\"text-align: right;\">\n",
       "      <th></th>\n",
       "      <th>permalink</th>\n",
       "      <th>funding_round_permalink</th>\n",
       "      <th>funding_round_type</th>\n",
       "      <th>funding_round_code</th>\n",
       "      <th>funded_at</th>\n",
       "      <th>raised_amount_usd</th>\n",
       "    </tr>\n",
       "  </thead>\n",
       "  <tbody>\n",
       "    <tr>\n",
       "      <th>0</th>\n",
       "      <td>/Organization/-Fame</td>\n",
       "      <td>/funding-round/9a01d05418af9f794eebff7ace91f638</td>\n",
       "      <td>venture</td>\n",
       "      <td>B</td>\n",
       "      <td>05-01-2015</td>\n",
       "      <td>10000000.0</td>\n",
       "    </tr>\n",
       "    <tr>\n",
       "      <th>1</th>\n",
       "      <td>/Organization/-Qounter</td>\n",
       "      <td>/funding-round/22dacff496eb7acb2b901dec1dfe5633</td>\n",
       "      <td>venture</td>\n",
       "      <td>A</td>\n",
       "      <td>14-10-2014</td>\n",
       "      <td>NaN</td>\n",
       "    </tr>\n",
       "    <tr>\n",
       "      <th>2</th>\n",
       "      <td>/Organization/-Qounter</td>\n",
       "      <td>/funding-round/b44fbb94153f6cdef13083530bb48030</td>\n",
       "      <td>seed</td>\n",
       "      <td>NaN</td>\n",
       "      <td>01-03-2014</td>\n",
       "      <td>700000.0</td>\n",
       "    </tr>\n",
       "    <tr>\n",
       "      <th>3</th>\n",
       "      <td>/Organization/-The-One-Of-Them-Inc-</td>\n",
       "      <td>/funding-round/650b8f704416801069bb178a1418776b</td>\n",
       "      <td>venture</td>\n",
       "      <td>B</td>\n",
       "      <td>30-01-2014</td>\n",
       "      <td>3406878.0</td>\n",
       "    </tr>\n",
       "    <tr>\n",
       "      <th>4</th>\n",
       "      <td>/Organization/0-6-Com</td>\n",
       "      <td>/funding-round/5727accaeaa57461bd22a9bdd945382d</td>\n",
       "      <td>venture</td>\n",
       "      <td>A</td>\n",
       "      <td>19-03-2008</td>\n",
       "      <td>2000000.0</td>\n",
       "    </tr>\n",
       "  </tbody>\n",
       "</table>\n",
       "</div>"
      ],
      "text/plain": [
       "                             permalink  \\\n",
       "0                  /Organization/-Fame   \n",
       "1               /Organization/-Qounter   \n",
       "2               /Organization/-Qounter   \n",
       "3  /Organization/-The-One-Of-Them-Inc-   \n",
       "4                /Organization/0-6-Com   \n",
       "\n",
       "                           funding_round_permalink funding_round_type  \\\n",
       "0  /funding-round/9a01d05418af9f794eebff7ace91f638            venture   \n",
       "1  /funding-round/22dacff496eb7acb2b901dec1dfe5633            venture   \n",
       "2  /funding-round/b44fbb94153f6cdef13083530bb48030               seed   \n",
       "3  /funding-round/650b8f704416801069bb178a1418776b            venture   \n",
       "4  /funding-round/5727accaeaa57461bd22a9bdd945382d            venture   \n",
       "\n",
       "  funding_round_code   funded_at  raised_amount_usd  \n",
       "0                  B  05-01-2015         10000000.0  \n",
       "1                  A  14-10-2014                NaN  \n",
       "2                NaN  01-03-2014           700000.0  \n",
       "3                  B  30-01-2014          3406878.0  \n",
       "4                  A  19-03-2008          2000000.0  "
      ]
     },
     "execution_count": 18,
     "metadata": {},
     "output_type": "execute_result"
    }
   ],
   "source": [
    "#Renaming column to match company column\n",
    "rounds2 = rounds2.rename(columns = {'company_permalink':'permalink'})\n",
    "rounds2.head()"
   ]
  },
  {
   "cell_type": "raw",
   "id": "e670a3b6",
   "metadata": {},
   "source": []
  },
  {
   "cell_type": "markdown",
   "id": "359bf0c1",
   "metadata": {},
   "source": [
    "#### How many unique companies are present in companies?"
   ]
  },
  {
   "cell_type": "code",
   "execution_count": 19,
   "id": "f74b9451",
   "metadata": {
    "scrolled": false
   },
   "outputs": [
    {
     "data": {
      "text/html": [
       "<div>\n",
       "<style scoped>\n",
       "    .dataframe tbody tr th:only-of-type {\n",
       "        vertical-align: middle;\n",
       "    }\n",
       "\n",
       "    .dataframe tbody tr th {\n",
       "        vertical-align: top;\n",
       "    }\n",
       "\n",
       "    .dataframe thead th {\n",
       "        text-align: right;\n",
       "    }\n",
       "</style>\n",
       "<table border=\"1\" class=\"dataframe\">\n",
       "  <thead>\n",
       "    <tr style=\"text-align: right;\">\n",
       "      <th></th>\n",
       "      <th>permalink</th>\n",
       "      <th>name</th>\n",
       "      <th>homepage_url</th>\n",
       "      <th>...</th>\n",
       "      <th>region</th>\n",
       "      <th>city</th>\n",
       "      <th>founded_at</th>\n",
       "    </tr>\n",
       "  </thead>\n",
       "  <tbody>\n",
       "    <tr>\n",
       "      <th>0</th>\n",
       "      <td>/Organization/-Fame</td>\n",
       "      <td>#fame</td>\n",
       "      <td>http://livfame.com</td>\n",
       "      <td>...</td>\n",
       "      <td>Mumbai</td>\n",
       "      <td>Mumbai</td>\n",
       "      <td>NaN</td>\n",
       "    </tr>\n",
       "    <tr>\n",
       "      <th>1</th>\n",
       "      <td>/Organization/-Qounter</td>\n",
       "      <td>:Qounter</td>\n",
       "      <td>http://www.qounter.com</td>\n",
       "      <td>...</td>\n",
       "      <td>DE - Other</td>\n",
       "      <td>Delaware City</td>\n",
       "      <td>04-09-2014</td>\n",
       "    </tr>\n",
       "    <tr>\n",
       "      <th>2</th>\n",
       "      <td>/Organization/-The-One-Of-Them-Inc-</td>\n",
       "      <td>(THE) ONE of THEM,Inc.</td>\n",
       "      <td>http://oneofthem.jp</td>\n",
       "      <td>...</td>\n",
       "      <td>NaN</td>\n",
       "      <td>NaN</td>\n",
       "      <td>NaN</td>\n",
       "    </tr>\n",
       "    <tr>\n",
       "      <th>3</th>\n",
       "      <td>/Organization/0-6-Com</td>\n",
       "      <td>0-6.com</td>\n",
       "      <td>http://www.0-6.com</td>\n",
       "      <td>...</td>\n",
       "      <td>Beijing</td>\n",
       "      <td>Beijing</td>\n",
       "      <td>01-01-2007</td>\n",
       "    </tr>\n",
       "    <tr>\n",
       "      <th>4</th>\n",
       "      <td>/Organization/004-Technologies</td>\n",
       "      <td>004 Technologies</td>\n",
       "      <td>http://004gmbh.de/en/004-interact</td>\n",
       "      <td>...</td>\n",
       "      <td>Springfield, Illinois</td>\n",
       "      <td>Champaign</td>\n",
       "      <td>01-01-2010</td>\n",
       "    </tr>\n",
       "  </tbody>\n",
       "</table>\n",
       "<p>5 rows × 10 columns</p>\n",
       "</div>"
      ],
      "text/plain": [
       "                             permalink                    name  \\\n",
       "0                  /Organization/-Fame                   #fame   \n",
       "1               /Organization/-Qounter                :Qounter   \n",
       "2  /Organization/-The-One-Of-Them-Inc-  (THE) ONE of THEM,Inc.   \n",
       "3                /Organization/0-6-Com                 0-6.com   \n",
       "4       /Organization/004-Technologies        004 Technologies   \n",
       "\n",
       "                        homepage_url  ...                 region  \\\n",
       "0                 http://livfame.com  ...                 Mumbai   \n",
       "1             http://www.qounter.com  ...             DE - Other   \n",
       "2                http://oneofthem.jp  ...                    NaN   \n",
       "3                 http://www.0-6.com  ...                Beijing   \n",
       "4  http://004gmbh.de/en/004-interact  ...  Springfield, Illinois   \n",
       "\n",
       "            city  founded_at  \n",
       "0         Mumbai         NaN  \n",
       "1  Delaware City  04-09-2014  \n",
       "2            NaN         NaN  \n",
       "3        Beijing  01-01-2007  \n",
       "4      Champaign  01-01-2010  \n",
       "\n",
       "[5 rows x 10 columns]"
      ]
     },
     "execution_count": 19,
     "metadata": {},
     "output_type": "execute_result"
    }
   ],
   "source": [
    "#Loading companies data\n",
    "companies = pd.read_csv('companies.csv')\n",
    "companies.head()"
   ]
  },
  {
   "cell_type": "code",
   "execution_count": 20,
   "id": "67b6386e",
   "metadata": {
    "scrolled": true
   },
   "outputs": [
    {
     "data": {
      "text/plain": [
       "(66368, 10)"
      ]
     },
     "execution_count": 20,
     "metadata": {},
     "output_type": "execute_result"
    }
   ],
   "source": [
    "companies.shape"
   ]
  },
  {
   "cell_type": "code",
   "execution_count": 21,
   "id": "3bfd88a0",
   "metadata": {},
   "outputs": [
    {
     "data": {
      "text/plain": [
       "66368"
      ]
     },
     "execution_count": 21,
     "metadata": {},
     "output_type": "execute_result"
    }
   ],
   "source": [
    "# How many unique companies are present in companies?\n",
    "\n",
    "len(companies['permalink'].unique())"
   ]
  },
  {
   "cell_type": "code",
   "execution_count": 22,
   "id": "0a218b9b",
   "metadata": {},
   "outputs": [
    {
     "data": {
      "text/plain": [
       "66100"
      ]
     },
     "execution_count": 22,
     "metadata": {},
     "output_type": "execute_result"
    }
   ],
   "source": [
    "#checking whether name is unique or not\n",
    "len(companies['name'].unique())"
   ]
  },
  {
   "cell_type": "code",
   "execution_count": 23,
   "id": "a785ab97",
   "metadata": {},
   "outputs": [
    {
     "data": {
      "text/plain": [
       "Karma                    4\n",
       "Spire                    4\n",
       "Peach                    4\n",
       "Blink                    4\n",
       "Roost                    4\n",
       "                        ..\n",
       "Kxter.com                1\n",
       "Aquarium Life Customs    1\n",
       "Outline App              1\n",
       "Endurance Wind Power     1\n",
       "LLamasoft                1\n",
       "Name: name, Length: 66099, dtype: int64"
      ]
     },
     "execution_count": 23,
     "metadata": {},
     "output_type": "execute_result"
    }
   ],
   "source": [
    "companies['name'].value_counts()"
   ]
  },
  {
   "cell_type": "code",
   "execution_count": 24,
   "id": "7f15d154",
   "metadata": {},
   "outputs": [
    {
     "data": {
      "text/plain": [
       "0"
      ]
     },
     "execution_count": 24,
     "metadata": {},
     "output_type": "execute_result"
    }
   ],
   "source": [
    "#checking if permalink has nulls\n",
    "companies['permalink'].isnull().sum()"
   ]
  },
  {
   "cell_type": "code",
   "execution_count": 25,
   "id": "ba4faeae",
   "metadata": {},
   "outputs": [
    {
     "data": {
      "text/plain": [
       "66368"
      ]
     },
     "execution_count": 25,
     "metadata": {},
     "output_type": "execute_result"
    }
   ],
   "source": [
    "len(companies['permalink'].unique())"
   ]
  },
  {
   "cell_type": "raw",
   "id": "c47f4cad",
   "metadata": {},
   "source": []
  },
  {
   "cell_type": "markdown",
   "id": "49cb5b72",
   "metadata": {},
   "source": [
    "#### Merging Data frames"
   ]
  },
  {
   "cell_type": "code",
   "execution_count": 26,
   "id": "83464b38",
   "metadata": {
    "scrolled": false
   },
   "outputs": [
    {
     "data": {
      "text/html": [
       "<div>\n",
       "<style scoped>\n",
       "    .dataframe tbody tr th:only-of-type {\n",
       "        vertical-align: middle;\n",
       "    }\n",
       "\n",
       "    .dataframe tbody tr th {\n",
       "        vertical-align: top;\n",
       "    }\n",
       "\n",
       "    .dataframe thead th {\n",
       "        text-align: right;\n",
       "    }\n",
       "</style>\n",
       "<table border=\"1\" class=\"dataframe\">\n",
       "  <thead>\n",
       "    <tr style=\"text-align: right;\">\n",
       "      <th></th>\n",
       "      <th>permalink</th>\n",
       "      <th>funding_round_permalink</th>\n",
       "      <th>funding_round_type</th>\n",
       "      <th>...</th>\n",
       "      <th>region</th>\n",
       "      <th>city</th>\n",
       "      <th>founded_at</th>\n",
       "    </tr>\n",
       "  </thead>\n",
       "  <tbody>\n",
       "    <tr>\n",
       "      <th>0</th>\n",
       "      <td>/Organization/-Fame</td>\n",
       "      <td>/funding-round/9a01d05418af9f794eebff7ace91f638</td>\n",
       "      <td>venture</td>\n",
       "      <td>...</td>\n",
       "      <td>Mumbai</td>\n",
       "      <td>Mumbai</td>\n",
       "      <td>NaN</td>\n",
       "    </tr>\n",
       "    <tr>\n",
       "      <th>1</th>\n",
       "      <td>/Organization/-Qounter</td>\n",
       "      <td>/funding-round/22dacff496eb7acb2b901dec1dfe5633</td>\n",
       "      <td>venture</td>\n",
       "      <td>...</td>\n",
       "      <td>DE - Other</td>\n",
       "      <td>Delaware City</td>\n",
       "      <td>04-09-2014</td>\n",
       "    </tr>\n",
       "    <tr>\n",
       "      <th>2</th>\n",
       "      <td>/Organization/-Qounter</td>\n",
       "      <td>/funding-round/b44fbb94153f6cdef13083530bb48030</td>\n",
       "      <td>seed</td>\n",
       "      <td>...</td>\n",
       "      <td>DE - Other</td>\n",
       "      <td>Delaware City</td>\n",
       "      <td>04-09-2014</td>\n",
       "    </tr>\n",
       "    <tr>\n",
       "      <th>3</th>\n",
       "      <td>/Organization/-The-One-Of-Them-Inc-</td>\n",
       "      <td>/funding-round/650b8f704416801069bb178a1418776b</td>\n",
       "      <td>venture</td>\n",
       "      <td>...</td>\n",
       "      <td>NaN</td>\n",
       "      <td>NaN</td>\n",
       "      <td>NaN</td>\n",
       "    </tr>\n",
       "    <tr>\n",
       "      <th>4</th>\n",
       "      <td>/Organization/0-6-Com</td>\n",
       "      <td>/funding-round/5727accaeaa57461bd22a9bdd945382d</td>\n",
       "      <td>venture</td>\n",
       "      <td>...</td>\n",
       "      <td>Beijing</td>\n",
       "      <td>Beijing</td>\n",
       "      <td>01-01-2007</td>\n",
       "    </tr>\n",
       "  </tbody>\n",
       "</table>\n",
       "<p>5 rows × 15 columns</p>\n",
       "</div>"
      ],
      "text/plain": [
       "                             permalink  \\\n",
       "0                  /Organization/-Fame   \n",
       "1               /Organization/-Qounter   \n",
       "2               /Organization/-Qounter   \n",
       "3  /Organization/-The-One-Of-Them-Inc-   \n",
       "4                /Organization/0-6-Com   \n",
       "\n",
       "                           funding_round_permalink funding_round_type  ...  \\\n",
       "0  /funding-round/9a01d05418af9f794eebff7ace91f638            venture  ...   \n",
       "1  /funding-round/22dacff496eb7acb2b901dec1dfe5633            venture  ...   \n",
       "2  /funding-round/b44fbb94153f6cdef13083530bb48030               seed  ...   \n",
       "3  /funding-round/650b8f704416801069bb178a1418776b            venture  ...   \n",
       "4  /funding-round/5727accaeaa57461bd22a9bdd945382d            venture  ...   \n",
       "\n",
       "       region           city  founded_at  \n",
       "0      Mumbai         Mumbai         NaN  \n",
       "1  DE - Other  Delaware City  04-09-2014  \n",
       "2  DE - Other  Delaware City  04-09-2014  \n",
       "3         NaN            NaN         NaN  \n",
       "4     Beijing        Beijing  01-01-2007  \n",
       "\n",
       "[5 rows x 15 columns]"
      ]
     },
     "execution_count": 26,
     "metadata": {},
     "output_type": "execute_result"
    }
   ],
   "source": [
    "#Merging\n",
    "master_frame = pd.merge(rounds2, companies, how='inner', on='permalink')\n",
    "master_frame.head()"
   ]
  },
  {
   "cell_type": "code",
   "execution_count": 27,
   "id": "2c50ec3f",
   "metadata": {
    "scrolled": true
   },
   "outputs": [
    {
     "data": {
      "text/plain": [
       "False    114875\n",
       "dtype: int64"
      ]
     },
     "execution_count": 27,
     "metadata": {},
     "output_type": "execute_result"
    }
   ],
   "source": [
    "master_frame.duplicated().value_counts()"
   ]
  },
  {
   "cell_type": "raw",
   "id": "b1d214b2",
   "metadata": {},
   "source": []
  },
  {
   "cell_type": "markdown",
   "id": "dab0974c",
   "metadata": {},
   "source": [
    "#### How many observations are present in master_frame?"
   ]
  },
  {
   "cell_type": "code",
   "execution_count": 28,
   "id": "6f42d759",
   "metadata": {},
   "outputs": [
    {
     "data": {
      "text/plain": [
       "(114875, 15)"
      ]
     },
     "execution_count": 28,
     "metadata": {},
     "output_type": "execute_result"
    }
   ],
   "source": [
    "master_frame.shape"
   ]
  },
  {
   "cell_type": "raw",
   "id": "dd027f06",
   "metadata": {},
   "source": []
  },
  {
   "cell_type": "markdown",
   "id": "d3bda502",
   "metadata": {},
   "source": [
    "#### Data cleaning"
   ]
  },
  {
   "cell_type": "code",
   "execution_count": 29,
   "id": "d6b6a95d",
   "metadata": {
    "scrolled": true
   },
   "outputs": [
    {
     "data": {
      "text/plain": [
       "permalink                      0\n",
       "funding_round_permalink        0\n",
       "funding_round_type             0\n",
       "funding_round_code         83743\n",
       "funded_at                      0\n",
       "raised_amount_usd          19960\n",
       "name                           1\n",
       "homepage_url                6126\n",
       "category_list               3387\n",
       "status                         0\n",
       "country_code                8637\n",
       "state_code                 10903\n",
       "region                     10126\n",
       "city                       10123\n",
       "founded_at                 20488\n",
       "dtype: int64"
      ]
     },
     "execution_count": 29,
     "metadata": {},
     "output_type": "execute_result"
    }
   ],
   "source": [
    "#Find missing vlaues\n",
    "master_frame.isnull().sum()"
   ]
  },
  {
   "cell_type": "code",
   "execution_count": 30,
   "id": "b1773c58",
   "metadata": {},
   "outputs": [
    {
     "data": {
      "text/plain": [
       "permalink                   0.00\n",
       "funding_round_permalink     0.00\n",
       "funding_round_type          0.00\n",
       "funding_round_code         72.90\n",
       "funded_at                   0.00\n",
       "raised_amount_usd          17.38\n",
       "name                        0.00\n",
       "homepage_url                5.33\n",
       "category_list               2.95\n",
       "status                      0.00\n",
       "country_code                7.52\n",
       "state_code                  9.49\n",
       "region                      8.81\n",
       "city                        8.81\n",
       "founded_at                 17.84\n",
       "dtype: float64"
      ]
     },
     "execution_count": 30,
     "metadata": {},
     "output_type": "execute_result"
    }
   ],
   "source": [
    "# Checking missing value percentage\n",
    "\n",
    "round(master_frame.isnull().sum()/len(master_frame.index)*100,2)"
   ]
  },
  {
   "cell_type": "code",
   "execution_count": 31,
   "id": "6a96c844",
   "metadata": {},
   "outputs": [
    {
     "data": {
      "text/plain": [
       "permalink                   0.00\n",
       "funding_round_permalink     0.00\n",
       "funding_round_type          0.00\n",
       "funded_at                   0.00\n",
       "raised_amount_usd           0.00\n",
       "name                        0.00\n",
       "homepage_url                4.56\n",
       "category_list               1.09\n",
       "status                      0.00\n",
       "country_code                6.14\n",
       "state_code                  7.99\n",
       "region                      7.40\n",
       "city                        7.40\n",
       "founded_at                 16.80\n",
       "dtype: float64"
      ]
     },
     "execution_count": 31,
     "metadata": {},
     "output_type": "execute_result"
    }
   ],
   "source": [
    "# \"funding_round_code\" has 50% of missing values ,I dont see any importance for this analysis , droping that too\n",
    "master_frame = master_frame.drop('funding_round_code', axis=1)\n",
    "\n",
    "# droping NAN values from 'raised_amount_usd' column since its target column\n",
    "master_frame = master_frame[~np.isnan(master_frame['raised_amount_usd'])]\n",
    "\n",
    "\n",
    "round(master_frame.isnull().sum()/len(master_frame.index)*100,2)"
   ]
  },
  {
   "cell_type": "code",
   "execution_count": 32,
   "id": "82c7e37c",
   "metadata": {
    "scrolled": false
   },
   "outputs": [
    {
     "data": {
      "text/plain": [
       "permalink                   0.00\n",
       "funding_round_permalink     0.00\n",
       "funding_round_type          0.00\n",
       "funded_at                   0.00\n",
       "raised_amount_usd           0.00\n",
       "name                        0.00\n",
       "homepage_url                4.31\n",
       "category_list               0.72\n",
       "status                      0.00\n",
       "country_code                5.25\n",
       "state_code                  7.09\n",
       "region                      6.49\n",
       "city                        6.49\n",
       "founded_at                 15.81\n",
       "dtype: float64"
      ]
     },
     "execution_count": 32,
     "metadata": {},
     "output_type": "execute_result"
    }
   ],
   "source": [
    "# droping companies which are closed\n",
    "master_frame = master_frame[master_frame['status'] != 'closed']\n",
    "\n",
    "round(master_frame.isnull().sum()/len(master_frame.index)*100,2)"
   ]
  },
  {
   "cell_type": "code",
   "execution_count": 33,
   "id": "aa028f44",
   "metadata": {},
   "outputs": [
    {
     "data": {
      "text/plain": [
       "permalink                   0.00\n",
       "funding_round_permalink     0.00\n",
       "funding_round_type          0.00\n",
       "funded_at                   0.00\n",
       "raised_amount_usd           0.00\n",
       "name                        0.00\n",
       "homepage_url                0.00\n",
       "category_list               0.56\n",
       "status                      0.00\n",
       "country_code                4.69\n",
       "state_code                  6.52\n",
       "region                      5.92\n",
       "city                        5.92\n",
       "founded_at                 14.56\n",
       "dtype: float64"
      ]
     },
     "execution_count": 33,
     "metadata": {},
     "output_type": "execute_result"
    }
   ],
   "source": [
    "#droping companies where 'homepage_url'is missing, since its investment , I think its risky without checking thier page\n",
    "master_frame = master_frame[master_frame['homepage_url'].notnull()]\n",
    "\n",
    "round(master_frame.isnull().sum()/len(master_frame.index)*100,2)"
   ]
  },
  {
   "cell_type": "code",
   "execution_count": 34,
   "id": "76663f6c",
   "metadata": {},
   "outputs": [
    {
     "data": {
      "text/plain": [
       "permalink                   0.00\n",
       "funding_round_permalink     0.00\n",
       "funding_round_type          0.00\n",
       "funded_at                   0.00\n",
       "raised_amount_usd           0.00\n",
       "name                        0.00\n",
       "homepage_url                0.00\n",
       "category_list               0.44\n",
       "status                      0.00\n",
       "country_code                0.00\n",
       "state_code                  1.92\n",
       "region                      1.29\n",
       "city                        1.29\n",
       "founded_at                 13.82\n",
       "dtype: float64"
      ]
     },
     "execution_count": 34,
     "metadata": {},
     "output_type": "execute_result"
    }
   ],
   "source": [
    "# droping NAN values from 'country_code' column since its one of our main column\n",
    "master_frame = master_frame[master_frame['country_code'].notnull()]\n",
    "\n",
    "round(master_frame.isnull().sum()/len(master_frame.index)*100,2)"
   ]
  },
  {
   "cell_type": "code",
   "execution_count": 35,
   "id": "d4d1124f",
   "metadata": {
    "scrolled": true
   },
   "outputs": [],
   "source": [
    "# droping NAN values from 'category_list' column since its one of our main column\n",
    "# master_frame = master_frame[master_frame['category_list'].notnull()]\n",
    "# master_frame.isnull().sum()"
   ]
  },
  {
   "cell_type": "code",
   "execution_count": 36,
   "id": "912efe8f",
   "metadata": {
    "scrolled": false
   },
   "outputs": [
    {
     "data": {
      "text/plain": [
       "True     79794\n",
       "False      350\n",
       "Name: category_list, dtype: int64"
      ]
     },
     "execution_count": 36,
     "metadata": {},
     "output_type": "execute_result"
    }
   ],
   "source": [
    "master_frame['category_list'].notnull().value_counts()"
   ]
  },
  {
   "cell_type": "code",
   "execution_count": 37,
   "id": "f195f997",
   "metadata": {},
   "outputs": [
    {
     "data": {
      "text/plain": [
       "'Biotechnology'"
      ]
     },
     "execution_count": 37,
     "metadata": {},
     "output_type": "execute_result"
    }
   ],
   "source": [
    "#Checking mode value\n",
    "master_frame['category_list'].mode()[0]"
   ]
  },
  {
   "cell_type": "code",
   "execution_count": 38,
   "id": "971d5b2b",
   "metadata": {},
   "outputs": [
    {
     "data": {
      "text/html": [
       "<div>\n",
       "<style scoped>\n",
       "    .dataframe tbody tr th:only-of-type {\n",
       "        vertical-align: middle;\n",
       "    }\n",
       "\n",
       "    .dataframe tbody tr th {\n",
       "        vertical-align: top;\n",
       "    }\n",
       "\n",
       "    .dataframe thead th {\n",
       "        text-align: right;\n",
       "    }\n",
       "</style>\n",
       "<table border=\"1\" class=\"dataframe\">\n",
       "  <thead>\n",
       "    <tr style=\"text-align: right;\">\n",
       "      <th></th>\n",
       "      <th>permalink</th>\n",
       "      <th>funding_round_permalink</th>\n",
       "      <th>funding_round_type</th>\n",
       "      <th>...</th>\n",
       "      <th>region</th>\n",
       "      <th>city</th>\n",
       "      <th>founded_at</th>\n",
       "    </tr>\n",
       "  </thead>\n",
       "  <tbody>\n",
       "    <tr>\n",
       "      <th>0</th>\n",
       "      <td>/Organization/-Fame</td>\n",
       "      <td>/funding-round/9a01d05418af9f794eebff7ace91f638</td>\n",
       "      <td>venture</td>\n",
       "      <td>...</td>\n",
       "      <td>Mumbai</td>\n",
       "      <td>Mumbai</td>\n",
       "      <td>NaN</td>\n",
       "    </tr>\n",
       "    <tr>\n",
       "      <th>2</th>\n",
       "      <td>/Organization/-Qounter</td>\n",
       "      <td>/funding-round/b44fbb94153f6cdef13083530bb48030</td>\n",
       "      <td>seed</td>\n",
       "      <td>...</td>\n",
       "      <td>DE - Other</td>\n",
       "      <td>Delaware City</td>\n",
       "      <td>04-09-2014</td>\n",
       "    </tr>\n",
       "    <tr>\n",
       "      <th>4</th>\n",
       "      <td>/Organization/0-6-Com</td>\n",
       "      <td>/funding-round/5727accaeaa57461bd22a9bdd945382d</td>\n",
       "      <td>venture</td>\n",
       "      <td>...</td>\n",
       "      <td>Beijing</td>\n",
       "      <td>Beijing</td>\n",
       "      <td>01-01-2007</td>\n",
       "    </tr>\n",
       "    <tr>\n",
       "      <th>6</th>\n",
       "      <td>/Organization/01Games-Technology</td>\n",
       "      <td>/funding-round/7d53696f2b4f607a2f2a8cbb83d01839</td>\n",
       "      <td>undisclosed</td>\n",
       "      <td>...</td>\n",
       "      <td>Hong Kong</td>\n",
       "      <td>Hong Kong</td>\n",
       "      <td>NaN</td>\n",
       "    </tr>\n",
       "    <tr>\n",
       "      <th>7</th>\n",
       "      <td>/Organization/0Ndine-Biomedical-Inc</td>\n",
       "      <td>/funding-round/2b9d3ac293d5cdccbecff5c8cb0f327d</td>\n",
       "      <td>seed</td>\n",
       "      <td>...</td>\n",
       "      <td>Vancouver</td>\n",
       "      <td>Vancouver</td>\n",
       "      <td>01-01-1997</td>\n",
       "    </tr>\n",
       "  </tbody>\n",
       "</table>\n",
       "<p>5 rows × 14 columns</p>\n",
       "</div>"
      ],
      "text/plain": [
       "                             permalink  \\\n",
       "0                  /Organization/-Fame   \n",
       "2               /Organization/-Qounter   \n",
       "4                /Organization/0-6-Com   \n",
       "6     /Organization/01Games-Technology   \n",
       "7  /Organization/0Ndine-Biomedical-Inc   \n",
       "\n",
       "                           funding_round_permalink funding_round_type  ...  \\\n",
       "0  /funding-round/9a01d05418af9f794eebff7ace91f638            venture  ...   \n",
       "2  /funding-round/b44fbb94153f6cdef13083530bb48030               seed  ...   \n",
       "4  /funding-round/5727accaeaa57461bd22a9bdd945382d            venture  ...   \n",
       "6  /funding-round/7d53696f2b4f607a2f2a8cbb83d01839        undisclosed  ...   \n",
       "7  /funding-round/2b9d3ac293d5cdccbecff5c8cb0f327d               seed  ...   \n",
       "\n",
       "       region           city  founded_at  \n",
       "0      Mumbai         Mumbai         NaN  \n",
       "2  DE - Other  Delaware City  04-09-2014  \n",
       "4     Beijing        Beijing  01-01-2007  \n",
       "6   Hong Kong      Hong Kong         NaN  \n",
       "7   Vancouver      Vancouver  01-01-1997  \n",
       "\n",
       "[5 rows x 14 columns]"
      ]
     },
     "execution_count": 38,
     "metadata": {},
     "output_type": "execute_result"
    }
   ],
   "source": [
    "# Imputing mode value to category_list\n",
    "\n",
    "master_frame['category_list'] = master_frame['category_list'].fillna(master_frame['category_list'].mode()[0])\n",
    "master_frame.head()"
   ]
  },
  {
   "cell_type": "code",
   "execution_count": 39,
   "id": "2066e769",
   "metadata": {},
   "outputs": [
    {
     "data": {
      "text/plain": [
       "permalink                   0.00\n",
       "funding_round_permalink     0.00\n",
       "funding_round_type          0.00\n",
       "funded_at                   0.00\n",
       "raised_amount_usd           0.00\n",
       "name                        0.00\n",
       "homepage_url                0.00\n",
       "category_list               0.00\n",
       "status                      0.00\n",
       "country_code                0.00\n",
       "state_code                  1.92\n",
       "region                      1.29\n",
       "city                        1.29\n",
       "founded_at                 13.82\n",
       "dtype: float64"
      ]
     },
     "execution_count": 39,
     "metadata": {},
     "output_type": "execute_result"
    }
   ],
   "source": [
    "round(master_frame.isnull().sum()/len(master_frame.index)*100,2)"
   ]
  },
  {
   "cell_type": "code",
   "execution_count": 40,
   "id": "52be136e",
   "metadata": {
    "scrolled": true
   },
   "outputs": [
    {
     "data": {
      "text/plain": [
       "permalink                      0\n",
       "funding_round_permalink        0\n",
       "funding_round_type             0\n",
       "funded_at                      0\n",
       "raised_amount_usd              0\n",
       "name                           0\n",
       "homepage_url                   0\n",
       "category_list                  0\n",
       "status                         0\n",
       "country_code                   0\n",
       "state_code                  1542\n",
       "region                      1035\n",
       "city                        1032\n",
       "founded_at                 11078\n",
       "dtype: int64"
      ]
     },
     "execution_count": 40,
     "metadata": {},
     "output_type": "execute_result"
    }
   ],
   "source": [
    "# We will ingnore if missing value in 'state_code, region,city, founded_at' columns \n",
    "#since impact of these datas are very less for this analysis.\n",
    "master_frame.isnull().sum()"
   ]
  },
  {
   "cell_type": "code",
   "execution_count": 41,
   "id": "250801fc",
   "metadata": {
    "scrolled": true
   },
   "outputs": [
    {
     "data": {
      "text/plain": [
       "(80144, 14)"
      ]
     },
     "execution_count": 41,
     "metadata": {},
     "output_type": "execute_result"
    }
   ],
   "source": [
    "master_frame.shape"
   ]
  },
  {
   "cell_type": "code",
   "execution_count": 42,
   "id": "dc23eb8e",
   "metadata": {
    "scrolled": true
   },
   "outputs": [
    {
     "data": {
      "text/plain": [
       "permalink                   object\n",
       "funding_round_permalink     object\n",
       "funding_round_type          object\n",
       "funded_at                   object\n",
       "raised_amount_usd          float64\n",
       "name                        object\n",
       "homepage_url                object\n",
       "category_list               object\n",
       "status                      object\n",
       "country_code                object\n",
       "state_code                  object\n",
       "region                      object\n",
       "city                        object\n",
       "founded_at                  object\n",
       "dtype: object"
      ]
     },
     "execution_count": 42,
     "metadata": {},
     "output_type": "execute_result"
    }
   ],
   "source": [
    "#check if types are good\n",
    "master_frame.dtypes"
   ]
  },
  {
   "cell_type": "raw",
   "id": "5bdc2ee9",
   "metadata": {},
   "source": []
  },
  {
   "cell_type": "markdown",
   "id": "951f4d34",
   "metadata": {},
   "source": [
    "### Checkpoint 2: Funding Type Analysis"
   ]
  },
  {
   "cell_type": "code",
   "execution_count": 43,
   "id": "a0734d9e",
   "metadata": {},
   "outputs": [
    {
     "data": {
      "text/plain": [
       "(80144, 14)"
      ]
     },
     "execution_count": 43,
     "metadata": {},
     "output_type": "execute_result"
    }
   ],
   "source": [
    "#lets drop the rows where 'raised_amount_usd' value less than 0\n",
    "master_frame = master_frame[master_frame['raised_amount_usd'] >= 0]\n",
    "master_frame.shape"
   ]
  },
  {
   "cell_type": "code",
   "execution_count": 44,
   "id": "7268eb98",
   "metadata": {},
   "outputs": [
    {
     "data": {
      "text/html": [
       "<div>\n",
       "<style scoped>\n",
       "    .dataframe tbody tr th:only-of-type {\n",
       "        vertical-align: middle;\n",
       "    }\n",
       "\n",
       "    .dataframe tbody tr th {\n",
       "        vertical-align: top;\n",
       "    }\n",
       "\n",
       "    .dataframe thead th {\n",
       "        text-align: right;\n",
       "    }\n",
       "</style>\n",
       "<table border=\"1\" class=\"dataframe\">\n",
       "  <thead>\n",
       "    <tr style=\"text-align: right;\">\n",
       "      <th></th>\n",
       "      <th>permalink</th>\n",
       "      <th>funding_round_permalink</th>\n",
       "      <th>funding_round_type</th>\n",
       "      <th>...</th>\n",
       "      <th>region</th>\n",
       "      <th>city</th>\n",
       "      <th>founded_at</th>\n",
       "    </tr>\n",
       "  </thead>\n",
       "  <tbody>\n",
       "    <tr>\n",
       "      <th>0</th>\n",
       "      <td>/Organization/-Fame</td>\n",
       "      <td>/funding-round/9a01d05418af9f794eebff7ace91f638</td>\n",
       "      <td>venture</td>\n",
       "      <td>...</td>\n",
       "      <td>Mumbai</td>\n",
       "      <td>Mumbai</td>\n",
       "      <td>NaN</td>\n",
       "    </tr>\n",
       "    <tr>\n",
       "      <th>1</th>\n",
       "      <td>/Organization/-Qounter</td>\n",
       "      <td>/funding-round/b44fbb94153f6cdef13083530bb48030</td>\n",
       "      <td>seed</td>\n",
       "      <td>...</td>\n",
       "      <td>DE - Other</td>\n",
       "      <td>Delaware City</td>\n",
       "      <td>04-09-2014</td>\n",
       "    </tr>\n",
       "    <tr>\n",
       "      <th>2</th>\n",
       "      <td>/Organization/0-6-Com</td>\n",
       "      <td>/funding-round/5727accaeaa57461bd22a9bdd945382d</td>\n",
       "      <td>venture</td>\n",
       "      <td>...</td>\n",
       "      <td>Beijing</td>\n",
       "      <td>Beijing</td>\n",
       "      <td>01-01-2007</td>\n",
       "    </tr>\n",
       "    <tr>\n",
       "      <th>3</th>\n",
       "      <td>/Organization/01Games-Technology</td>\n",
       "      <td>/funding-round/7d53696f2b4f607a2f2a8cbb83d01839</td>\n",
       "      <td>undisclosed</td>\n",
       "      <td>...</td>\n",
       "      <td>Hong Kong</td>\n",
       "      <td>Hong Kong</td>\n",
       "      <td>NaN</td>\n",
       "    </tr>\n",
       "    <tr>\n",
       "      <th>4</th>\n",
       "      <td>/Organization/0Ndine-Biomedical-Inc</td>\n",
       "      <td>/funding-round/2b9d3ac293d5cdccbecff5c8cb0f327d</td>\n",
       "      <td>seed</td>\n",
       "      <td>...</td>\n",
       "      <td>Vancouver</td>\n",
       "      <td>Vancouver</td>\n",
       "      <td>01-01-1997</td>\n",
       "    </tr>\n",
       "  </tbody>\n",
       "</table>\n",
       "<p>5 rows × 14 columns</p>\n",
       "</div>"
      ],
      "text/plain": [
       "                             permalink  \\\n",
       "0                  /Organization/-Fame   \n",
       "1               /Organization/-Qounter   \n",
       "2                /Organization/0-6-Com   \n",
       "3     /Organization/01Games-Technology   \n",
       "4  /Organization/0Ndine-Biomedical-Inc   \n",
       "\n",
       "                           funding_round_permalink funding_round_type  ...  \\\n",
       "0  /funding-round/9a01d05418af9f794eebff7ace91f638            venture  ...   \n",
       "1  /funding-round/b44fbb94153f6cdef13083530bb48030               seed  ...   \n",
       "2  /funding-round/5727accaeaa57461bd22a9bdd945382d            venture  ...   \n",
       "3  /funding-round/7d53696f2b4f607a2f2a8cbb83d01839        undisclosed  ...   \n",
       "4  /funding-round/2b9d3ac293d5cdccbecff5c8cb0f327d               seed  ...   \n",
       "\n",
       "       region           city  founded_at  \n",
       "0      Mumbai         Mumbai         NaN  \n",
       "1  DE - Other  Delaware City  04-09-2014  \n",
       "2     Beijing        Beijing  01-01-2007  \n",
       "3   Hong Kong      Hong Kong         NaN  \n",
       "4   Vancouver      Vancouver  01-01-1997  \n",
       "\n",
       "[5 rows x 14 columns]"
      ]
     },
     "execution_count": 44,
     "metadata": {},
     "output_type": "execute_result"
    }
   ],
   "source": [
    "# reset index\n",
    "master_frame.reset_index(inplace=True, drop=True)\n",
    "master_frame.head()"
   ]
  },
  {
   "cell_type": "code",
   "execution_count": 45,
   "id": "f8eea054",
   "metadata": {
    "scrolled": false
   },
   "outputs": [
    {
     "data": {
      "text/html": [
       "<div>\n",
       "<style scoped>\n",
       "    .dataframe tbody tr th:only-of-type {\n",
       "        vertical-align: middle;\n",
       "    }\n",
       "\n",
       "    .dataframe tbody tr th {\n",
       "        vertical-align: top;\n",
       "    }\n",
       "\n",
       "    .dataframe thead th {\n",
       "        text-align: right;\n",
       "    }\n",
       "</style>\n",
       "<table border=\"1\" class=\"dataframe\">\n",
       "  <thead>\n",
       "    <tr style=\"text-align: right;\">\n",
       "      <th></th>\n",
       "      <th>permalink</th>\n",
       "      <th>funding_round_permalink</th>\n",
       "      <th>funding_round_type</th>\n",
       "      <th>...</th>\n",
       "      <th>region</th>\n",
       "      <th>city</th>\n",
       "      <th>founded_at</th>\n",
       "    </tr>\n",
       "  </thead>\n",
       "  <tbody>\n",
       "    <tr>\n",
       "      <th>0</th>\n",
       "      <td>/Organization/-Fame</td>\n",
       "      <td>/funding-round/9a01d05418af9f794eebff7ace91f638</td>\n",
       "      <td>venture</td>\n",
       "      <td>...</td>\n",
       "      <td>Mumbai</td>\n",
       "      <td>Mumbai</td>\n",
       "      <td>NaN</td>\n",
       "    </tr>\n",
       "    <tr>\n",
       "      <th>9</th>\n",
       "      <td>/Organization/0Xdata</td>\n",
       "      <td>/funding-round/e1cfcbe1bdf4c70277c5f29a3482f24e</td>\n",
       "      <td>venture</td>\n",
       "      <td>...</td>\n",
       "      <td>SF Bay Area</td>\n",
       "      <td>Mountain View</td>\n",
       "      <td>01-01-2011</td>\n",
       "    </tr>\n",
       "    <tr>\n",
       "      <th>14</th>\n",
       "      <td>/Organization/1-800-Publicrelations-Inc-</td>\n",
       "      <td>/funding-round/11c228f58831bc7ed337ef69ecc560c2</td>\n",
       "      <td>private_equity</td>\n",
       "      <td>...</td>\n",
       "      <td>New York City</td>\n",
       "      <td>New York</td>\n",
       "      <td>24-10-2013</td>\n",
       "    </tr>\n",
       "    <tr>\n",
       "      <th>15</th>\n",
       "      <td>/Organization/1-Mainstream</td>\n",
       "      <td>/funding-round/b952cbaf401f310927430c97b68162ea</td>\n",
       "      <td>venture</td>\n",
       "      <td>...</td>\n",
       "      <td>SF Bay Area</td>\n",
       "      <td>Cupertino</td>\n",
       "      <td>01-03-2012</td>\n",
       "    </tr>\n",
       "    <tr>\n",
       "      <th>34</th>\n",
       "      <td>/Organization/1001-Menus</td>\n",
       "      <td>/funding-round/645b4cd895450b8e0268027cd7813047</td>\n",
       "      <td>venture</td>\n",
       "      <td>...</td>\n",
       "      <td>Paris</td>\n",
       "      <td>Paris</td>\n",
       "      <td>20-11-2010</td>\n",
       "    </tr>\n",
       "  </tbody>\n",
       "</table>\n",
       "<p>5 rows × 14 columns</p>\n",
       "</div>"
      ],
      "text/plain": [
       "                                   permalink  \\\n",
       "0                        /Organization/-Fame   \n",
       "9                       /Organization/0Xdata   \n",
       "14  /Organization/1-800-Publicrelations-Inc-   \n",
       "15                /Organization/1-Mainstream   \n",
       "34                  /Organization/1001-Menus   \n",
       "\n",
       "                            funding_round_permalink funding_round_type  ...  \\\n",
       "0   /funding-round/9a01d05418af9f794eebff7ace91f638            venture  ...   \n",
       "9   /funding-round/e1cfcbe1bdf4c70277c5f29a3482f24e            venture  ...   \n",
       "14  /funding-round/11c228f58831bc7ed337ef69ecc560c2     private_equity  ...   \n",
       "15  /funding-round/b952cbaf401f310927430c97b68162ea            venture  ...   \n",
       "34  /funding-round/645b4cd895450b8e0268027cd7813047            venture  ...   \n",
       "\n",
       "           region           city  founded_at  \n",
       "0          Mumbai         Mumbai         NaN  \n",
       "9     SF Bay Area  Mountain View  01-01-2011  \n",
       "14  New York City       New York  24-10-2013  \n",
       "15    SF Bay Area      Cupertino  01-03-2012  \n",
       "34          Paris          Paris  20-11-2010  \n",
       "\n",
       "[5 rows x 14 columns]"
      ]
     },
     "execution_count": 45,
     "metadata": {},
     "output_type": "execute_result"
    }
   ],
   "source": [
    "# we will be keeping fund amount between from 5m to 15m, since Spark funds is interested in that range\n",
    "master_frame = master_frame.loc[((master_frame['raised_amount_usd'] >= 5000000) & (master_frame['raised_amount_usd'] <= 15000000)),:]\n",
    "master_frame.head()"
   ]
  },
  {
   "cell_type": "code",
   "execution_count": 46,
   "id": "7da62f49",
   "metadata": {},
   "outputs": [
    {
     "data": {
      "text/html": [
       "<div>\n",
       "<style scoped>\n",
       "    .dataframe tbody tr th:only-of-type {\n",
       "        vertical-align: middle;\n",
       "    }\n",
       "\n",
       "    .dataframe tbody tr th {\n",
       "        vertical-align: top;\n",
       "    }\n",
       "\n",
       "    .dataframe thead th {\n",
       "        text-align: right;\n",
       "    }\n",
       "</style>\n",
       "<table border=\"1\" class=\"dataframe\">\n",
       "  <thead>\n",
       "    <tr style=\"text-align: right;\">\n",
       "      <th></th>\n",
       "      <th>permalink</th>\n",
       "      <th>funding_round_permalink</th>\n",
       "      <th>funding_round_type</th>\n",
       "      <th>...</th>\n",
       "      <th>region</th>\n",
       "      <th>city</th>\n",
       "      <th>founded_at</th>\n",
       "    </tr>\n",
       "  </thead>\n",
       "  <tbody>\n",
       "    <tr>\n",
       "      <th>0</th>\n",
       "      <td>/Organization/-Fame</td>\n",
       "      <td>/funding-round/9a01d05418af9f794eebff7ace91f638</td>\n",
       "      <td>venture</td>\n",
       "      <td>...</td>\n",
       "      <td>Mumbai</td>\n",
       "      <td>Mumbai</td>\n",
       "      <td>NaN</td>\n",
       "    </tr>\n",
       "    <tr>\n",
       "      <th>9</th>\n",
       "      <td>/Organization/0Xdata</td>\n",
       "      <td>/funding-round/e1cfcbe1bdf4c70277c5f29a3482f24e</td>\n",
       "      <td>venture</td>\n",
       "      <td>...</td>\n",
       "      <td>SF Bay Area</td>\n",
       "      <td>Mountain View</td>\n",
       "      <td>01-01-2011</td>\n",
       "    </tr>\n",
       "    <tr>\n",
       "      <th>14</th>\n",
       "      <td>/Organization/1-800-Publicrelations-Inc-</td>\n",
       "      <td>/funding-round/11c228f58831bc7ed337ef69ecc560c2</td>\n",
       "      <td>private_equity</td>\n",
       "      <td>...</td>\n",
       "      <td>New York City</td>\n",
       "      <td>New York</td>\n",
       "      <td>24-10-2013</td>\n",
       "    </tr>\n",
       "    <tr>\n",
       "      <th>15</th>\n",
       "      <td>/Organization/1-Mainstream</td>\n",
       "      <td>/funding-round/b952cbaf401f310927430c97b68162ea</td>\n",
       "      <td>venture</td>\n",
       "      <td>...</td>\n",
       "      <td>SF Bay Area</td>\n",
       "      <td>Cupertino</td>\n",
       "      <td>01-03-2012</td>\n",
       "    </tr>\n",
       "    <tr>\n",
       "      <th>34</th>\n",
       "      <td>/Organization/1001-Menus</td>\n",
       "      <td>/funding-round/645b4cd895450b8e0268027cd7813047</td>\n",
       "      <td>venture</td>\n",
       "      <td>...</td>\n",
       "      <td>Paris</td>\n",
       "      <td>Paris</td>\n",
       "      <td>20-11-2010</td>\n",
       "    </tr>\n",
       "  </tbody>\n",
       "</table>\n",
       "<p>5 rows × 14 columns</p>\n",
       "</div>"
      ],
      "text/plain": [
       "                                   permalink  \\\n",
       "0                        /Organization/-Fame   \n",
       "9                       /Organization/0Xdata   \n",
       "14  /Organization/1-800-Publicrelations-Inc-   \n",
       "15                /Organization/1-Mainstream   \n",
       "34                  /Organization/1001-Menus   \n",
       "\n",
       "                            funding_round_permalink funding_round_type  ...  \\\n",
       "0   /funding-round/9a01d05418af9f794eebff7ace91f638            venture  ...   \n",
       "9   /funding-round/e1cfcbe1bdf4c70277c5f29a3482f24e            venture  ...   \n",
       "14  /funding-round/11c228f58831bc7ed337ef69ecc560c2     private_equity  ...   \n",
       "15  /funding-round/b952cbaf401f310927430c97b68162ea            venture  ...   \n",
       "34  /funding-round/645b4cd895450b8e0268027cd7813047            venture  ...   \n",
       "\n",
       "           region           city  founded_at  \n",
       "0          Mumbai         Mumbai         NaN  \n",
       "9     SF Bay Area  Mountain View  01-01-2011  \n",
       "14  New York City       New York  24-10-2013  \n",
       "15    SF Bay Area      Cupertino  01-03-2012  \n",
       "34          Paris          Paris  20-11-2010  \n",
       "\n",
       "[5 rows x 14 columns]"
      ]
     },
     "execution_count": 46,
     "metadata": {},
     "output_type": "execute_result"
    }
   ],
   "source": [
    "#Spark fund is interested in 'seed','angel','venture','private_equity' fund types.\n",
    "# so we keep only those fund types\n",
    "\n",
    "fund_type = [ 'seed','angel','venture','private_equity']\n",
    "master_frame = master_frame.loc[master_frame['funding_round_type'].isin(fund_type), :]\n",
    "master_frame.head()"
   ]
  },
  {
   "cell_type": "markdown",
   "id": "d4bd8e92",
   "metadata": {},
   "source": [
    "#### Ploting total investment count in each funding type"
   ]
  },
  {
   "cell_type": "code",
   "execution_count": 47,
   "id": "4ac81cd6",
   "metadata": {},
   "outputs": [
    {
     "data": {
      "text/plain": [
       "venture           14203\n",
       "private_equity      360\n",
       "seed                181\n",
       "angel                59\n",
       "Name: funding_round_type, dtype: int64"
      ]
     },
     "execution_count": 47,
     "metadata": {},
     "output_type": "execute_result"
    }
   ],
   "source": [
    "# Check Total investment count in each funding type\n",
    "master_frame['funding_round_type'].value_counts()"
   ]
  },
  {
   "cell_type": "markdown",
   "id": "3f658ceb",
   "metadata": {},
   "source": [
    "#### Ploting total investment count in each funding type"
   ]
  },
  {
   "cell_type": "code",
   "execution_count": 48,
   "id": "f838ef1b",
   "metadata": {},
   "outputs": [
    {
     "data": {
      "image/png": "[encoded data removed]",
      "text/plain": [
       "<Figure size 432x288 with 1 Axes>"
      ]
     },
     "metadata": {
      "needs_background": "light"
     },
     "output_type": "display_data"
    }
   ],
   "source": [
    "#Ploting total investment amount in each funding type\n",
    "\n",
    "p1 = master_frame.pivot_table(values = 'raised_amount_usd', \n",
    "                              index='funding_round_type', \n",
    "                              aggfunc = 'sum').sort_values(by='raised_amount_usd', ascending=False)\n",
    "p1.reset_index(level=0, inplace=True)\n",
    "\n",
    "title ='Funding Type Analysis'\n",
    "# figure(figsize=(13, 8), dpi=80)\n",
    "sns.barplot(data=p1, x=\"funding_round_type\", y=\"raised_amount_usd\")\n",
    "plt.title(title)\n",
    "plt.show()\n"
   ]
  },
  {
   "cell_type": "code",
   "execution_count": 49,
   "id": "a297325b",
   "metadata": {},
   "outputs": [
    {
     "data": {
      "image/png": "[encoded data removed]",
      "text/plain": [
       "<Figure size 432x288 with 1 Axes>"
      ]
     },
     "metadata": {
      "needs_background": "light"
     },
     "output_type": "display_data"
    }
   ],
   "source": [
    "#Ploting total investment amount in each funding type in log scale to see difference clearly\n",
    "\n",
    "cmap = cm.get_cmap('viridis') \n",
    "p1.plot(x='funding_round_type', y='raised_amount_usd', kind='bar',logy=True, colormap=cmap)#figsize=(15,8)\n",
    "plt.title(title)\n",
    "plt.show()"
   ]
  },
  {
   "cell_type": "markdown",
   "id": "e39c5778",
   "metadata": {},
   "source": [
    "#### Representative funding amount of venture type"
   ]
  },
  {
   "cell_type": "code",
   "execution_count": 50,
   "id": "0a3979d7",
   "metadata": {
    "scrolled": false
   },
   "outputs": [],
   "source": [
    "venture = master_frame.loc[(master_frame['funding_round_type']=='venture'),\n",
    "                 ['funding_round_type','raised_amount_usd']]\n"
   ]
  },
  {
   "cell_type": "code",
   "execution_count": 51,
   "id": "1d326ce5",
   "metadata": {},
   "outputs": [
    {
     "data": {
      "text/plain": [
       "8300000.0"
      ]
     },
     "execution_count": 51,
     "metadata": {},
     "output_type": "execute_result"
    }
   ],
   "source": [
    "#Representative funding amount of venture type\n",
    "np.median(venture['raised_amount_usd'])\n"
   ]
  },
  {
   "cell_type": "code",
   "execution_count": 52,
   "id": "6b51e316",
   "metadata": {},
   "outputs": [
    {
     "data": {
      "text/plain": [
       "funding_round_type  raised_amount_usd\n",
       "venture             10000000.0           1571\n",
       "                    5000000.0            1451\n",
       "                    15000000.0            952\n",
       "dtype: int64"
      ]
     },
     "execution_count": 52,
     "metadata": {},
     "output_type": "execute_result"
    }
   ],
   "source": [
    "venture = master_frame.loc[(master_frame['funding_round_type']=='venture'),\n",
    "                 ['funding_round_type','raised_amount_usd']].value_counts().head(3)\n",
    "venture"
   ]
  },
  {
   "cell_type": "markdown",
   "id": "a92820c0",
   "metadata": {},
   "source": [
    "#### Representative funding amount of seed type"
   ]
  },
  {
   "cell_type": "code",
   "execution_count": 53,
   "id": "da48c948",
   "metadata": {},
   "outputs": [
    {
     "data": {
      "text/plain": [
       "6000000.0"
      ]
     },
     "execution_count": 53,
     "metadata": {},
     "output_type": "execute_result"
    }
   ],
   "source": [
    "seed = master_frame.loc[(master_frame['funding_round_type']=='seed'),\n",
    "                 ['funding_round_type','raised_amount_usd']]\n",
    "\n",
    "np.median(seed['raised_amount_usd'])"
   ]
  },
  {
   "cell_type": "code",
   "execution_count": 54,
   "id": "94b54e09",
   "metadata": {},
   "outputs": [
    {
     "data": {
      "text/plain": [
       "funding_round_type  raised_amount_usd\n",
       "seed                5000000.0            49\n",
       "                    6000000.0            16\n",
       "                    8000000.0             8\n",
       "dtype: int64"
      ]
     },
     "execution_count": 54,
     "metadata": {},
     "output_type": "execute_result"
    }
   ],
   "source": [
    "seed = master_frame.loc[(master_frame['funding_round_type']=='seed'),\n",
    "                 ['funding_round_type','raised_amount_usd']].value_counts().head(3)\n",
    "seed"
   ]
  },
  {
   "cell_type": "markdown",
   "id": "f4fdb9b8",
   "metadata": {},
   "source": [
    "#### Representative funding amount of angel type"
   ]
  },
  {
   "cell_type": "code",
   "execution_count": 55,
   "id": "f61aa0fa",
   "metadata": {},
   "outputs": [
    {
     "data": {
      "text/plain": [
       "6400000.0"
      ]
     },
     "execution_count": 55,
     "metadata": {},
     "output_type": "execute_result"
    }
   ],
   "source": [
    "angel = master_frame.loc[(master_frame['funding_round_type']=='angel'),\n",
    "                 ['funding_round_type','raised_amount_usd']]\n",
    "\n",
    "np.median(angel['raised_amount_usd'])"
   ]
  },
  {
   "cell_type": "code",
   "execution_count": 56,
   "id": "c6574404",
   "metadata": {},
   "outputs": [
    {
     "data": {
      "text/plain": [
       "funding_round_type  raised_amount_usd\n",
       "angel               5000000.0            15\n",
       "                    10000000.0            9\n",
       "                    7000000.0             3\n",
       "dtype: int64"
      ]
     },
     "execution_count": 56,
     "metadata": {},
     "output_type": "execute_result"
    }
   ],
   "source": [
    "angel = master_frame.loc[(master_frame['funding_round_type']=='angel'),\n",
    "                 ['funding_round_type','raised_amount_usd']].value_counts().head(3)\n",
    "angel"
   ]
  },
  {
   "cell_type": "markdown",
   "id": "37e985e6",
   "metadata": {},
   "source": [
    "#### Representative funding amount of  private equity type"
   ]
  },
  {
   "cell_type": "code",
   "execution_count": 57,
   "id": "1dbd799a",
   "metadata": {},
   "outputs": [
    {
     "data": {
      "text/plain": [
       "9256528.5"
      ]
     },
     "execution_count": 57,
     "metadata": {},
     "output_type": "execute_result"
    }
   ],
   "source": [
    "private_equity = master_frame.loc[(master_frame['funding_round_type']=='private_equity'),\n",
    "                 ['funding_round_type','raised_amount_usd']]\n",
    "\n",
    "np.median(private_equity['raised_amount_usd'])"
   ]
  },
  {
   "cell_type": "code",
   "execution_count": 58,
   "id": "a0adbead",
   "metadata": {},
   "outputs": [
    {
     "data": {
      "text/plain": [
       "funding_round_type  raised_amount_usd\n",
       "private_equity      10000000.0           32\n",
       "                    5000000.0            31\n",
       "                    15000000.0           24\n",
       "dtype: int64"
      ]
     },
     "execution_count": 58,
     "metadata": {},
     "output_type": "execute_result"
    }
   ],
   "source": [
    "private_equity = master_frame.loc[(master_frame['funding_round_type']=='private_equity'),\n",
    "                 ['funding_round_type','raised_amount_usd']].value_counts().head(3)\n",
    "private_equity"
   ]
  },
  {
   "cell_type": "raw",
   "id": "6a93b3d6",
   "metadata": {},
   "source": []
  },
  {
   "cell_type": "markdown",
   "id": "b67ef994",
   "metadata": {},
   "source": [
    "####  Ploting the representative number of investments in the each funding type"
   ]
  },
  {
   "cell_type": "code",
   "execution_count": 59,
   "id": "ce9926f0",
   "metadata": {
    "scrolled": true
   },
   "outputs": [
    {
     "data": {
      "text/plain": [
       "funding_round_type  raised_amount_usd\n",
       "venture             10000000.0           1571\n",
       "                    5000000.0            1451\n",
       "                    15000000.0            952\n",
       "seed                5000000.0              49\n",
       "                    6000000.0              16\n",
       "                    8000000.0               8\n",
       "angel               5000000.0              15\n",
       "                    10000000.0              9\n",
       "                    7000000.0               3\n",
       "private_equity      10000000.0             32\n",
       "                    5000000.0              31\n",
       "                    15000000.0             24\n",
       "dtype: int64"
      ]
     },
     "execution_count": 59,
     "metadata": {},
     "output_type": "execute_result"
    }
   ],
   "source": [
    "rep_amount_in_FT = pd.concat([venture, seed, angel, private_equity], axis = 0)\n",
    "rep_amount_in_FT"
   ]
  },
  {
   "cell_type": "code",
   "execution_count": 60,
   "id": "41e81a00",
   "metadata": {
    "scrolled": false
   },
   "outputs": [
    {
     "data": {
      "image/png": "[encoded data removed]",
      "text/plain": [
       "<Figure size 1080x864 with 1 Axes>"
      ]
     },
     "metadata": {
      "needs_background": "light"
     },
     "output_type": "display_data"
    }
   ],
   "source": [
    "# Ploting the representative number of investments in the funding type\n",
    "\n",
    "cmap = cm.get_cmap('viridis') \n",
    "ax = rep_amount_in_FT.plot.bar(figsize=(15, 12),logy=True , colormap =cmap)\n",
    "title = 'the representative number of investments in the  funding type'\n",
    "plt.title(title)\n",
    "plt.show()"
   ]
  },
  {
   "cell_type": "raw",
   "id": "9dd55278",
   "metadata": {},
   "source": []
  },
  {
   "cell_type": "code",
   "execution_count": 61,
   "id": "95cd5bbe",
   "metadata": {},
   "outputs": [
    {
     "data": {
      "text/html": [
       "<div>\n",
       "<style scoped>\n",
       "    .dataframe tbody tr th:only-of-type {\n",
       "        vertical-align: middle;\n",
       "    }\n",
       "\n",
       "    .dataframe tbody tr th {\n",
       "        vertical-align: top;\n",
       "    }\n",
       "\n",
       "    .dataframe thead th {\n",
       "        text-align: right;\n",
       "    }\n",
       "</style>\n",
       "<table border=\"1\" class=\"dataframe\">\n",
       "  <thead>\n",
       "    <tr style=\"text-align: right;\">\n",
       "      <th></th>\n",
       "      <th>permalink</th>\n",
       "      <th>funding_round_permalink</th>\n",
       "      <th>funding_round_type</th>\n",
       "      <th>...</th>\n",
       "      <th>region</th>\n",
       "      <th>city</th>\n",
       "      <th>founded_at</th>\n",
       "    </tr>\n",
       "  </thead>\n",
       "  <tbody>\n",
       "    <tr>\n",
       "      <th>0</th>\n",
       "      <td>/Organization/-Fame</td>\n",
       "      <td>/funding-round/9a01d05418af9f794eebff7ace91f638</td>\n",
       "      <td>venture</td>\n",
       "      <td>...</td>\n",
       "      <td>Mumbai</td>\n",
       "      <td>Mumbai</td>\n",
       "      <td>NaN</td>\n",
       "    </tr>\n",
       "    <tr>\n",
       "      <th>1</th>\n",
       "      <td>/Organization/0Xdata</td>\n",
       "      <td>/funding-round/e1cfcbe1bdf4c70277c5f29a3482f24e</td>\n",
       "      <td>venture</td>\n",
       "      <td>...</td>\n",
       "      <td>SF Bay Area</td>\n",
       "      <td>Mountain View</td>\n",
       "      <td>01-01-2011</td>\n",
       "    </tr>\n",
       "    <tr>\n",
       "      <th>2</th>\n",
       "      <td>/Organization/1-Mainstream</td>\n",
       "      <td>/funding-round/b952cbaf401f310927430c97b68162ea</td>\n",
       "      <td>venture</td>\n",
       "      <td>...</td>\n",
       "      <td>SF Bay Area</td>\n",
       "      <td>Cupertino</td>\n",
       "      <td>01-03-2012</td>\n",
       "    </tr>\n",
       "    <tr>\n",
       "      <th>3</th>\n",
       "      <td>/Organization/1001-Menus</td>\n",
       "      <td>/funding-round/645b4cd895450b8e0268027cd7813047</td>\n",
       "      <td>venture</td>\n",
       "      <td>...</td>\n",
       "      <td>Paris</td>\n",
       "      <td>Paris</td>\n",
       "      <td>20-11-2010</td>\n",
       "    </tr>\n",
       "    <tr>\n",
       "      <th>4</th>\n",
       "      <td>/Organization/1001Pharmacies-Com</td>\n",
       "      <td>/funding-round/a21fc4d20200f43e3a25fd9cfc7c1482</td>\n",
       "      <td>venture</td>\n",
       "      <td>...</td>\n",
       "      <td>Montpellier</td>\n",
       "      <td>Montpellier</td>\n",
       "      <td>01-01-2012</td>\n",
       "    </tr>\n",
       "  </tbody>\n",
       "</table>\n",
       "<p>5 rows × 14 columns</p>\n",
       "</div>"
      ],
      "text/plain": [
       "                          permalink  \\\n",
       "0               /Organization/-Fame   \n",
       "1              /Organization/0Xdata   \n",
       "2        /Organization/1-Mainstream   \n",
       "3          /Organization/1001-Menus   \n",
       "4  /Organization/1001Pharmacies-Com   \n",
       "\n",
       "                           funding_round_permalink funding_round_type  ...  \\\n",
       "0  /funding-round/9a01d05418af9f794eebff7ace91f638            venture  ...   \n",
       "1  /funding-round/e1cfcbe1bdf4c70277c5f29a3482f24e            venture  ...   \n",
       "2  /funding-round/b952cbaf401f310927430c97b68162ea            venture  ...   \n",
       "3  /funding-round/645b4cd895450b8e0268027cd7813047            venture  ...   \n",
       "4  /funding-round/a21fc4d20200f43e3a25fd9cfc7c1482            venture  ...   \n",
       "\n",
       "        region           city  founded_at  \n",
       "0       Mumbai         Mumbai         NaN  \n",
       "1  SF Bay Area  Mountain View  01-01-2011  \n",
       "2  SF Bay Area      Cupertino  01-03-2012  \n",
       "3        Paris          Paris  20-11-2010  \n",
       "4  Montpellier    Montpellier  01-01-2012  \n",
       "\n",
       "[5 rows x 14 columns]"
      ]
     },
     "execution_count": 61,
     "metadata": {},
     "output_type": "execute_result"
    }
   ],
   "source": [
    "#We will be keeping only 'venture' funding type, since its highest investment type where most investment has happend.\n",
    "master_frame = master_frame.loc[(master_frame['funding_round_type']=='venture'),:]\n",
    "master_frame.reset_index(inplace=True, drop=True)\n",
    "master_frame.head()\n"
   ]
  },
  {
   "cell_type": "raw",
   "id": "6f462063",
   "metadata": {},
   "source": []
  },
  {
   "cell_type": "markdown",
   "id": "748e49b6",
   "metadata": {},
   "source": [
    "### Checkpoint 3: Country Analysis"
   ]
  },
  {
   "cell_type": "code",
   "execution_count": 62,
   "id": "e88d329d",
   "metadata": {
    "scrolled": false
   },
   "outputs": [
    {
     "data": {
      "text/html": [
       "<div>\n",
       "<style scoped>\n",
       "    .dataframe tbody tr th:only-of-type {\n",
       "        vertical-align: middle;\n",
       "    }\n",
       "\n",
       "    .dataframe tbody tr th {\n",
       "        vertical-align: top;\n",
       "    }\n",
       "\n",
       "    .dataframe thead th {\n",
       "        text-align: right;\n",
       "    }\n",
       "</style>\n",
       "<table border=\"1\" class=\"dataframe\">\n",
       "  <thead>\n",
       "    <tr style=\"text-align: right;\">\n",
       "      <th></th>\n",
       "      <th>country_code</th>\n",
       "      <th>raised_amount_usd</th>\n",
       "    </tr>\n",
       "  </thead>\n",
       "  <tbody>\n",
       "    <tr>\n",
       "      <th>0</th>\n",
       "      <td>USA</td>\n",
       "      <td>9.676998e+10</td>\n",
       "    </tr>\n",
       "    <tr>\n",
       "      <th>1</th>\n",
       "      <td>GBR</td>\n",
       "      <td>4.836149e+09</td>\n",
       "    </tr>\n",
       "    <tr>\n",
       "      <th>2</th>\n",
       "      <td>CHN</td>\n",
       "      <td>4.614445e+09</td>\n",
       "    </tr>\n",
       "    <tr>\n",
       "      <th>3</th>\n",
       "      <td>CAN</td>\n",
       "      <td>3.191533e+09</td>\n",
       "    </tr>\n",
       "    <tr>\n",
       "      <th>4</th>\n",
       "      <td>IND</td>\n",
       "      <td>2.818674e+09</td>\n",
       "    </tr>\n",
       "    <tr>\n",
       "      <th>5</th>\n",
       "      <td>ISR</td>\n",
       "      <td>2.595270e+09</td>\n",
       "    </tr>\n",
       "    <tr>\n",
       "      <th>6</th>\n",
       "      <td>FRA</td>\n",
       "      <td>1.902911e+09</td>\n",
       "    </tr>\n",
       "    <tr>\n",
       "      <th>7</th>\n",
       "      <td>DEU</td>\n",
       "      <td>1.632179e+09</td>\n",
       "    </tr>\n",
       "    <tr>\n",
       "      <th>8</th>\n",
       "      <td>SGP</td>\n",
       "      <td>6.310370e+08</td>\n",
       "    </tr>\n",
       "  </tbody>\n",
       "</table>\n",
       "</div>"
      ],
      "text/plain": [
       "  country_code  raised_amount_usd\n",
       "0          USA       9.676998e+10\n",
       "1          GBR       4.836149e+09\n",
       "2          CHN       4.614445e+09\n",
       "3          CAN       3.191533e+09\n",
       "4          IND       2.818674e+09\n",
       "5          ISR       2.595270e+09\n",
       "6          FRA       1.902911e+09\n",
       "7          DEU       1.632179e+09\n",
       "8          SGP       6.310370e+08"
      ]
     },
     "execution_count": 62,
     "metadata": {},
     "output_type": "execute_result"
    }
   ],
   "source": [
    "#filtering top nine countries which have received the highest total funding\n",
    "country_table = master_frame.pivot_table(values = 'raised_amount_usd', index = 'country_code', aggfunc = 'sum')\n",
    "country_table_sorted = country_table.sort_values(by='raised_amount_usd',ascending= False).head(9)\n",
    "country_table_sorted.reset_index(level=0, inplace=True)\n",
    "country_table_sorted"
   ]
  },
  {
   "cell_type": "code",
   "execution_count": 63,
   "id": "d45110a6",
   "metadata": {
    "scrolled": true
   },
   "outputs": [
    {
     "data": {
      "text/html": [
       "<div>\n",
       "<style scoped>\n",
       "    .dataframe tbody tr th:only-of-type {\n",
       "        vertical-align: middle;\n",
       "    }\n",
       "\n",
       "    .dataframe tbody tr th {\n",
       "        vertical-align: top;\n",
       "    }\n",
       "\n",
       "    .dataframe thead th {\n",
       "        text-align: right;\n",
       "    }\n",
       "</style>\n",
       "<table border=\"1\" class=\"dataframe\">\n",
       "  <thead>\n",
       "    <tr style=\"text-align: right;\">\n",
       "      <th></th>\n",
       "      <th>permalink</th>\n",
       "      <th>funding_round_permalink</th>\n",
       "      <th>funding_round_type</th>\n",
       "      <th>...</th>\n",
       "      <th>region</th>\n",
       "      <th>city</th>\n",
       "      <th>founded_at</th>\n",
       "    </tr>\n",
       "  </thead>\n",
       "  <tbody>\n",
       "    <tr>\n",
       "      <th>0</th>\n",
       "      <td>/Organization/-Fame</td>\n",
       "      <td>/funding-round/9a01d05418af9f794eebff7ace91f638</td>\n",
       "      <td>venture</td>\n",
       "      <td>...</td>\n",
       "      <td>Mumbai</td>\n",
       "      <td>Mumbai</td>\n",
       "      <td>NaN</td>\n",
       "    </tr>\n",
       "    <tr>\n",
       "      <th>1</th>\n",
       "      <td>/Organization/0Xdata</td>\n",
       "      <td>/funding-round/e1cfcbe1bdf4c70277c5f29a3482f24e</td>\n",
       "      <td>venture</td>\n",
       "      <td>...</td>\n",
       "      <td>SF Bay Area</td>\n",
       "      <td>Mountain View</td>\n",
       "      <td>01-01-2011</td>\n",
       "    </tr>\n",
       "    <tr>\n",
       "      <th>2</th>\n",
       "      <td>/Organization/1-Mainstream</td>\n",
       "      <td>/funding-round/b952cbaf401f310927430c97b68162ea</td>\n",
       "      <td>venture</td>\n",
       "      <td>...</td>\n",
       "      <td>SF Bay Area</td>\n",
       "      <td>Cupertino</td>\n",
       "      <td>01-03-2012</td>\n",
       "    </tr>\n",
       "    <tr>\n",
       "      <th>3</th>\n",
       "      <td>/Organization/1001-Menus</td>\n",
       "      <td>/funding-round/645b4cd895450b8e0268027cd7813047</td>\n",
       "      <td>venture</td>\n",
       "      <td>...</td>\n",
       "      <td>Paris</td>\n",
       "      <td>Paris</td>\n",
       "      <td>20-11-2010</td>\n",
       "    </tr>\n",
       "    <tr>\n",
       "      <th>4</th>\n",
       "      <td>/Organization/1001Pharmacies-Com</td>\n",
       "      <td>/funding-round/a21fc4d20200f43e3a25fd9cfc7c1482</td>\n",
       "      <td>venture</td>\n",
       "      <td>...</td>\n",
       "      <td>Montpellier</td>\n",
       "      <td>Montpellier</td>\n",
       "      <td>01-01-2012</td>\n",
       "    </tr>\n",
       "  </tbody>\n",
       "</table>\n",
       "<p>5 rows × 14 columns</p>\n",
       "</div>"
      ],
      "text/plain": [
       "                          permalink  \\\n",
       "0               /Organization/-Fame   \n",
       "1              /Organization/0Xdata   \n",
       "2        /Organization/1-Mainstream   \n",
       "3          /Organization/1001-Menus   \n",
       "4  /Organization/1001Pharmacies-Com   \n",
       "\n",
       "                           funding_round_permalink funding_round_type  ...  \\\n",
       "0  /funding-round/9a01d05418af9f794eebff7ace91f638            venture  ...   \n",
       "1  /funding-round/e1cfcbe1bdf4c70277c5f29a3482f24e            venture  ...   \n",
       "2  /funding-round/b952cbaf401f310927430c97b68162ea            venture  ...   \n",
       "3  /funding-round/645b4cd895450b8e0268027cd7813047            venture  ...   \n",
       "4  /funding-round/a21fc4d20200f43e3a25fd9cfc7c1482            venture  ...   \n",
       "\n",
       "        region           city  founded_at  \n",
       "0       Mumbai         Mumbai         NaN  \n",
       "1  SF Bay Area  Mountain View  01-01-2011  \n",
       "2  SF Bay Area      Cupertino  01-03-2012  \n",
       "3        Paris          Paris  20-11-2010  \n",
       "4  Montpellier    Montpellier  01-01-2012  \n",
       "\n",
       "[5 rows x 14 columns]"
      ]
     },
     "execution_count": 63,
     "metadata": {},
     "output_type": "execute_result"
    }
   ],
   "source": [
    "#Creating top9 dataframe using 'country_table_sorted' data frame, here we have only top nine countries investment details.\n",
    "top9 = master_frame[master_frame['country_code'].isin(list(country_table_sorted.country_code))]\n",
    "top9.head()"
   ]
  },
  {
   "cell_type": "code",
   "execution_count": 64,
   "id": "5606cb7b",
   "metadata": {},
   "outputs": [
    {
     "data": {
      "text/plain": [
       "(13330, 14)"
      ]
     },
     "execution_count": 64,
     "metadata": {},
     "output_type": "execute_result"
    }
   ],
   "source": [
    "top9.shape"
   ]
  },
  {
   "cell_type": "code",
   "execution_count": 65,
   "id": "4079354c",
   "metadata": {},
   "outputs": [
    {
     "data": {
      "text/html": [
       "<div>\n",
       "<style scoped>\n",
       "    .dataframe tbody tr th:only-of-type {\n",
       "        vertical-align: middle;\n",
       "    }\n",
       "\n",
       "    .dataframe tbody tr th {\n",
       "        vertical-align: top;\n",
       "    }\n",
       "\n",
       "    .dataframe thead th {\n",
       "        text-align: right;\n",
       "    }\n",
       "</style>\n",
       "<table border=\"1\" class=\"dataframe\">\n",
       "  <thead>\n",
       "    <tr style=\"text-align: right;\">\n",
       "      <th></th>\n",
       "      <th>permalink</th>\n",
       "      <th>funding_round_permalink</th>\n",
       "      <th>funding_round_type</th>\n",
       "      <th>...</th>\n",
       "      <th>city</th>\n",
       "      <th>founded_at</th>\n",
       "      <th>speaks_english</th>\n",
       "    </tr>\n",
       "  </thead>\n",
       "  <tbody>\n",
       "    <tr>\n",
       "      <th>0</th>\n",
       "      <td>/Organization/-Fame</td>\n",
       "      <td>/funding-round/9a01d05418af9f794eebff7ace91f638</td>\n",
       "      <td>venture</td>\n",
       "      <td>...</td>\n",
       "      <td>Mumbai</td>\n",
       "      <td>NaN</td>\n",
       "      <td>0</td>\n",
       "    </tr>\n",
       "    <tr>\n",
       "      <th>1</th>\n",
       "      <td>/Organization/0Xdata</td>\n",
       "      <td>/funding-round/e1cfcbe1bdf4c70277c5f29a3482f24e</td>\n",
       "      <td>venture</td>\n",
       "      <td>...</td>\n",
       "      <td>Mountain View</td>\n",
       "      <td>01-01-2011</td>\n",
       "      <td>1</td>\n",
       "    </tr>\n",
       "    <tr>\n",
       "      <th>2</th>\n",
       "      <td>/Organization/1-Mainstream</td>\n",
       "      <td>/funding-round/b952cbaf401f310927430c97b68162ea</td>\n",
       "      <td>venture</td>\n",
       "      <td>...</td>\n",
       "      <td>Cupertino</td>\n",
       "      <td>01-03-2012</td>\n",
       "      <td>1</td>\n",
       "    </tr>\n",
       "    <tr>\n",
       "      <th>3</th>\n",
       "      <td>/Organization/1001-Menus</td>\n",
       "      <td>/funding-round/645b4cd895450b8e0268027cd7813047</td>\n",
       "      <td>venture</td>\n",
       "      <td>...</td>\n",
       "      <td>Paris</td>\n",
       "      <td>20-11-2010</td>\n",
       "      <td>0</td>\n",
       "    </tr>\n",
       "    <tr>\n",
       "      <th>4</th>\n",
       "      <td>/Organization/1001Pharmacies-Com</td>\n",
       "      <td>/funding-round/a21fc4d20200f43e3a25fd9cfc7c1482</td>\n",
       "      <td>venture</td>\n",
       "      <td>...</td>\n",
       "      <td>Montpellier</td>\n",
       "      <td>01-01-2012</td>\n",
       "      <td>0</td>\n",
       "    </tr>\n",
       "  </tbody>\n",
       "</table>\n",
       "<p>5 rows × 15 columns</p>\n",
       "</div>"
      ],
      "text/plain": [
       "                          permalink  \\\n",
       "0               /Organization/-Fame   \n",
       "1              /Organization/0Xdata   \n",
       "2        /Organization/1-Mainstream   \n",
       "3          /Organization/1001-Menus   \n",
       "4  /Organization/1001Pharmacies-Com   \n",
       "\n",
       "                           funding_round_permalink funding_round_type  ...  \\\n",
       "0  /funding-round/9a01d05418af9f794eebff7ace91f638            venture  ...   \n",
       "1  /funding-round/e1cfcbe1bdf4c70277c5f29a3482f24e            venture  ...   \n",
       "2  /funding-round/b952cbaf401f310927430c97b68162ea            venture  ...   \n",
       "3  /funding-round/645b4cd895450b8e0268027cd7813047            venture  ...   \n",
       "4  /funding-round/a21fc4d20200f43e3a25fd9cfc7c1482            venture  ...   \n",
       "\n",
       "            city  founded_at speaks_english  \n",
       "0         Mumbai         NaN              0  \n",
       "1  Mountain View  01-01-2011              1  \n",
       "2      Cupertino  01-03-2012              1  \n",
       "3          Paris  20-11-2010              0  \n",
       "4    Montpellier  01-01-2012              0  \n",
       "\n",
       "[5 rows x 15 columns]"
      ]
     },
     "execution_count": 65,
     "metadata": {},
     "output_type": "execute_result"
    }
   ],
   "source": [
    "# dictory for country where primery language is english\n",
    "# 1 for yes, 0 for no\n",
    "country_dict = {'USA':1, 'GBR':1, 'CHN':0, 'CAN':1, 'IND':0, 'ISR':0, 'FRA':0, 'DEU':0, 'SGP':1}\n",
    "\n",
    "#Creating 'speaks_english'column where we get which country's primary language is english\n",
    "top9['speaks_english']= top9['country_code'].apply(lambda x: country_dict[x])\n",
    "top9.head()"
   ]
  },
  {
   "cell_type": "markdown",
   "id": "27c661e3",
   "metadata": {},
   "source": [
    "#### Ploting the top 9 countries against the total amount of investments of funding type \"Venture\""
   ]
  },
  {
   "cell_type": "code",
   "execution_count": 66,
   "id": "ffc5c96d",
   "metadata": {
    "scrolled": false
   },
   "outputs": [
    {
     "data": {
      "image/png": "[encoded data removed]",
      "text/plain": [
       "<Figure size 1040x640 with 1 Axes>"
      ]
     },
     "metadata": {
      "needs_background": "light"
     },
     "output_type": "display_data"
    }
   ],
   "source": [
    "title ='The top 9 countries against the total amount of investments'\n",
    "figure(figsize=(13, 8), dpi=80)\n",
    "sns.barplot(data=country_table_sorted, x=\"country_code\", y=\"raised_amount_usd\")\n",
    "plt.title(title)\n",
    "plt.show()"
   ]
  },
  {
   "cell_type": "code",
   "execution_count": 67,
   "id": "2d637c58",
   "metadata": {
    "scrolled": false
   },
   "outputs": [
    {
     "data": {
      "image/png": "[encoded data removed]",
      "text/plain": [
       "<Figure size 1080x576 with 1 Axes>"
      ]
     },
     "metadata": {
      "needs_background": "light"
     },
     "output_type": "display_data"
    }
   ],
   "source": [
    "# Same plot with log scale to see the difference clearly\n",
    "cmap = cm.get_cmap('viridis') \n",
    "country_table_sorted.plot(x='country_code', y='raised_amount_usd', kind='bar',logy=True, colormap=cmap, figsize=(15,8))\n",
    "plt.title(title)\n",
    "plt.show()"
   ]
  },
  {
   "cell_type": "code",
   "execution_count": 68,
   "id": "521c4175",
   "metadata": {},
   "outputs": [
    {
     "data": {
      "text/plain": [
       "(11814, 15)"
      ]
     },
     "execution_count": 68,
     "metadata": {},
     "output_type": "execute_result"
    }
   ],
   "source": [
    "#droping rows where english is not primary language, since Spark fund want to invest in the countries english is primary language\n",
    "top_eng_countries = top9[top9['speaks_english']==1]\n",
    "top_eng_countries.shape"
   ]
  },
  {
   "cell_type": "markdown",
   "id": "e2fa1d8c",
   "metadata": {},
   "source": [
    "#### Top 3 English-Speaking Countries"
   ]
  },
  {
   "cell_type": "code",
   "execution_count": 69,
   "id": "5508635d",
   "metadata": {},
   "outputs": [
    {
     "data": {
      "text/html": [
       "<div>\n",
       "<style scoped>\n",
       "    .dataframe tbody tr th:only-of-type {\n",
       "        vertical-align: middle;\n",
       "    }\n",
       "\n",
       "    .dataframe tbody tr th {\n",
       "        vertical-align: top;\n",
       "    }\n",
       "\n",
       "    .dataframe thead th {\n",
       "        text-align: right;\n",
       "    }\n",
       "</style>\n",
       "<table border=\"1\" class=\"dataframe\">\n",
       "  <thead>\n",
       "    <tr style=\"text-align: right;\">\n",
       "      <th></th>\n",
       "      <th>raised_amount_usd</th>\n",
       "    </tr>\n",
       "    <tr>\n",
       "      <th>country_code</th>\n",
       "      <th></th>\n",
       "    </tr>\n",
       "  </thead>\n",
       "  <tbody>\n",
       "    <tr>\n",
       "      <th>USA</th>\n",
       "      <td>9.676998e+10</td>\n",
       "    </tr>\n",
       "    <tr>\n",
       "      <th>GBR</th>\n",
       "      <td>4.836149e+09</td>\n",
       "    </tr>\n",
       "    <tr>\n",
       "      <th>CAN</th>\n",
       "      <td>3.191533e+09</td>\n",
       "    </tr>\n",
       "    <tr>\n",
       "      <th>SGP</th>\n",
       "      <td>6.310370e+08</td>\n",
       "    </tr>\n",
       "  </tbody>\n",
       "</table>\n",
       "</div>"
      ],
      "text/plain": [
       "              raised_amount_usd\n",
       "country_code                   \n",
       "USA                9.676998e+10\n",
       "GBR                4.836149e+09\n",
       "CAN                3.191533e+09\n",
       "SGP                6.310370e+08"
      ]
     },
     "execution_count": 69,
     "metadata": {},
     "output_type": "execute_result"
    }
   ],
   "source": [
    "# Top 3 English-Speaking Countries\n",
    "top_eng_countries.pivot_table(values = 'raised_amount_usd', index = 'country_code', \n",
    "                              aggfunc = 'sum').sort_values(by='raised_amount_usd', ascending=False)"
   ]
  },
  {
   "cell_type": "raw",
   "id": "4b61cfa7",
   "metadata": {},
   "source": []
  },
  {
   "cell_type": "markdown",
   "id": "8a06dfbb",
   "metadata": {},
   "source": [
    "### Checkpoint 4: Sector Analysis 1"
   ]
  },
  {
   "cell_type": "markdown",
   "id": "cc362107",
   "metadata": {},
   "source": [
    "#### Extracting primary sector"
   ]
  },
  {
   "cell_type": "code",
   "execution_count": 70,
   "id": "4893db11",
   "metadata": {},
   "outputs": [
    {
     "data": {
      "text/html": [
       "<div>\n",
       "<style scoped>\n",
       "    .dataframe tbody tr th:only-of-type {\n",
       "        vertical-align: middle;\n",
       "    }\n",
       "\n",
       "    .dataframe tbody tr th {\n",
       "        vertical-align: top;\n",
       "    }\n",
       "\n",
       "    .dataframe thead th {\n",
       "        text-align: right;\n",
       "    }\n",
       "</style>\n",
       "<table border=\"1\" class=\"dataframe\">\n",
       "  <thead>\n",
       "    <tr style=\"text-align: right;\">\n",
       "      <th></th>\n",
       "      <th>permalink</th>\n",
       "      <th>funding_round_permalink</th>\n",
       "      <th>funding_round_type</th>\n",
       "      <th>...</th>\n",
       "      <th>founded_at</th>\n",
       "      <th>speaks_english</th>\n",
       "      <th>primary_sector</th>\n",
       "    </tr>\n",
       "  </thead>\n",
       "  <tbody>\n",
       "    <tr>\n",
       "      <th>1</th>\n",
       "      <td>/Organization/0Xdata</td>\n",
       "      <td>/funding-round/e1cfcbe1bdf4c70277c5f29a3482f24e</td>\n",
       "      <td>venture</td>\n",
       "      <td>...</td>\n",
       "      <td>01-01-2011</td>\n",
       "      <td>1</td>\n",
       "      <td>Analytics</td>\n",
       "    </tr>\n",
       "    <tr>\n",
       "      <th>2</th>\n",
       "      <td>/Organization/1-Mainstream</td>\n",
       "      <td>/funding-round/b952cbaf401f310927430c97b68162ea</td>\n",
       "      <td>venture</td>\n",
       "      <td>...</td>\n",
       "      <td>01-03-2012</td>\n",
       "      <td>1</td>\n",
       "      <td>Apps</td>\n",
       "    </tr>\n",
       "    <tr>\n",
       "      <th>7</th>\n",
       "      <td>/Organization/128-Technology</td>\n",
       "      <td>/funding-round/fb6216a30cb566ede89e0bee0623a634</td>\n",
       "      <td>venture</td>\n",
       "      <td>...</td>\n",
       "      <td>07-07-2014</td>\n",
       "      <td>1</td>\n",
       "      <td>Service Providers</td>\n",
       "    </tr>\n",
       "    <tr>\n",
       "      <th>8</th>\n",
       "      <td>/Organization/1366-Technologies</td>\n",
       "      <td>/funding-round/424129ce1235cfab2655ee81305f7c2b</td>\n",
       "      <td>venture</td>\n",
       "      <td>...</td>\n",
       "      <td>01-01-2007</td>\n",
       "      <td>1</td>\n",
       "      <td>Manufacturing</td>\n",
       "    </tr>\n",
       "    <tr>\n",
       "      <th>9</th>\n",
       "      <td>/Organization/1366-Technologies</td>\n",
       "      <td>/funding-round/6d3f3797371956ece035b8478c1441b2</td>\n",
       "      <td>venture</td>\n",
       "      <td>...</td>\n",
       "      <td>01-01-2007</td>\n",
       "      <td>1</td>\n",
       "      <td>Manufacturing</td>\n",
       "    </tr>\n",
       "  </tbody>\n",
       "</table>\n",
       "<p>5 rows × 16 columns</p>\n",
       "</div>"
      ],
      "text/plain": [
       "                         permalink  \\\n",
       "1             /Organization/0Xdata   \n",
       "2       /Organization/1-Mainstream   \n",
       "7     /Organization/128-Technology   \n",
       "8  /Organization/1366-Technologies   \n",
       "9  /Organization/1366-Technologies   \n",
       "\n",
       "                           funding_round_permalink funding_round_type  ...  \\\n",
       "1  /funding-round/e1cfcbe1bdf4c70277c5f29a3482f24e            venture  ...   \n",
       "2  /funding-round/b952cbaf401f310927430c97b68162ea            venture  ...   \n",
       "7  /funding-round/fb6216a30cb566ede89e0bee0623a634            venture  ...   \n",
       "8  /funding-round/424129ce1235cfab2655ee81305f7c2b            venture  ...   \n",
       "9  /funding-round/6d3f3797371956ece035b8478c1441b2            venture  ...   \n",
       "\n",
       "   founded_at  speaks_english     primary_sector  \n",
       "1  01-01-2011               1          Analytics  \n",
       "2  01-03-2012               1               Apps  \n",
       "7  07-07-2014               1  Service Providers  \n",
       "8  01-01-2007               1      Manufacturing  \n",
       "9  01-01-2007               1      Manufacturing  \n",
       "\n",
       "[5 rows x 16 columns]"
      ]
     },
     "execution_count": 70,
     "metadata": {},
     "output_type": "execute_result"
    }
   ],
   "source": [
    "# Extract the primary sector of each category list from the category_list column\n",
    "\n",
    "top_eng_countries['primary_sector'] = top_eng_countries['category_list'].apply(lambda x : x.split('|')[0])\n",
    "top_eng_countries.head()"
   ]
  },
  {
   "cell_type": "code",
   "execution_count": 71,
   "id": "bf772678",
   "metadata": {},
   "outputs": [
    {
     "data": {
      "text/html": [
       "<div>\n",
       "<style scoped>\n",
       "    .dataframe tbody tr th:only-of-type {\n",
       "        vertical-align: middle;\n",
       "    }\n",
       "\n",
       "    .dataframe tbody tr th {\n",
       "        vertical-align: top;\n",
       "    }\n",
       "\n",
       "    .dataframe thead th {\n",
       "        text-align: right;\n",
       "    }\n",
       "</style>\n",
       "<table border=\"1\" class=\"dataframe\">\n",
       "  <thead>\n",
       "    <tr style=\"text-align: right;\">\n",
       "      <th></th>\n",
       "      <th>category_list</th>\n",
       "      <th>Automotive &amp; Sports</th>\n",
       "      <th>Blanks</th>\n",
       "      <th>...</th>\n",
       "      <th>News, Search and Messaging</th>\n",
       "      <th>Others</th>\n",
       "      <th>Social, Finance, Analytics, Advertising</th>\n",
       "    </tr>\n",
       "  </thead>\n",
       "  <tbody>\n",
       "    <tr>\n",
       "      <th>0</th>\n",
       "      <td>NaN</td>\n",
       "      <td>0</td>\n",
       "      <td>1</td>\n",
       "      <td>...</td>\n",
       "      <td>0</td>\n",
       "      <td>0</td>\n",
       "      <td>0</td>\n",
       "    </tr>\n",
       "    <tr>\n",
       "      <th>1</th>\n",
       "      <td>3D</td>\n",
       "      <td>0</td>\n",
       "      <td>0</td>\n",
       "      <td>...</td>\n",
       "      <td>0</td>\n",
       "      <td>0</td>\n",
       "      <td>0</td>\n",
       "    </tr>\n",
       "    <tr>\n",
       "      <th>2</th>\n",
       "      <td>3D Printing</td>\n",
       "      <td>0</td>\n",
       "      <td>0</td>\n",
       "      <td>...</td>\n",
       "      <td>0</td>\n",
       "      <td>0</td>\n",
       "      <td>0</td>\n",
       "    </tr>\n",
       "    <tr>\n",
       "      <th>3</th>\n",
       "      <td>3D Technology</td>\n",
       "      <td>0</td>\n",
       "      <td>0</td>\n",
       "      <td>...</td>\n",
       "      <td>0</td>\n",
       "      <td>0</td>\n",
       "      <td>0</td>\n",
       "    </tr>\n",
       "    <tr>\n",
       "      <th>4</th>\n",
       "      <td>Accounting</td>\n",
       "      <td>0</td>\n",
       "      <td>0</td>\n",
       "      <td>...</td>\n",
       "      <td>0</td>\n",
       "      <td>0</td>\n",
       "      <td>1</td>\n",
       "    </tr>\n",
       "  </tbody>\n",
       "</table>\n",
       "<p>5 rows × 10 columns</p>\n",
       "</div>"
      ],
      "text/plain": [
       "   category_list  Automotive & Sports  Blanks  ...  \\\n",
       "0            NaN                    0       1  ...   \n",
       "1             3D                    0       0  ...   \n",
       "2    3D Printing                    0       0  ...   \n",
       "3  3D Technology                    0       0  ...   \n",
       "4     Accounting                    0       0  ...   \n",
       "\n",
       "   News, Search and Messaging  Others  Social, Finance, Analytics, Advertising  \n",
       "0                           0       0                                        0  \n",
       "1                           0       0                                        0  \n",
       "2                           0       0                                        0  \n",
       "3                           0       0                                        0  \n",
       "4                           0       0                                        1  \n",
       "\n",
       "[5 rows x 10 columns]"
      ]
     },
     "execution_count": 71,
     "metadata": {},
     "output_type": "execute_result"
    }
   ],
   "source": [
    "# Loading mapping data\n",
    "mapping = pd.read_csv('mapping.csv', encoding = 'ISO-8859-1')\n",
    "mapping.head()"
   ]
  },
  {
   "cell_type": "code",
   "execution_count": 72,
   "id": "3f57eb92",
   "metadata": {
    "scrolled": true
   },
   "outputs": [
    {
     "data": {
      "text/html": [
       "<div>\n",
       "<style scoped>\n",
       "    .dataframe tbody tr th:only-of-type {\n",
       "        vertical-align: middle;\n",
       "    }\n",
       "\n",
       "    .dataframe tbody tr th {\n",
       "        vertical-align: top;\n",
       "    }\n",
       "\n",
       "    .dataframe thead th {\n",
       "        text-align: right;\n",
       "    }\n",
       "</style>\n",
       "<table border=\"1\" class=\"dataframe\">\n",
       "  <thead>\n",
       "    <tr style=\"text-align: right;\">\n",
       "      <th></th>\n",
       "      <th>category_list</th>\n",
       "      <th>Automotive &amp; Sports</th>\n",
       "      <th>Cleantech / Semiconductors</th>\n",
       "      <th>...</th>\n",
       "      <th>News, Search and Messaging</th>\n",
       "      <th>Others</th>\n",
       "      <th>Social, Finance, Analytics, Advertising</th>\n",
       "    </tr>\n",
       "  </thead>\n",
       "  <tbody>\n",
       "    <tr>\n",
       "      <th>1</th>\n",
       "      <td>3D</td>\n",
       "      <td>0</td>\n",
       "      <td>0</td>\n",
       "      <td>...</td>\n",
       "      <td>0</td>\n",
       "      <td>0</td>\n",
       "      <td>0</td>\n",
       "    </tr>\n",
       "    <tr>\n",
       "      <th>2</th>\n",
       "      <td>3D Printing</td>\n",
       "      <td>0</td>\n",
       "      <td>0</td>\n",
       "      <td>...</td>\n",
       "      <td>0</td>\n",
       "      <td>0</td>\n",
       "      <td>0</td>\n",
       "    </tr>\n",
       "    <tr>\n",
       "      <th>3</th>\n",
       "      <td>3D Technology</td>\n",
       "      <td>0</td>\n",
       "      <td>0</td>\n",
       "      <td>...</td>\n",
       "      <td>0</td>\n",
       "      <td>0</td>\n",
       "      <td>0</td>\n",
       "    </tr>\n",
       "    <tr>\n",
       "      <th>4</th>\n",
       "      <td>Accounting</td>\n",
       "      <td>0</td>\n",
       "      <td>0</td>\n",
       "      <td>...</td>\n",
       "      <td>0</td>\n",
       "      <td>0</td>\n",
       "      <td>1</td>\n",
       "    </tr>\n",
       "    <tr>\n",
       "      <th>5</th>\n",
       "      <td>Active Lifestyle</td>\n",
       "      <td>0</td>\n",
       "      <td>0</td>\n",
       "      <td>...</td>\n",
       "      <td>0</td>\n",
       "      <td>0</td>\n",
       "      <td>0</td>\n",
       "    </tr>\n",
       "  </tbody>\n",
       "</table>\n",
       "<p>5 rows × 9 columns</p>\n",
       "</div>"
      ],
      "text/plain": [
       "      category_list  Automotive & Sports  Cleantech / Semiconductors  ...  \\\n",
       "1                3D                    0                           0  ...   \n",
       "2       3D Printing                    0                           0  ...   \n",
       "3     3D Technology                    0                           0  ...   \n",
       "4        Accounting                    0                           0  ...   \n",
       "5  Active Lifestyle                    0                           0  ...   \n",
       "\n",
       "   News, Search and Messaging  Others  Social, Finance, Analytics, Advertising  \n",
       "1                           0       0                                        0  \n",
       "2                           0       0                                        0  \n",
       "3                           0       0                                        0  \n",
       "4                           0       0                                        1  \n",
       "5                           0       0                                        0  \n",
       "\n",
       "[5 rows x 9 columns]"
      ]
     },
     "execution_count": 72,
     "metadata": {},
     "output_type": "execute_result"
    }
   ],
   "source": [
    "#Removing rows where entire rom has NAN values, and droping 'Blanks' column\n",
    "mapping = mapping[mapping['Blanks']!=1]\n",
    "mapping = mapping.drop('Blanks', axis=1)\n",
    "mapping.head()"
   ]
  },
  {
   "cell_type": "code",
   "execution_count": 73,
   "id": "81d13fff",
   "metadata": {},
   "outputs": [],
   "source": [
    "#reseting index\n",
    "top_eng_countries.reset_index(inplace=True, drop=True)"
   ]
  },
  {
   "cell_type": "code",
   "execution_count": 74,
   "id": "1e4e01eb",
   "metadata": {
    "scrolled": true
   },
   "outputs": [
    {
     "data": {
      "text/plain": [
       "Index(['category_list', 'Automotive & Sports', 'Cleantech / Semiconductors',\n",
       "       'Entertainment', 'Health', 'Manufacturing',\n",
       "       'News, Search and Messaging', 'Others',\n",
       "       'Social, Finance, Analytics, Advertising'],\n",
       "      dtype='object')"
      ]
     },
     "execution_count": 74,
     "metadata": {},
     "output_type": "execute_result"
    }
   ],
   "source": [
    "mapping.columns"
   ]
  },
  {
   "cell_type": "code",
   "execution_count": 75,
   "id": "24c8b647",
   "metadata": {
    "scrolled": true
   },
   "outputs": [
    {
     "data": {
      "text/html": [
       "<div>\n",
       "<style scoped>\n",
       "    .dataframe tbody tr th:only-of-type {\n",
       "        vertical-align: middle;\n",
       "    }\n",
       "\n",
       "    .dataframe tbody tr th {\n",
       "        vertical-align: top;\n",
       "    }\n",
       "\n",
       "    .dataframe thead th {\n",
       "        text-align: right;\n",
       "    }\n",
       "</style>\n",
       "<table border=\"1\" class=\"dataframe\">\n",
       "  <thead>\n",
       "    <tr style=\"text-align: right;\">\n",
       "      <th></th>\n",
       "      <th>category_list</th>\n",
       "      <th>variable</th>\n",
       "      <th>value</th>\n",
       "    </tr>\n",
       "  </thead>\n",
       "  <tbody>\n",
       "    <tr>\n",
       "      <th>0</th>\n",
       "      <td>3D</td>\n",
       "      <td>Automotive &amp; Sports</td>\n",
       "      <td>0</td>\n",
       "    </tr>\n",
       "    <tr>\n",
       "      <th>1</th>\n",
       "      <td>3D Printing</td>\n",
       "      <td>Automotive &amp; Sports</td>\n",
       "      <td>0</td>\n",
       "    </tr>\n",
       "    <tr>\n",
       "      <th>2</th>\n",
       "      <td>3D Technology</td>\n",
       "      <td>Automotive &amp; Sports</td>\n",
       "      <td>0</td>\n",
       "    </tr>\n",
       "    <tr>\n",
       "      <th>3</th>\n",
       "      <td>Accounting</td>\n",
       "      <td>Automotive &amp; Sports</td>\n",
       "      <td>0</td>\n",
       "    </tr>\n",
       "    <tr>\n",
       "      <th>4</th>\n",
       "      <td>Active Lifestyle</td>\n",
       "      <td>Automotive &amp; Sports</td>\n",
       "      <td>0</td>\n",
       "    </tr>\n",
       "  </tbody>\n",
       "</table>\n",
       "</div>"
      ],
      "text/plain": [
       "      category_list             variable  value\n",
       "0                3D  Automotive & Sports      0\n",
       "1       3D Printing  Automotive & Sports      0\n",
       "2     3D Technology  Automotive & Sports      0\n",
       "3        Accounting  Automotive & Sports      0\n",
       "4  Active Lifestyle  Automotive & Sports      0"
      ]
     },
     "execution_count": 75,
     "metadata": {},
     "output_type": "execute_result"
    }
   ],
   "source": [
    "#Converting wide data frame to lond data frame\n",
    "value_vars = list(mapping.columns[1:])\n",
    "\n",
    "mapping_modified = pd.melt(mapping, id_vars=['category_list'], value_vars=value_vars)\n",
    "mapping_modified.head()"
   ]
  },
  {
   "cell_type": "code",
   "execution_count": 76,
   "id": "93146256",
   "metadata": {},
   "outputs": [
    {
     "data": {
      "text/html": [
       "<div>\n",
       "<style scoped>\n",
       "    .dataframe tbody tr th:only-of-type {\n",
       "        vertical-align: middle;\n",
       "    }\n",
       "\n",
       "    .dataframe tbody tr th {\n",
       "        vertical-align: top;\n",
       "    }\n",
       "\n",
       "    .dataframe thead th {\n",
       "        text-align: right;\n",
       "    }\n",
       "</style>\n",
       "<table border=\"1\" class=\"dataframe\">\n",
       "  <thead>\n",
       "    <tr style=\"text-align: right;\">\n",
       "      <th></th>\n",
       "      <th>category_list</th>\n",
       "      <th>variable</th>\n",
       "      <th>value</th>\n",
       "    </tr>\n",
       "  </thead>\n",
       "  <tbody>\n",
       "    <tr>\n",
       "      <th>7</th>\n",
       "      <td>Adventure Travel</td>\n",
       "      <td>Automotive &amp; Sports</td>\n",
       "      <td>1</td>\n",
       "    </tr>\n",
       "    <tr>\n",
       "      <th>13</th>\n",
       "      <td>Aerospace</td>\n",
       "      <td>Automotive &amp; Sports</td>\n",
       "      <td>1</td>\n",
       "    </tr>\n",
       "    <tr>\n",
       "      <th>44</th>\n",
       "      <td>Auto</td>\n",
       "      <td>Automotive &amp; Sports</td>\n",
       "      <td>1</td>\n",
       "    </tr>\n",
       "    <tr>\n",
       "      <th>45</th>\n",
       "      <td>Automated Kiosk</td>\n",
       "      <td>Automotive &amp; Sports</td>\n",
       "      <td>1</td>\n",
       "    </tr>\n",
       "    <tr>\n",
       "      <th>46</th>\n",
       "      <td>Automotive</td>\n",
       "      <td>Automotive &amp; Sports</td>\n",
       "      <td>1</td>\n",
       "    </tr>\n",
       "  </tbody>\n",
       "</table>\n",
       "</div>"
      ],
      "text/plain": [
       "       category_list             variable  value\n",
       "7   Adventure Travel  Automotive & Sports      1\n",
       "13         Aerospace  Automotive & Sports      1\n",
       "44              Auto  Automotive & Sports      1\n",
       "45   Automated Kiosk  Automotive & Sports      1\n",
       "46        Automotive  Automotive & Sports      1"
      ]
     },
     "execution_count": 76,
     "metadata": {},
     "output_type": "execute_result"
    }
   ],
   "source": [
    "# Filtering where value is 1\n",
    "mapping_modified = mapping_modified[mapping_modified['value'] == 1]\n",
    "mapping_modified.head()"
   ]
  },
  {
   "cell_type": "code",
   "execution_count": 77,
   "id": "5c111e30",
   "metadata": {},
   "outputs": [
    {
     "data": {
      "text/html": [
       "<div>\n",
       "<style scoped>\n",
       "    .dataframe tbody tr th:only-of-type {\n",
       "        vertical-align: middle;\n",
       "    }\n",
       "\n",
       "    .dataframe tbody tr th {\n",
       "        vertical-align: top;\n",
       "    }\n",
       "\n",
       "    .dataframe thead th {\n",
       "        text-align: right;\n",
       "    }\n",
       "</style>\n",
       "<table border=\"1\" class=\"dataframe\">\n",
       "  <thead>\n",
       "    <tr style=\"text-align: right;\">\n",
       "      <th></th>\n",
       "      <th>category_list</th>\n",
       "      <th>main_sector</th>\n",
       "      <th>value</th>\n",
       "    </tr>\n",
       "  </thead>\n",
       "  <tbody>\n",
       "    <tr>\n",
       "      <th>7</th>\n",
       "      <td>Adventure Travel</td>\n",
       "      <td>Automotive &amp; Sports</td>\n",
       "      <td>1</td>\n",
       "    </tr>\n",
       "    <tr>\n",
       "      <th>13</th>\n",
       "      <td>Aerospace</td>\n",
       "      <td>Automotive &amp; Sports</td>\n",
       "      <td>1</td>\n",
       "    </tr>\n",
       "    <tr>\n",
       "      <th>44</th>\n",
       "      <td>Auto</td>\n",
       "      <td>Automotive &amp; Sports</td>\n",
       "      <td>1</td>\n",
       "    </tr>\n",
       "    <tr>\n",
       "      <th>45</th>\n",
       "      <td>Automated Kiosk</td>\n",
       "      <td>Automotive &amp; Sports</td>\n",
       "      <td>1</td>\n",
       "    </tr>\n",
       "    <tr>\n",
       "      <th>46</th>\n",
       "      <td>Automotive</td>\n",
       "      <td>Automotive &amp; Sports</td>\n",
       "      <td>1</td>\n",
       "    </tr>\n",
       "  </tbody>\n",
       "</table>\n",
       "</div>"
      ],
      "text/plain": [
       "       category_list          main_sector  value\n",
       "7   Adventure Travel  Automotive & Sports      1\n",
       "13         Aerospace  Automotive & Sports      1\n",
       "44              Auto  Automotive & Sports      1\n",
       "45   Automated Kiosk  Automotive & Sports      1\n",
       "46        Automotive  Automotive & Sports      1"
      ]
     },
     "execution_count": 77,
     "metadata": {},
     "output_type": "execute_result"
    }
   ],
   "source": [
    "# Renaming \n",
    "\n",
    "mapping_modified = mapping_modified.rename(columns={'variable':'main_sector'})\n",
    "mapping_modified.head()"
   ]
  },
  {
   "cell_type": "code",
   "execution_count": 78,
   "id": "d0b07ad5",
   "metadata": {
    "scrolled": true
   },
   "outputs": [
    {
     "data": {
      "text/html": [
       "<div>\n",
       "<style scoped>\n",
       "    .dataframe tbody tr th:only-of-type {\n",
       "        vertical-align: middle;\n",
       "    }\n",
       "\n",
       "    .dataframe tbody tr th {\n",
       "        vertical-align: top;\n",
       "    }\n",
       "\n",
       "    .dataframe thead th {\n",
       "        text-align: right;\n",
       "    }\n",
       "</style>\n",
       "<table border=\"1\" class=\"dataframe\">\n",
       "  <thead>\n",
       "    <tr style=\"text-align: right;\">\n",
       "      <th></th>\n",
       "      <th>category_list</th>\n",
       "      <th>main_sector</th>\n",
       "    </tr>\n",
       "  </thead>\n",
       "  <tbody>\n",
       "    <tr>\n",
       "      <th>7</th>\n",
       "      <td>Adventure Travel</td>\n",
       "      <td>Automotive &amp; Sports</td>\n",
       "    </tr>\n",
       "    <tr>\n",
       "      <th>13</th>\n",
       "      <td>Aerospace</td>\n",
       "      <td>Automotive &amp; Sports</td>\n",
       "    </tr>\n",
       "    <tr>\n",
       "      <th>44</th>\n",
       "      <td>Auto</td>\n",
       "      <td>Automotive &amp; Sports</td>\n",
       "    </tr>\n",
       "    <tr>\n",
       "      <th>45</th>\n",
       "      <td>Automated Kiosk</td>\n",
       "      <td>Automotive &amp; Sports</td>\n",
       "    </tr>\n",
       "    <tr>\n",
       "      <th>46</th>\n",
       "      <td>Automotive</td>\n",
       "      <td>Automotive &amp; Sports</td>\n",
       "    </tr>\n",
       "  </tbody>\n",
       "</table>\n",
       "</div>"
      ],
      "text/plain": [
       "       category_list          main_sector\n",
       "7   Adventure Travel  Automotive & Sports\n",
       "13         Aerospace  Automotive & Sports\n",
       "44              Auto  Automotive & Sports\n",
       "45   Automated Kiosk  Automotive & Sports\n",
       "46        Automotive  Automotive & Sports"
      ]
     },
     "execution_count": 78,
     "metadata": {},
     "output_type": "execute_result"
    }
   ],
   "source": [
    "# Droping value column\n",
    "mapping_modified = mapping_modified.drop('value', axis=1)\n",
    "mapping_modified.head()"
   ]
  },
  {
   "cell_type": "code",
   "execution_count": 79,
   "id": "6e0d23e8",
   "metadata": {
    "scrolled": false
   },
   "outputs": [
    {
     "data": {
      "text/html": [
       "<div>\n",
       "<style scoped>\n",
       "    .dataframe tbody tr th:only-of-type {\n",
       "        vertical-align: middle;\n",
       "    }\n",
       "\n",
       "    .dataframe tbody tr th {\n",
       "        vertical-align: top;\n",
       "    }\n",
       "\n",
       "    .dataframe thead th {\n",
       "        text-align: right;\n",
       "    }\n",
       "</style>\n",
       "<table border=\"1\" class=\"dataframe\">\n",
       "  <thead>\n",
       "    <tr style=\"text-align: right;\">\n",
       "      <th></th>\n",
       "      <th>permalink</th>\n",
       "      <th>funding_round_permalink</th>\n",
       "      <th>funding_round_type</th>\n",
       "      <th>...</th>\n",
       "      <th>primary_sector</th>\n",
       "      <th>category_list_y</th>\n",
       "      <th>main_sector</th>\n",
       "    </tr>\n",
       "  </thead>\n",
       "  <tbody>\n",
       "    <tr>\n",
       "      <th>0</th>\n",
       "      <td>/Organization/0Xdata</td>\n",
       "      <td>/funding-round/e1cfcbe1bdf4c70277c5f29a3482f24e</td>\n",
       "      <td>venture</td>\n",
       "      <td>...</td>\n",
       "      <td>Analytics</td>\n",
       "      <td>NaN</td>\n",
       "      <td>NaN</td>\n",
       "    </tr>\n",
       "    <tr>\n",
       "      <th>1</th>\n",
       "      <td>/Organization/1-Mainstream</td>\n",
       "      <td>/funding-round/b952cbaf401f310927430c97b68162ea</td>\n",
       "      <td>venture</td>\n",
       "      <td>...</td>\n",
       "      <td>Apps</td>\n",
       "      <td>Apps</td>\n",
       "      <td>News, Search and Messaging</td>\n",
       "    </tr>\n",
       "    <tr>\n",
       "      <th>2</th>\n",
       "      <td>/Organization/128-Technology</td>\n",
       "      <td>/funding-round/fb6216a30cb566ede89e0bee0623a634</td>\n",
       "      <td>venture</td>\n",
       "      <td>...</td>\n",
       "      <td>Service Providers</td>\n",
       "      <td>Service Providers</td>\n",
       "      <td>Others</td>\n",
       "    </tr>\n",
       "    <tr>\n",
       "      <th>3</th>\n",
       "      <td>/Organization/1366-Technologies</td>\n",
       "      <td>/funding-round/424129ce1235cfab2655ee81305f7c2b</td>\n",
       "      <td>venture</td>\n",
       "      <td>...</td>\n",
       "      <td>Manufacturing</td>\n",
       "      <td>Manufacturing</td>\n",
       "      <td>Manufacturing</td>\n",
       "    </tr>\n",
       "    <tr>\n",
       "      <th>4</th>\n",
       "      <td>/Organization/1366-Technologies</td>\n",
       "      <td>/funding-round/6d3f3797371956ece035b8478c1441b2</td>\n",
       "      <td>venture</td>\n",
       "      <td>...</td>\n",
       "      <td>Manufacturing</td>\n",
       "      <td>Manufacturing</td>\n",
       "      <td>Manufacturing</td>\n",
       "    </tr>\n",
       "  </tbody>\n",
       "</table>\n",
       "<p>5 rows × 18 columns</p>\n",
       "</div>"
      ],
      "text/plain": [
       "                         permalink  \\\n",
       "0             /Organization/0Xdata   \n",
       "1       /Organization/1-Mainstream   \n",
       "2     /Organization/128-Technology   \n",
       "3  /Organization/1366-Technologies   \n",
       "4  /Organization/1366-Technologies   \n",
       "\n",
       "                           funding_round_permalink funding_round_type  ...  \\\n",
       "0  /funding-round/e1cfcbe1bdf4c70277c5f29a3482f24e            venture  ...   \n",
       "1  /funding-round/b952cbaf401f310927430c97b68162ea            venture  ...   \n",
       "2  /funding-round/fb6216a30cb566ede89e0bee0623a634            venture  ...   \n",
       "3  /funding-round/424129ce1235cfab2655ee81305f7c2b            venture  ...   \n",
       "4  /funding-round/6d3f3797371956ece035b8478c1441b2            venture  ...   \n",
       "\n",
       "      primary_sector    category_list_y                 main_sector  \n",
       "0          Analytics                NaN                         NaN  \n",
       "1               Apps               Apps  News, Search and Messaging  \n",
       "2  Service Providers  Service Providers                      Others  \n",
       "3      Manufacturing      Manufacturing               Manufacturing  \n",
       "4      Manufacturing      Manufacturing               Manufacturing  \n",
       "\n",
       "[5 rows x 18 columns]"
      ]
     },
     "execution_count": 79,
     "metadata": {},
     "output_type": "execute_result"
    }
   ],
   "source": [
    "# Merging top_eng_countries and mapping_modified data frames\n",
    "\n",
    "top_eng_countries_merged = pd.merge(top_eng_countries, mapping_modified, how='left', left_on='primary_sector', right_on='category_list')\n",
    "top_eng_countries_merged.head()"
   ]
  },
  {
   "cell_type": "code",
   "execution_count": 80,
   "id": "c04aa00f",
   "metadata": {},
   "outputs": [
    {
     "data": {
      "text/html": [
       "<div>\n",
       "<style scoped>\n",
       "    .dataframe tbody tr th:only-of-type {\n",
       "        vertical-align: middle;\n",
       "    }\n",
       "\n",
       "    .dataframe tbody tr th {\n",
       "        vertical-align: top;\n",
       "    }\n",
       "\n",
       "    .dataframe thead th {\n",
       "        text-align: right;\n",
       "    }\n",
       "</style>\n",
       "<table border=\"1\" class=\"dataframe\">\n",
       "  <thead>\n",
       "    <tr style=\"text-align: right;\">\n",
       "      <th></th>\n",
       "      <th>permalink</th>\n",
       "      <th>funding_round_permalink</th>\n",
       "      <th>funding_round_type</th>\n",
       "      <th>...</th>\n",
       "      <th>speaks_english</th>\n",
       "      <th>primary_sector</th>\n",
       "      <th>main_sector</th>\n",
       "    </tr>\n",
       "  </thead>\n",
       "  <tbody>\n",
       "    <tr>\n",
       "      <th>0</th>\n",
       "      <td>/Organization/0Xdata</td>\n",
       "      <td>/funding-round/e1cfcbe1bdf4c70277c5f29a3482f24e</td>\n",
       "      <td>venture</td>\n",
       "      <td>...</td>\n",
       "      <td>1</td>\n",
       "      <td>Analytics</td>\n",
       "      <td>NaN</td>\n",
       "    </tr>\n",
       "    <tr>\n",
       "      <th>1</th>\n",
       "      <td>/Organization/1-Mainstream</td>\n",
       "      <td>/funding-round/b952cbaf401f310927430c97b68162ea</td>\n",
       "      <td>venture</td>\n",
       "      <td>...</td>\n",
       "      <td>1</td>\n",
       "      <td>Apps</td>\n",
       "      <td>News, Search and Messaging</td>\n",
       "    </tr>\n",
       "    <tr>\n",
       "      <th>2</th>\n",
       "      <td>/Organization/128-Technology</td>\n",
       "      <td>/funding-round/fb6216a30cb566ede89e0bee0623a634</td>\n",
       "      <td>venture</td>\n",
       "      <td>...</td>\n",
       "      <td>1</td>\n",
       "      <td>Service Providers</td>\n",
       "      <td>Others</td>\n",
       "    </tr>\n",
       "    <tr>\n",
       "      <th>3</th>\n",
       "      <td>/Organization/1366-Technologies</td>\n",
       "      <td>/funding-round/424129ce1235cfab2655ee81305f7c2b</td>\n",
       "      <td>venture</td>\n",
       "      <td>...</td>\n",
       "      <td>1</td>\n",
       "      <td>Manufacturing</td>\n",
       "      <td>Manufacturing</td>\n",
       "    </tr>\n",
       "    <tr>\n",
       "      <th>4</th>\n",
       "      <td>/Organization/1366-Technologies</td>\n",
       "      <td>/funding-round/6d3f3797371956ece035b8478c1441b2</td>\n",
       "      <td>venture</td>\n",
       "      <td>...</td>\n",
       "      <td>1</td>\n",
       "      <td>Manufacturing</td>\n",
       "      <td>Manufacturing</td>\n",
       "    </tr>\n",
       "  </tbody>\n",
       "</table>\n",
       "<p>5 rows × 17 columns</p>\n",
       "</div>"
      ],
      "text/plain": [
       "                         permalink  \\\n",
       "0             /Organization/0Xdata   \n",
       "1       /Organization/1-Mainstream   \n",
       "2     /Organization/128-Technology   \n",
       "3  /Organization/1366-Technologies   \n",
       "4  /Organization/1366-Technologies   \n",
       "\n",
       "                           funding_round_permalink funding_round_type  ...  \\\n",
       "0  /funding-round/e1cfcbe1bdf4c70277c5f29a3482f24e            venture  ...   \n",
       "1  /funding-round/b952cbaf401f310927430c97b68162ea            venture  ...   \n",
       "2  /funding-round/fb6216a30cb566ede89e0bee0623a634            venture  ...   \n",
       "3  /funding-round/424129ce1235cfab2655ee81305f7c2b            venture  ...   \n",
       "4  /funding-round/6d3f3797371956ece035b8478c1441b2            venture  ...   \n",
       "\n",
       "  speaks_english     primary_sector                 main_sector  \n",
       "0              1          Analytics                         NaN  \n",
       "1              1               Apps  News, Search and Messaging  \n",
       "2              1  Service Providers                      Others  \n",
       "3              1      Manufacturing               Manufacturing  \n",
       "4              1      Manufacturing               Manufacturing  \n",
       "\n",
       "[5 rows x 17 columns]"
      ]
     },
     "execution_count": 80,
     "metadata": {},
     "output_type": "execute_result"
    }
   ],
   "source": [
    "# Removing duplicated columns\n",
    "top_eng_countries_merged = top_eng_countries_merged.drop('category_list_y', axis=1)\n",
    "\n",
    "# Renaming \n",
    "top_eng_countries_merged = top_eng_countries_merged.rename(columns={'category_list_x':'category_list'})\n",
    "top_eng_countries_merged.head()"
   ]
  },
  {
   "cell_type": "markdown",
   "id": "c570a037",
   "metadata": {},
   "source": [
    "#### Ploting the number of investments in the main sectors of the top 3 countries"
   ]
  },
  {
   "cell_type": "code",
   "execution_count": 81,
   "id": "38338e24",
   "metadata": {
    "scrolled": false
   },
   "outputs": [
    {
     "data": {
      "text/html": [
       "<div>\n",
       "<style scoped>\n",
       "    .dataframe tbody tr th:only-of-type {\n",
       "        vertical-align: middle;\n",
       "    }\n",
       "\n",
       "    .dataframe tbody tr th {\n",
       "        vertical-align: top;\n",
       "    }\n",
       "\n",
       "    .dataframe thead th {\n",
       "        text-align: right;\n",
       "    }\n",
       "</style>\n",
       "<table border=\"1\" class=\"dataframe\">\n",
       "  <thead>\n",
       "    <tr style=\"text-align: right;\">\n",
       "      <th>main_sector</th>\n",
       "      <th>Automotive &amp; Sports</th>\n",
       "      <th>Cleantech / Semiconductors</th>\n",
       "      <th>Entertainment</th>\n",
       "      <th>...</th>\n",
       "      <th>News, Search and Messaging</th>\n",
       "      <th>Others</th>\n",
       "      <th>Social, Finance, Analytics, Advertising</th>\n",
       "    </tr>\n",
       "    <tr>\n",
       "      <th>country_code</th>\n",
       "      <th></th>\n",
       "      <th></th>\n",
       "      <th></th>\n",
       "      <th></th>\n",
       "      <th></th>\n",
       "      <th></th>\n",
       "      <th></th>\n",
       "    </tr>\n",
       "  </thead>\n",
       "  <tbody>\n",
       "    <tr>\n",
       "      <th>CAN</th>\n",
       "      <td>2</td>\n",
       "      <td>97</td>\n",
       "      <td>20</td>\n",
       "      <td>...</td>\n",
       "      <td>43</td>\n",
       "      <td>90</td>\n",
       "      <td>50</td>\n",
       "    </tr>\n",
       "    <tr>\n",
       "      <th>GBR</th>\n",
       "      <td>16</td>\n",
       "      <td>114</td>\n",
       "      <td>49</td>\n",
       "      <td>...</td>\n",
       "      <td>64</td>\n",
       "      <td>125</td>\n",
       "      <td>93</td>\n",
       "    </tr>\n",
       "    <tr>\n",
       "      <th>SGP</th>\n",
       "      <td>2</td>\n",
       "      <td>7</td>\n",
       "      <td>10</td>\n",
       "      <td>...</td>\n",
       "      <td>10</td>\n",
       "      <td>13</td>\n",
       "      <td>20</td>\n",
       "    </tr>\n",
       "    <tr>\n",
       "      <th>USA</th>\n",
       "      <td>146</td>\n",
       "      <td>2070</td>\n",
       "      <td>505</td>\n",
       "      <td>...</td>\n",
       "      <td>1403</td>\n",
       "      <td>2546</td>\n",
       "      <td>1777</td>\n",
       "    </tr>\n",
       "  </tbody>\n",
       "</table>\n",
       "<p>4 rows × 8 columns</p>\n",
       "</div>"
      ],
      "text/plain": [
       "main_sector   Automotive & Sports  Cleantech / Semiconductors  Entertainment  \\\n",
       "country_code                                                                   \n",
       "CAN                             2                          97             20   \n",
       "GBR                            16                         114             49   \n",
       "SGP                             2                           7             10   \n",
       "USA                           146                        2070            505   \n",
       "\n",
       "main_sector   ...  News, Search and Messaging  Others  \\\n",
       "country_code  ...                                       \n",
       "CAN           ...                          43      90   \n",
       "GBR           ...                          64     125   \n",
       "SGP           ...                          10      13   \n",
       "USA           ...                        1403    2546   \n",
       "\n",
       "main_sector   Social, Finance, Analytics, Advertising  \n",
       "country_code                                           \n",
       "CAN                                                50  \n",
       "GBR                                                93  \n",
       "SGP                                                20  \n",
       "USA                                              1777  \n",
       "\n",
       "[4 rows x 8 columns]"
      ]
     },
     "execution_count": 81,
     "metadata": {},
     "output_type": "execute_result"
    }
   ],
   "source": [
    "#filtering investment country and sector wise\n",
    "top_eng_countries_table = pd.pivot_table(data=top_eng_countries_merged, values=\"raised_amount_usd\", \n",
    "                         index=\"country_code\", columns=\"main_sector\", \n",
    "                         aggfunc='count')\n",
    "\n",
    "top_eng_countries_table"
   ]
  },
  {
   "cell_type": "code",
   "execution_count": 82,
   "id": "40065d5a",
   "metadata": {
    "scrolled": false
   },
   "outputs": [
    {
     "data": {
      "image/png": "[encoded data removed]",
      "text/plain": [
       "<Figure size 720x864 with 1 Axes>"
      ]
     },
     "metadata": {
      "needs_background": "light"
     },
     "output_type": "display_data"
    }
   ],
   "source": [
    "# Ploting the number of investments in the main sectors of the top 3 countries\n",
    "ax = top_eng_countries_table.plot.bar(figsize=(10, 12),logy=True)\n",
    "title = 'Sectorwise Investment in top3 Countries'\n",
    "plt.title(title)\n",
    "plt.show()"
   ]
  },
  {
   "cell_type": "markdown",
   "id": "66362c62",
   "metadata": {},
   "source": [
    "### Checkpoint 5: Sector Analysis 2"
   ]
  },
  {
   "cell_type": "markdown",
   "id": "f1d509d6",
   "metadata": {},
   "source": [
    "#### Creating D1,D2,D3 data frames country wise"
   ]
  },
  {
   "cell_type": "markdown",
   "id": "fccca208",
   "metadata": {},
   "source": [
    "#### Top investment country : USA"
   ]
  },
  {
   "cell_type": "code",
   "execution_count": 83,
   "id": "c2176d58",
   "metadata": {
    "scrolled": false
   },
   "outputs": [
    {
     "data": {
      "text/html": [
       "<div>\n",
       "<style scoped>\n",
       "    .dataframe tbody tr th:only-of-type {\n",
       "        vertical-align: middle;\n",
       "    }\n",
       "\n",
       "    .dataframe tbody tr th {\n",
       "        vertical-align: top;\n",
       "    }\n",
       "\n",
       "    .dataframe thead th {\n",
       "        text-align: right;\n",
       "    }\n",
       "</style>\n",
       "<table border=\"1\" class=\"dataframe\">\n",
       "  <thead>\n",
       "    <tr style=\"text-align: right;\">\n",
       "      <th></th>\n",
       "      <th>permalink</th>\n",
       "      <th>funding_round_permalink</th>\n",
       "      <th>funding_round_type</th>\n",
       "      <th>...</th>\n",
       "      <th>speaks_english</th>\n",
       "      <th>primary_sector</th>\n",
       "      <th>main_sector</th>\n",
       "    </tr>\n",
       "  </thead>\n",
       "  <tbody>\n",
       "    <tr>\n",
       "      <th>0</th>\n",
       "      <td>/Organization/0Xdata</td>\n",
       "      <td>/funding-round/e1cfcbe1bdf4c70277c5f29a3482f24e</td>\n",
       "      <td>venture</td>\n",
       "      <td>...</td>\n",
       "      <td>1</td>\n",
       "      <td>Analytics</td>\n",
       "      <td>NaN</td>\n",
       "    </tr>\n",
       "    <tr>\n",
       "      <th>1</th>\n",
       "      <td>/Organization/1-Mainstream</td>\n",
       "      <td>/funding-round/b952cbaf401f310927430c97b68162ea</td>\n",
       "      <td>venture</td>\n",
       "      <td>...</td>\n",
       "      <td>1</td>\n",
       "      <td>Apps</td>\n",
       "      <td>News, Search and Messaging</td>\n",
       "    </tr>\n",
       "    <tr>\n",
       "      <th>2</th>\n",
       "      <td>/Organization/128-Technology</td>\n",
       "      <td>/funding-round/fb6216a30cb566ede89e0bee0623a634</td>\n",
       "      <td>venture</td>\n",
       "      <td>...</td>\n",
       "      <td>1</td>\n",
       "      <td>Service Providers</td>\n",
       "      <td>Others</td>\n",
       "    </tr>\n",
       "    <tr>\n",
       "      <th>3</th>\n",
       "      <td>/Organization/1366-Technologies</td>\n",
       "      <td>/funding-round/424129ce1235cfab2655ee81305f7c2b</td>\n",
       "      <td>venture</td>\n",
       "      <td>...</td>\n",
       "      <td>1</td>\n",
       "      <td>Manufacturing</td>\n",
       "      <td>Manufacturing</td>\n",
       "    </tr>\n",
       "    <tr>\n",
       "      <th>4</th>\n",
       "      <td>/Organization/1366-Technologies</td>\n",
       "      <td>/funding-round/6d3f3797371956ece035b8478c1441b2</td>\n",
       "      <td>venture</td>\n",
       "      <td>...</td>\n",
       "      <td>1</td>\n",
       "      <td>Manufacturing</td>\n",
       "      <td>Manufacturing</td>\n",
       "    </tr>\n",
       "  </tbody>\n",
       "</table>\n",
       "<p>5 rows × 17 columns</p>\n",
       "</div>"
      ],
      "text/plain": [
       "                         permalink  \\\n",
       "0             /Organization/0Xdata   \n",
       "1       /Organization/1-Mainstream   \n",
       "2     /Organization/128-Technology   \n",
       "3  /Organization/1366-Technologies   \n",
       "4  /Organization/1366-Technologies   \n",
       "\n",
       "                           funding_round_permalink funding_round_type  ...  \\\n",
       "0  /funding-round/e1cfcbe1bdf4c70277c5f29a3482f24e            venture  ...   \n",
       "1  /funding-round/b952cbaf401f310927430c97b68162ea            venture  ...   \n",
       "2  /funding-round/fb6216a30cb566ede89e0bee0623a634            venture  ...   \n",
       "3  /funding-round/424129ce1235cfab2655ee81305f7c2b            venture  ...   \n",
       "4  /funding-round/6d3f3797371956ece035b8478c1441b2            venture  ...   \n",
       "\n",
       "  speaks_english     primary_sector                 main_sector  \n",
       "0              1          Analytics                         NaN  \n",
       "1              1               Apps  News, Search and Messaging  \n",
       "2              1  Service Providers                      Others  \n",
       "3              1      Manufacturing               Manufacturing  \n",
       "4              1      Manufacturing               Manufacturing  \n",
       "\n",
       "[5 rows x 17 columns]"
      ]
     },
     "execution_count": 83,
     "metadata": {},
     "output_type": "execute_result"
    }
   ],
   "source": [
    "#Creating USA data frame \n",
    "d1 = top_eng_countries_merged[top_eng_countries_merged['country_code'] == 'USA']\n",
    "d1.head()"
   ]
  },
  {
   "cell_type": "markdown",
   "id": "71dd1d60",
   "metadata": {},
   "source": [
    "#### Total number of Investments in USA"
   ]
  },
  {
   "cell_type": "code",
   "execution_count": 84,
   "id": "5bf69a00",
   "metadata": {},
   "outputs": [
    {
     "data": {
      "text/plain": [
       "10814"
      ]
     },
     "execution_count": 84,
     "metadata": {},
     "output_type": "execute_result"
    }
   ],
   "source": [
    "d1['raised_amount_usd'].count()"
   ]
  },
  {
   "cell_type": "markdown",
   "id": "8483fcdd",
   "metadata": {},
   "source": [
    "#### Total amount of Investments in USA"
   ]
  },
  {
   "cell_type": "code",
   "execution_count": 85,
   "id": "45948f89",
   "metadata": {
    "scrolled": true
   },
   "outputs": [
    {
     "data": {
      "text/plain": [
       "96769980523.0"
      ]
     },
     "execution_count": 85,
     "metadata": {},
     "output_type": "execute_result"
    }
   ],
   "source": [
    "d1['raised_amount_usd'].sum()"
   ]
  },
  {
   "cell_type": "markdown",
   "id": "10e4cc98",
   "metadata": {},
   "source": [
    "#### Total number of investment each main sectors in USA"
   ]
  },
  {
   "cell_type": "code",
   "execution_count": 86,
   "id": "f513f606",
   "metadata": {},
   "outputs": [
    {
     "data": {
      "text/html": [
       "<div>\n",
       "<style scoped>\n",
       "    .dataframe tbody tr th:only-of-type {\n",
       "        vertical-align: middle;\n",
       "    }\n",
       "\n",
       "    .dataframe tbody tr th {\n",
       "        vertical-align: top;\n",
       "    }\n",
       "\n",
       "    .dataframe thead th {\n",
       "        text-align: right;\n",
       "    }\n",
       "</style>\n",
       "<table border=\"1\" class=\"dataframe\">\n",
       "  <thead>\n",
       "    <tr style=\"text-align: right;\">\n",
       "      <th></th>\n",
       "      <th>raised_amount_usd</th>\n",
       "    </tr>\n",
       "    <tr>\n",
       "      <th>main_sector</th>\n",
       "      <th></th>\n",
       "    </tr>\n",
       "  </thead>\n",
       "  <tbody>\n",
       "    <tr>\n",
       "      <th>Others</th>\n",
       "      <td>2546</td>\n",
       "    </tr>\n",
       "    <tr>\n",
       "      <th>Cleantech / Semiconductors</th>\n",
       "      <td>2070</td>\n",
       "    </tr>\n",
       "    <tr>\n",
       "      <th>Social, Finance, Analytics, Advertising</th>\n",
       "      <td>1777</td>\n",
       "    </tr>\n",
       "  </tbody>\n",
       "</table>\n",
       "</div>"
      ],
      "text/plain": [
       "                                         raised_amount_usd\n",
       "main_sector                                               \n",
       "Others                                                2546\n",
       "Cleantech / Semiconductors                            2070\n",
       "Social, Finance, Analytics, Advertising               1777"
      ]
     },
     "execution_count": 86,
     "metadata": {},
     "output_type": "execute_result"
    }
   ],
   "source": [
    "d1_table = d1.pivot_table(values = 'raised_amount_usd', index='main_sector', aggfunc='count')\n",
    "d1_table.sort_values(by='raised_amount_usd', ascending = False).head(3)"
   ]
  },
  {
   "cell_type": "markdown",
   "id": "ee83c5bb",
   "metadata": {},
   "source": [
    "#### Top main sectors and total amount of investments in top sector in USA "
   ]
  },
  {
   "cell_type": "code",
   "execution_count": 87,
   "id": "2c1a1563",
   "metadata": {
    "scrolled": true
   },
   "outputs": [
    {
     "data": {
      "text/html": [
       "<div>\n",
       "<style scoped>\n",
       "    .dataframe tbody tr th:only-of-type {\n",
       "        vertical-align: middle;\n",
       "    }\n",
       "\n",
       "    .dataframe tbody tr th {\n",
       "        vertical-align: top;\n",
       "    }\n",
       "\n",
       "    .dataframe thead th {\n",
       "        text-align: right;\n",
       "    }\n",
       "</style>\n",
       "<table border=\"1\" class=\"dataframe\">\n",
       "  <thead>\n",
       "    <tr style=\"text-align: right;\">\n",
       "      <th></th>\n",
       "      <th>raised_amount_usd</th>\n",
       "    </tr>\n",
       "    <tr>\n",
       "      <th>main_sector</th>\n",
       "      <th></th>\n",
       "    </tr>\n",
       "  </thead>\n",
       "  <tbody>\n",
       "    <tr>\n",
       "      <th>Others</th>\n",
       "      <td>2.271053e+10</td>\n",
       "    </tr>\n",
       "    <tr>\n",
       "      <th>Cleantech / Semiconductors</th>\n",
       "      <td>1.908736e+10</td>\n",
       "    </tr>\n",
       "    <tr>\n",
       "      <th>Social, Finance, Analytics, Advertising</th>\n",
       "      <td>1.557536e+10</td>\n",
       "    </tr>\n",
       "  </tbody>\n",
       "</table>\n",
       "</div>"
      ],
      "text/plain": [
       "                                         raised_amount_usd\n",
       "main_sector                                               \n",
       "Others                                        2.271053e+10\n",
       "Cleantech / Semiconductors                    1.908736e+10\n",
       "Social, Finance, Analytics, Advertising       1.557536e+10"
      ]
     },
     "execution_count": 87,
     "metadata": {},
     "output_type": "execute_result"
    }
   ],
   "source": [
    "d1_table = d1.pivot_table(values = 'raised_amount_usd', index='main_sector', aggfunc='sum')\n",
    "d1_table = d1_table.sort_values(by='raised_amount_usd', ascending = False).head(3)\n",
    "d1_table"
   ]
  },
  {
   "cell_type": "code",
   "execution_count": 88,
   "id": "3e445ba1",
   "metadata": {},
   "outputs": [
    {
     "data": {
      "text/plain": [
       "22710525066.0"
      ]
     },
     "execution_count": 88,
     "metadata": {},
     "output_type": "execute_result"
    }
   ],
   "source": [
    "d1_table.loc['Others','raised_amount_usd']"
   ]
  },
  {
   "cell_type": "code",
   "execution_count": 89,
   "id": "23420af8",
   "metadata": {
    "scrolled": true
   },
   "outputs": [
    {
     "data": {
      "text/html": [
       "<div>\n",
       "<style scoped>\n",
       "    .dataframe tbody tr th:only-of-type {\n",
       "        vertical-align: middle;\n",
       "    }\n",
       "\n",
       "    .dataframe tbody tr th {\n",
       "        vertical-align: top;\n",
       "    }\n",
       "\n",
       "    .dataframe thead th {\n",
       "        text-align: right;\n",
       "    }\n",
       "</style>\n",
       "<table border=\"1\" class=\"dataframe\">\n",
       "  <thead>\n",
       "    <tr style=\"text-align: right;\">\n",
       "      <th></th>\n",
       "      <th>permalink</th>\n",
       "      <th>funding_round_permalink</th>\n",
       "      <th>funding_round_type</th>\n",
       "      <th>...</th>\n",
       "      <th>speaks_english</th>\n",
       "      <th>primary_sector</th>\n",
       "      <th>main_sector</th>\n",
       "    </tr>\n",
       "  </thead>\n",
       "  <tbody>\n",
       "    <tr>\n",
       "      <th>2</th>\n",
       "      <td>/Organization/128-Technology</td>\n",
       "      <td>/funding-round/fb6216a30cb566ede89e0bee0623a634</td>\n",
       "      <td>venture</td>\n",
       "      <td>...</td>\n",
       "      <td>1</td>\n",
       "      <td>Service Providers</td>\n",
       "      <td>Others</td>\n",
       "    </tr>\n",
       "    <tr>\n",
       "      <th>8</th>\n",
       "      <td>/Organization/170-Systems</td>\n",
       "      <td>/funding-round/b84bb882ca873f5fb96535671981196d</td>\n",
       "      <td>venture</td>\n",
       "      <td>...</td>\n",
       "      <td>1</td>\n",
       "      <td>Software</td>\n",
       "      <td>Others</td>\n",
       "    </tr>\n",
       "    <tr>\n",
       "      <th>9</th>\n",
       "      <td>/Organization/17Zuoye</td>\n",
       "      <td>/funding-round/69690484f51e15bc27ff52bfe472cd96</td>\n",
       "      <td>venture</td>\n",
       "      <td>...</td>\n",
       "      <td>1</td>\n",
       "      <td>Education</td>\n",
       "      <td>Others</td>\n",
       "    </tr>\n",
       "    <tr>\n",
       "      <th>10</th>\n",
       "      <td>/Organization/17Zuoye</td>\n",
       "      <td>/funding-round/8d87f771e938e0f31641bd600abbafca</td>\n",
       "      <td>venture</td>\n",
       "      <td>...</td>\n",
       "      <td>1</td>\n",
       "      <td>Education</td>\n",
       "      <td>Others</td>\n",
       "    </tr>\n",
       "    <tr>\n",
       "      <th>11</th>\n",
       "      <td>/Organization/1Stdibs</td>\n",
       "      <td>/funding-round/292b074d073fdd9c7e9d8f372c3aa5f6</td>\n",
       "      <td>venture</td>\n",
       "      <td>...</td>\n",
       "      <td>1</td>\n",
       "      <td>E-Commerce</td>\n",
       "      <td>Others</td>\n",
       "    </tr>\n",
       "  </tbody>\n",
       "</table>\n",
       "<p>5 rows × 17 columns</p>\n",
       "</div>"
      ],
      "text/plain": [
       "                       permalink  \\\n",
       "2   /Organization/128-Technology   \n",
       "8      /Organization/170-Systems   \n",
       "9          /Organization/17Zuoye   \n",
       "10         /Organization/17Zuoye   \n",
       "11         /Organization/1Stdibs   \n",
       "\n",
       "                            funding_round_permalink funding_round_type  ...  \\\n",
       "2   /funding-round/fb6216a30cb566ede89e0bee0623a634            venture  ...   \n",
       "8   /funding-round/b84bb882ca873f5fb96535671981196d            venture  ...   \n",
       "9   /funding-round/69690484f51e15bc27ff52bfe472cd96            venture  ...   \n",
       "10  /funding-round/8d87f771e938e0f31641bd600abbafca            venture  ...   \n",
       "11  /funding-round/292b074d073fdd9c7e9d8f372c3aa5f6            venture  ...   \n",
       "\n",
       "   speaks_english     primary_sector main_sector  \n",
       "2               1  Service Providers      Others  \n",
       "8               1           Software      Others  \n",
       "9               1          Education      Others  \n",
       "10              1          Education      Others  \n",
       "11              1         E-Commerce      Others  \n",
       "\n",
       "[5 rows x 17 columns]"
      ]
     },
     "execution_count": 89,
     "metadata": {},
     "output_type": "execute_result"
    }
   ],
   "source": [
    "#Creating dataframe where ' main sector' is Others\n",
    "d1_others = d1[d1['main_sector'] == 'Others']\n",
    "d1_others.head()"
   ]
  },
  {
   "cell_type": "markdown",
   "id": "100692d6",
   "metadata": {},
   "source": [
    "#### which company received the highest and the second investment in top sector in USA?"
   ]
  },
  {
   "cell_type": "code",
   "execution_count": 90,
   "id": "74f086d3",
   "metadata": {},
   "outputs": [
    {
     "data": {
      "text/html": [
       "<div>\n",
       "<style scoped>\n",
       "    .dataframe tbody tr th:only-of-type {\n",
       "        vertical-align: middle;\n",
       "    }\n",
       "\n",
       "    .dataframe tbody tr th {\n",
       "        vertical-align: top;\n",
       "    }\n",
       "\n",
       "    .dataframe thead th {\n",
       "        text-align: right;\n",
       "    }\n",
       "</style>\n",
       "<table border=\"1\" class=\"dataframe\">\n",
       "  <thead>\n",
       "    <tr style=\"text-align: right;\">\n",
       "      <th></th>\n",
       "      <th>raised_amount_usd</th>\n",
       "    </tr>\n",
       "    <tr>\n",
       "      <th>permalink</th>\n",
       "      <th></th>\n",
       "    </tr>\n",
       "  </thead>\n",
       "  <tbody>\n",
       "    <tr>\n",
       "      <th>/Organization/Virtustream</th>\n",
       "      <td>64300000.0</td>\n",
       "    </tr>\n",
       "    <tr>\n",
       "      <th>/Organization/Capella</th>\n",
       "      <td>54968051.0</td>\n",
       "    </tr>\n",
       "    <tr>\n",
       "      <th>/Organization/Airtight-Networks</th>\n",
       "      <td>54201907.0</td>\n",
       "    </tr>\n",
       "  </tbody>\n",
       "</table>\n",
       "</div>"
      ],
      "text/plain": [
       "                                 raised_amount_usd\n",
       "permalink                                         \n",
       "/Organization/Virtustream               64300000.0\n",
       "/Organization/Capella                   54968051.0\n",
       "/Organization/Airtight-Networks         54201907.0"
      ]
     },
     "execution_count": 90,
     "metadata": {},
     "output_type": "execute_result"
    }
   ],
   "source": [
    "d1_others = d1_others.pivot_table(values= 'raised_amount_usd', index='permalink', aggfunc='sum')\n",
    "d1_others.sort_values(by='raised_amount_usd', ascending=False).head(3)"
   ]
  },
  {
   "cell_type": "code",
   "execution_count": null,
   "id": "c44ed6e9",
   "metadata": {},
   "outputs": [],
   "source": []
  },
  {
   "cell_type": "markdown",
   "id": "fb90db31",
   "metadata": {},
   "source": [
    "### Second top investment country : GBR"
   ]
  },
  {
   "cell_type": "code",
   "execution_count": 91,
   "id": "45b007ba",
   "metadata": {
    "scrolled": true
   },
   "outputs": [
    {
     "data": {
      "text/html": [
       "<div>\n",
       "<style scoped>\n",
       "    .dataframe tbody tr th:only-of-type {\n",
       "        vertical-align: middle;\n",
       "    }\n",
       "\n",
       "    .dataframe tbody tr th {\n",
       "        vertical-align: top;\n",
       "    }\n",
       "\n",
       "    .dataframe thead th {\n",
       "        text-align: right;\n",
       "    }\n",
       "</style>\n",
       "<table border=\"1\" class=\"dataframe\">\n",
       "  <thead>\n",
       "    <tr style=\"text-align: right;\">\n",
       "      <th></th>\n",
       "      <th>permalink</th>\n",
       "      <th>funding_round_permalink</th>\n",
       "      <th>funding_round_type</th>\n",
       "      <th>...</th>\n",
       "      <th>speaks_english</th>\n",
       "      <th>primary_sector</th>\n",
       "      <th>main_sector</th>\n",
       "    </tr>\n",
       "  </thead>\n",
       "  <tbody>\n",
       "    <tr>\n",
       "      <th>28</th>\n",
       "      <td>/Organization/365Scores</td>\n",
       "      <td>/funding-round/48212f931f542fdef78810bc87aef086</td>\n",
       "      <td>venture</td>\n",
       "      <td>...</td>\n",
       "      <td>1</td>\n",
       "      <td>Android</td>\n",
       "      <td>Social, Finance, Analytics, Advertising</td>\n",
       "    </tr>\n",
       "    <tr>\n",
       "      <th>70</th>\n",
       "      <td>/Organization/7Digital</td>\n",
       "      <td>/funding-round/b5ad7ed7baddd3974bd51403f17dd88f</td>\n",
       "      <td>venture</td>\n",
       "      <td>...</td>\n",
       "      <td>1</td>\n",
       "      <td>Content Creators</td>\n",
       "      <td>Entertainment</td>\n",
       "    </tr>\n",
       "    <tr>\n",
       "      <th>71</th>\n",
       "      <td>/Organization/7Digital</td>\n",
       "      <td>/funding-round/eafacfcceb1fbc4fd605f641b603313e</td>\n",
       "      <td>venture</td>\n",
       "      <td>...</td>\n",
       "      <td>1</td>\n",
       "      <td>Content Creators</td>\n",
       "      <td>Entertainment</td>\n",
       "    </tr>\n",
       "    <tr>\n",
       "      <th>75</th>\n",
       "      <td>/Organization/90Min</td>\n",
       "      <td>/funding-round/21a2cbf6f2fb2a1c2a61e04bf930dfe6</td>\n",
       "      <td>venture</td>\n",
       "      <td>...</td>\n",
       "      <td>1</td>\n",
       "      <td>Media</td>\n",
       "      <td>Entertainment</td>\n",
       "    </tr>\n",
       "    <tr>\n",
       "      <th>76</th>\n",
       "      <td>/Organization/90Min</td>\n",
       "      <td>/funding-round/bd626ed022f5c66574b1afe234f3c90d</td>\n",
       "      <td>venture</td>\n",
       "      <td>...</td>\n",
       "      <td>1</td>\n",
       "      <td>Media</td>\n",
       "      <td>Entertainment</td>\n",
       "    </tr>\n",
       "  </tbody>\n",
       "</table>\n",
       "<p>5 rows × 17 columns</p>\n",
       "</div>"
      ],
      "text/plain": [
       "                  permalink                          funding_round_permalink  \\\n",
       "28  /Organization/365Scores  /funding-round/48212f931f542fdef78810bc87aef086   \n",
       "70   /Organization/7Digital  /funding-round/b5ad7ed7baddd3974bd51403f17dd88f   \n",
       "71   /Organization/7Digital  /funding-round/eafacfcceb1fbc4fd605f641b603313e   \n",
       "75      /Organization/90Min  /funding-round/21a2cbf6f2fb2a1c2a61e04bf930dfe6   \n",
       "76      /Organization/90Min  /funding-round/bd626ed022f5c66574b1afe234f3c90d   \n",
       "\n",
       "   funding_round_type  ... speaks_english    primary_sector  \\\n",
       "28            venture  ...              1           Android   \n",
       "70            venture  ...              1  Content Creators   \n",
       "71            venture  ...              1  Content Creators   \n",
       "75            venture  ...              1             Media   \n",
       "76            venture  ...              1             Media   \n",
       "\n",
       "                                main_sector  \n",
       "28  Social, Finance, Analytics, Advertising  \n",
       "70                            Entertainment  \n",
       "71                            Entertainment  \n",
       "75                            Entertainment  \n",
       "76                            Entertainment  \n",
       "\n",
       "[5 rows x 17 columns]"
      ]
     },
     "execution_count": 91,
     "metadata": {},
     "output_type": "execute_result"
    }
   ],
   "source": [
    "#Creating GBR data frame \n",
    "d2 = top_eng_countries_merged[top_eng_countries_merged['country_code'] == 'GBR']\n",
    "d2.head()"
   ]
  },
  {
   "cell_type": "markdown",
   "id": "ecdc9a9c",
   "metadata": {},
   "source": [
    "#### Total number of Investments in GBR"
   ]
  },
  {
   "cell_type": "code",
   "execution_count": 92,
   "id": "0fe93568",
   "metadata": {},
   "outputs": [
    {
     "data": {
      "text/plain": [
       "558"
      ]
     },
     "execution_count": 92,
     "metadata": {},
     "output_type": "execute_result"
    }
   ],
   "source": [
    "d2['raised_amount_usd'].count()"
   ]
  },
  {
   "cell_type": "markdown",
   "id": "bd56d80e",
   "metadata": {},
   "source": [
    "#### Total amount of Investments in GBR"
   ]
  },
  {
   "cell_type": "code",
   "execution_count": 93,
   "id": "14e2ad18",
   "metadata": {
    "scrolled": true
   },
   "outputs": [
    {
     "data": {
      "text/plain": [
       "4836148564.0"
      ]
     },
     "execution_count": 93,
     "metadata": {},
     "output_type": "execute_result"
    }
   ],
   "source": [
    "d2['raised_amount_usd'].sum()"
   ]
  },
  {
   "cell_type": "markdown",
   "id": "38a09279",
   "metadata": {},
   "source": [
    "#### Total number of investment each main sectors in GBR"
   ]
  },
  {
   "cell_type": "code",
   "execution_count": 94,
   "id": "6443230a",
   "metadata": {},
   "outputs": [
    {
     "data": {
      "text/html": [
       "<div>\n",
       "<style scoped>\n",
       "    .dataframe tbody tr th:only-of-type {\n",
       "        vertical-align: middle;\n",
       "    }\n",
       "\n",
       "    .dataframe tbody tr th {\n",
       "        vertical-align: top;\n",
       "    }\n",
       "\n",
       "    .dataframe thead th {\n",
       "        text-align: right;\n",
       "    }\n",
       "</style>\n",
       "<table border=\"1\" class=\"dataframe\">\n",
       "  <thead>\n",
       "    <tr style=\"text-align: right;\">\n",
       "      <th></th>\n",
       "      <th>raised_amount_usd</th>\n",
       "    </tr>\n",
       "    <tr>\n",
       "      <th>main_sector</th>\n",
       "      <th></th>\n",
       "    </tr>\n",
       "  </thead>\n",
       "  <tbody>\n",
       "    <tr>\n",
       "      <th>Others</th>\n",
       "      <td>125</td>\n",
       "    </tr>\n",
       "    <tr>\n",
       "      <th>Cleantech / Semiconductors</th>\n",
       "      <td>114</td>\n",
       "    </tr>\n",
       "    <tr>\n",
       "      <th>Social, Finance, Analytics, Advertising</th>\n",
       "      <td>93</td>\n",
       "    </tr>\n",
       "  </tbody>\n",
       "</table>\n",
       "</div>"
      ],
      "text/plain": [
       "                                         raised_amount_usd\n",
       "main_sector                                               \n",
       "Others                                                 125\n",
       "Cleantech / Semiconductors                             114\n",
       "Social, Finance, Analytics, Advertising                 93"
      ]
     },
     "execution_count": 94,
     "metadata": {},
     "output_type": "execute_result"
    }
   ],
   "source": [
    "d2_table = d2.pivot_table(values = 'raised_amount_usd', index='main_sector', aggfunc='count')\n",
    "d2_table.sort_values(by='raised_amount_usd', ascending = False).head(3)"
   ]
  },
  {
   "cell_type": "markdown",
   "id": "d9aca2dc",
   "metadata": {},
   "source": [
    "#### Top main sectors and total amount of investments in top sector in GBR"
   ]
  },
  {
   "cell_type": "code",
   "execution_count": 95,
   "id": "e6f2fbd9",
   "metadata": {
    "scrolled": true
   },
   "outputs": [
    {
     "data": {
      "text/html": [
       "<div>\n",
       "<style scoped>\n",
       "    .dataframe tbody tr th:only-of-type {\n",
       "        vertical-align: middle;\n",
       "    }\n",
       "\n",
       "    .dataframe tbody tr th {\n",
       "        vertical-align: top;\n",
       "    }\n",
       "\n",
       "    .dataframe thead th {\n",
       "        text-align: right;\n",
       "    }\n",
       "</style>\n",
       "<table border=\"1\" class=\"dataframe\">\n",
       "  <thead>\n",
       "    <tr style=\"text-align: right;\">\n",
       "      <th></th>\n",
       "      <th>raised_amount_usd</th>\n",
       "    </tr>\n",
       "    <tr>\n",
       "      <th>main_sector</th>\n",
       "      <th></th>\n",
       "    </tr>\n",
       "  </thead>\n",
       "  <tbody>\n",
       "    <tr>\n",
       "      <th>Others</th>\n",
       "      <td>1.077641e+09</td>\n",
       "    </tr>\n",
       "    <tr>\n",
       "      <th>Cleantech / Semiconductors</th>\n",
       "      <td>1.026727e+09</td>\n",
       "    </tr>\n",
       "    <tr>\n",
       "      <th>Social, Finance, Analytics, Advertising</th>\n",
       "      <td>7.811084e+08</td>\n",
       "    </tr>\n",
       "  </tbody>\n",
       "</table>\n",
       "</div>"
      ],
      "text/plain": [
       "                                         raised_amount_usd\n",
       "main_sector                                               \n",
       "Others                                        1.077641e+09\n",
       "Cleantech / Semiconductors                    1.026727e+09\n",
       "Social, Finance, Analytics, Advertising       7.811084e+08"
      ]
     },
     "execution_count": 95,
     "metadata": {},
     "output_type": "execute_result"
    }
   ],
   "source": [
    "d2_table = d2.pivot_table(values = 'raised_amount_usd', index='main_sector', aggfunc='sum')\n",
    "d2_table = d2_table.sort_values(by='raised_amount_usd', ascending = False).head(3)\n",
    "d2_table"
   ]
  },
  {
   "cell_type": "code",
   "execution_count": 96,
   "id": "24ba2da4",
   "metadata": {},
   "outputs": [
    {
     "data": {
      "text/html": [
       "<div>\n",
       "<style scoped>\n",
       "    .dataframe tbody tr th:only-of-type {\n",
       "        vertical-align: middle;\n",
       "    }\n",
       "\n",
       "    .dataframe tbody tr th {\n",
       "        vertical-align: top;\n",
       "    }\n",
       "\n",
       "    .dataframe thead th {\n",
       "        text-align: right;\n",
       "    }\n",
       "</style>\n",
       "<table border=\"1\" class=\"dataframe\">\n",
       "  <thead>\n",
       "    <tr style=\"text-align: right;\">\n",
       "      <th></th>\n",
       "      <th>permalink</th>\n",
       "      <th>funding_round_permalink</th>\n",
       "      <th>funding_round_type</th>\n",
       "      <th>...</th>\n",
       "      <th>speaks_english</th>\n",
       "      <th>primary_sector</th>\n",
       "      <th>main_sector</th>\n",
       "    </tr>\n",
       "  </thead>\n",
       "  <tbody>\n",
       "    <tr>\n",
       "      <th>195</th>\n",
       "      <td>/Organization/Acs-Clothing</td>\n",
       "      <td>/funding-round/064999587157b0ceae7843204a105d6d</td>\n",
       "      <td>venture</td>\n",
       "      <td>...</td>\n",
       "      <td>1</td>\n",
       "      <td>E-Commerce</td>\n",
       "      <td>Others</td>\n",
       "    </tr>\n",
       "    <tr>\n",
       "      <th>196</th>\n",
       "      <td>/Organization/Acs-Clothing</td>\n",
       "      <td>/funding-round/875b4295af2381558cec9d97f86fe3e4</td>\n",
       "      <td>venture</td>\n",
       "      <td>...</td>\n",
       "      <td>1</td>\n",
       "      <td>E-Commerce</td>\n",
       "      <td>Others</td>\n",
       "    </tr>\n",
       "    <tr>\n",
       "      <th>363</th>\n",
       "      <td>/Organization/Aepona</td>\n",
       "      <td>/funding-round/57ca5d05989850fb1109b277cb6ae54e</td>\n",
       "      <td>venture</td>\n",
       "      <td>...</td>\n",
       "      <td>1</td>\n",
       "      <td>Web Hosting</td>\n",
       "      <td>Others</td>\n",
       "    </tr>\n",
       "    <tr>\n",
       "      <th>364</th>\n",
       "      <td>/Organization/Aepona</td>\n",
       "      <td>/funding-round/ad79a10f4c3f231375454da6393ec564</td>\n",
       "      <td>venture</td>\n",
       "      <td>...</td>\n",
       "      <td>1</td>\n",
       "      <td>Web Hosting</td>\n",
       "      <td>Others</td>\n",
       "    </tr>\n",
       "    <tr>\n",
       "      <th>570</th>\n",
       "      <td>/Organization/Almondy</td>\n",
       "      <td>/funding-round/d44f8bb9f1de72338d26e74607ea2c75</td>\n",
       "      <td>venture</td>\n",
       "      <td>...</td>\n",
       "      <td>1</td>\n",
       "      <td>Hospitality</td>\n",
       "      <td>Others</td>\n",
       "    </tr>\n",
       "  </tbody>\n",
       "</table>\n",
       "<p>5 rows × 17 columns</p>\n",
       "</div>"
      ],
      "text/plain": [
       "                      permalink  \\\n",
       "195  /Organization/Acs-Clothing   \n",
       "196  /Organization/Acs-Clothing   \n",
       "363        /Organization/Aepona   \n",
       "364        /Organization/Aepona   \n",
       "570       /Organization/Almondy   \n",
       "\n",
       "                             funding_round_permalink funding_round_type  ...  \\\n",
       "195  /funding-round/064999587157b0ceae7843204a105d6d            venture  ...   \n",
       "196  /funding-round/875b4295af2381558cec9d97f86fe3e4            venture  ...   \n",
       "363  /funding-round/57ca5d05989850fb1109b277cb6ae54e            venture  ...   \n",
       "364  /funding-round/ad79a10f4c3f231375454da6393ec564            venture  ...   \n",
       "570  /funding-round/d44f8bb9f1de72338d26e74607ea2c75            venture  ...   \n",
       "\n",
       "    speaks_english  primary_sector main_sector  \n",
       "195              1      E-Commerce      Others  \n",
       "196              1      E-Commerce      Others  \n",
       "363              1     Web Hosting      Others  \n",
       "364              1     Web Hosting      Others  \n",
       "570              1     Hospitality      Others  \n",
       "\n",
       "[5 rows x 17 columns]"
      ]
     },
     "execution_count": 96,
     "metadata": {},
     "output_type": "execute_result"
    }
   ],
   "source": [
    "#Creating dataframe where ' main sector' is Others\n",
    "d2_others = d2[d2['main_sector'] == 'Others']\n",
    "d2_others.head()"
   ]
  },
  {
   "cell_type": "markdown",
   "id": "f87b6325",
   "metadata": {},
   "source": [
    "#### which company received the highest and the second investment in top sector in GBR?"
   ]
  },
  {
   "cell_type": "code",
   "execution_count": 97,
   "id": "cd76480c",
   "metadata": {},
   "outputs": [
    {
     "data": {
      "text/html": [
       "<div>\n",
       "<style scoped>\n",
       "    .dataframe tbody tr th:only-of-type {\n",
       "        vertical-align: middle;\n",
       "    }\n",
       "\n",
       "    .dataframe tbody tr th {\n",
       "        vertical-align: top;\n",
       "    }\n",
       "\n",
       "    .dataframe thead th {\n",
       "        text-align: right;\n",
       "    }\n",
       "</style>\n",
       "<table border=\"1\" class=\"dataframe\">\n",
       "  <thead>\n",
       "    <tr style=\"text-align: right;\">\n",
       "      <th></th>\n",
       "      <th>raised_amount_usd</th>\n",
       "    </tr>\n",
       "    <tr>\n",
       "      <th>permalink</th>\n",
       "      <th></th>\n",
       "    </tr>\n",
       "  </thead>\n",
       "  <tbody>\n",
       "    <tr>\n",
       "      <th>/Organization/Electric-Cloud</th>\n",
       "      <td>37000000.0</td>\n",
       "    </tr>\n",
       "    <tr>\n",
       "      <th>/Organization/Sensage</th>\n",
       "      <td>36250000.0</td>\n",
       "    </tr>\n",
       "    <tr>\n",
       "      <th>/Organization/Silverrail-Technologies</th>\n",
       "      <td>29000000.0</td>\n",
       "    </tr>\n",
       "  </tbody>\n",
       "</table>\n",
       "</div>"
      ],
      "text/plain": [
       "                                       raised_amount_usd\n",
       "permalink                                               \n",
       "/Organization/Electric-Cloud                  37000000.0\n",
       "/Organization/Sensage                         36250000.0\n",
       "/Organization/Silverrail-Technologies         29000000.0"
      ]
     },
     "execution_count": 97,
     "metadata": {},
     "output_type": "execute_result"
    }
   ],
   "source": [
    "d2_others = d2_others.pivot_table(values= 'raised_amount_usd', index='permalink', aggfunc='sum')\n",
    "d2_others.sort_values(by='raised_amount_usd', ascending=False).head(3)"
   ]
  },
  {
   "cell_type": "raw",
   "id": "5ca4df1c",
   "metadata": {},
   "source": []
  },
  {
   "cell_type": "markdown",
   "id": "d4206fae",
   "metadata": {},
   "source": [
    "### Third top investment country : CAN"
   ]
  },
  {
   "cell_type": "code",
   "execution_count": 98,
   "id": "922aa5a6",
   "metadata": {
    "scrolled": true
   },
   "outputs": [
    {
     "data": {
      "text/html": [
       "<div>\n",
       "<style scoped>\n",
       "    .dataframe tbody tr th:only-of-type {\n",
       "        vertical-align: middle;\n",
       "    }\n",
       "\n",
       "    .dataframe tbody tr th {\n",
       "        vertical-align: top;\n",
       "    }\n",
       "\n",
       "    .dataframe thead th {\n",
       "        text-align: right;\n",
       "    }\n",
       "</style>\n",
       "<table border=\"1\" class=\"dataframe\">\n",
       "  <thead>\n",
       "    <tr style=\"text-align: right;\">\n",
       "      <th></th>\n",
       "      <th>permalink</th>\n",
       "      <th>funding_round_permalink</th>\n",
       "      <th>funding_round_type</th>\n",
       "      <th>...</th>\n",
       "      <th>speaks_english</th>\n",
       "      <th>primary_sector</th>\n",
       "      <th>main_sector</th>\n",
       "    </tr>\n",
       "  </thead>\n",
       "  <tbody>\n",
       "    <tr>\n",
       "      <th>27</th>\n",
       "      <td>/Organization/360Incentives-Com</td>\n",
       "      <td>/funding-round/8712b14c58f7066491d136673931ed3e</td>\n",
       "      <td>venture</td>\n",
       "      <td>...</td>\n",
       "      <td>1</td>\n",
       "      <td>Software</td>\n",
       "      <td>Others</td>\n",
       "    </tr>\n",
       "    <tr>\n",
       "      <th>57</th>\n",
       "      <td>/Organization/500Px</td>\n",
       "      <td>/funding-round/344b1e2b60ff76f4548c69ea7c04901f</td>\n",
       "      <td>venture</td>\n",
       "      <td>...</td>\n",
       "      <td>1</td>\n",
       "      <td>Apps</td>\n",
       "      <td>News, Search and Messaging</td>\n",
       "    </tr>\n",
       "    <tr>\n",
       "      <th>58</th>\n",
       "      <td>/Organization/500Px</td>\n",
       "      <td>/funding-round/36b2c6975d20b602b5d9ea9724e383ea</td>\n",
       "      <td>venture</td>\n",
       "      <td>...</td>\n",
       "      <td>1</td>\n",
       "      <td>Apps</td>\n",
       "      <td>News, Search and Messaging</td>\n",
       "    </tr>\n",
       "    <tr>\n",
       "      <th>66</th>\n",
       "      <td>/Organization/6N-Silicon</td>\n",
       "      <td>/funding-round/82a8781150acd315eee75194fab51c21</td>\n",
       "      <td>venture</td>\n",
       "      <td>...</td>\n",
       "      <td>1</td>\n",
       "      <td>Concentrated Solar Power</td>\n",
       "      <td>Cleantech / Semiconductors</td>\n",
       "    </tr>\n",
       "    <tr>\n",
       "      <th>120</th>\n",
       "      <td>/Organization/Accedian-Networks</td>\n",
       "      <td>/funding-round/ba4bb0be650fa0dab04f23ec0b859e04</td>\n",
       "      <td>venture</td>\n",
       "      <td>...</td>\n",
       "      <td>1</td>\n",
       "      <td>Business Services</td>\n",
       "      <td>Social, Finance, Analytics, Advertising</td>\n",
       "    </tr>\n",
       "  </tbody>\n",
       "</table>\n",
       "<p>5 rows × 17 columns</p>\n",
       "</div>"
      ],
      "text/plain": [
       "                           permalink  \\\n",
       "27   /Organization/360Incentives-Com   \n",
       "57               /Organization/500Px   \n",
       "58               /Organization/500Px   \n",
       "66          /Organization/6N-Silicon   \n",
       "120  /Organization/Accedian-Networks   \n",
       "\n",
       "                             funding_round_permalink funding_round_type  ...  \\\n",
       "27   /funding-round/8712b14c58f7066491d136673931ed3e            venture  ...   \n",
       "57   /funding-round/344b1e2b60ff76f4548c69ea7c04901f            venture  ...   \n",
       "58   /funding-round/36b2c6975d20b602b5d9ea9724e383ea            venture  ...   \n",
       "66   /funding-round/82a8781150acd315eee75194fab51c21            venture  ...   \n",
       "120  /funding-round/ba4bb0be650fa0dab04f23ec0b859e04            venture  ...   \n",
       "\n",
       "    speaks_english            primary_sector  \\\n",
       "27               1                  Software   \n",
       "57               1                      Apps   \n",
       "58               1                      Apps   \n",
       "66               1  Concentrated Solar Power   \n",
       "120              1         Business Services   \n",
       "\n",
       "                                 main_sector  \n",
       "27                                    Others  \n",
       "57                News, Search and Messaging  \n",
       "58                News, Search and Messaging  \n",
       "66                Cleantech / Semiconductors  \n",
       "120  Social, Finance, Analytics, Advertising  \n",
       "\n",
       "[5 rows x 17 columns]"
      ]
     },
     "execution_count": 98,
     "metadata": {},
     "output_type": "execute_result"
    }
   ],
   "source": [
    "#Creating CAN data frame\n",
    "d3 = top_eng_countries_merged[top_eng_countries_merged['country_code'] == 'CAN']\n",
    "d3.head()"
   ]
  },
  {
   "cell_type": "markdown",
   "id": "c10bae42",
   "metadata": {},
   "source": [
    "#### Total number of Investments in CAN"
   ]
  },
  {
   "cell_type": "code",
   "execution_count": 99,
   "id": "383dba4c",
   "metadata": {},
   "outputs": [
    {
     "data": {
      "text/plain": [
       "374"
      ]
     },
     "execution_count": 99,
     "metadata": {},
     "output_type": "execute_result"
    }
   ],
   "source": [
    "d3['raised_amount_usd'].count()"
   ]
  },
  {
   "cell_type": "markdown",
   "id": "bc906e18",
   "metadata": {},
   "source": [
    "#### Total amount of Investments in CAN"
   ]
  },
  {
   "cell_type": "code",
   "execution_count": 100,
   "id": "78c93827",
   "metadata": {
    "scrolled": false
   },
   "outputs": [
    {
     "data": {
      "text/plain": [
       "3191532954.0"
      ]
     },
     "execution_count": 100,
     "metadata": {},
     "output_type": "execute_result"
    }
   ],
   "source": [
    "d3['raised_amount_usd'].sum()"
   ]
  },
  {
   "cell_type": "markdown",
   "id": "282a2eca",
   "metadata": {},
   "source": [
    "#### Total number of investment each main sectors in CAN"
   ]
  },
  {
   "cell_type": "code",
   "execution_count": 101,
   "id": "fa432c85",
   "metadata": {},
   "outputs": [
    {
     "data": {
      "text/html": [
       "<div>\n",
       "<style scoped>\n",
       "    .dataframe tbody tr th:only-of-type {\n",
       "        vertical-align: middle;\n",
       "    }\n",
       "\n",
       "    .dataframe tbody tr th {\n",
       "        vertical-align: top;\n",
       "    }\n",
       "\n",
       "    .dataframe thead th {\n",
       "        text-align: right;\n",
       "    }\n",
       "</style>\n",
       "<table border=\"1\" class=\"dataframe\">\n",
       "  <thead>\n",
       "    <tr style=\"text-align: right;\">\n",
       "      <th></th>\n",
       "      <th>raised_amount_usd</th>\n",
       "    </tr>\n",
       "    <tr>\n",
       "      <th>main_sector</th>\n",
       "      <th></th>\n",
       "    </tr>\n",
       "  </thead>\n",
       "  <tbody>\n",
       "    <tr>\n",
       "      <th>Cleantech / Semiconductors</th>\n",
       "      <td>97</td>\n",
       "    </tr>\n",
       "    <tr>\n",
       "      <th>Others</th>\n",
       "      <td>90</td>\n",
       "    </tr>\n",
       "    <tr>\n",
       "      <th>Social, Finance, Analytics, Advertising</th>\n",
       "      <td>50</td>\n",
       "    </tr>\n",
       "  </tbody>\n",
       "</table>\n",
       "</div>"
      ],
      "text/plain": [
       "                                         raised_amount_usd\n",
       "main_sector                                               \n",
       "Cleantech / Semiconductors                              97\n",
       "Others                                                  90\n",
       "Social, Finance, Analytics, Advertising                 50"
      ]
     },
     "execution_count": 101,
     "metadata": {},
     "output_type": "execute_result"
    }
   ],
   "source": [
    "d3_table = d3.pivot_table(values = 'raised_amount_usd', index='main_sector', aggfunc='count')\n",
    "d3_table.sort_values(by='raised_amount_usd', ascending = False).head(3)"
   ]
  },
  {
   "cell_type": "markdown",
   "id": "ab1f06dc",
   "metadata": {},
   "source": [
    "#### Top main sectors and total amount of investments in top sector in CAN"
   ]
  },
  {
   "cell_type": "code",
   "execution_count": 102,
   "id": "abbccfb9",
   "metadata": {},
   "outputs": [
    {
     "data": {
      "text/html": [
       "<div>\n",
       "<style scoped>\n",
       "    .dataframe tbody tr th:only-of-type {\n",
       "        vertical-align: middle;\n",
       "    }\n",
       "\n",
       "    .dataframe tbody tr th {\n",
       "        vertical-align: top;\n",
       "    }\n",
       "\n",
       "    .dataframe thead th {\n",
       "        text-align: right;\n",
       "    }\n",
       "</style>\n",
       "<table border=\"1\" class=\"dataframe\">\n",
       "  <thead>\n",
       "    <tr style=\"text-align: right;\">\n",
       "      <th></th>\n",
       "      <th>raised_amount_usd</th>\n",
       "    </tr>\n",
       "    <tr>\n",
       "      <th>main_sector</th>\n",
       "      <th></th>\n",
       "    </tr>\n",
       "  </thead>\n",
       "  <tbody>\n",
       "    <tr>\n",
       "      <th>Cleantech / Semiconductors</th>\n",
       "      <td>881923144.0</td>\n",
       "    </tr>\n",
       "    <tr>\n",
       "      <th>Others</th>\n",
       "      <td>768490093.0</td>\n",
       "    </tr>\n",
       "    <tr>\n",
       "      <th>Social, Finance, Analytics, Advertising</th>\n",
       "      <td>422343073.0</td>\n",
       "    </tr>\n",
       "  </tbody>\n",
       "</table>\n",
       "</div>"
      ],
      "text/plain": [
       "                                         raised_amount_usd\n",
       "main_sector                                               \n",
       "Cleantech / Semiconductors                     881923144.0\n",
       "Others                                         768490093.0\n",
       "Social, Finance, Analytics, Advertising        422343073.0"
      ]
     },
     "execution_count": 102,
     "metadata": {},
     "output_type": "execute_result"
    }
   ],
   "source": [
    "d3_table = d3.pivot_table(values = 'raised_amount_usd', index='main_sector', aggfunc='sum')\n",
    "d3_table = d3_table.sort_values(by='raised_amount_usd', ascending = False).head(3)\n",
    "d3_table"
   ]
  },
  {
   "cell_type": "code",
   "execution_count": 103,
   "id": "31ed9e5c",
   "metadata": {},
   "outputs": [
    {
     "data": {
      "text/html": [
       "<div>\n",
       "<style scoped>\n",
       "    .dataframe tbody tr th:only-of-type {\n",
       "        vertical-align: middle;\n",
       "    }\n",
       "\n",
       "    .dataframe tbody tr th {\n",
       "        vertical-align: top;\n",
       "    }\n",
       "\n",
       "    .dataframe thead th {\n",
       "        text-align: right;\n",
       "    }\n",
       "</style>\n",
       "<table border=\"1\" class=\"dataframe\">\n",
       "  <thead>\n",
       "    <tr style=\"text-align: right;\">\n",
       "      <th></th>\n",
       "      <th>permalink</th>\n",
       "      <th>funding_round_permalink</th>\n",
       "      <th>funding_round_type</th>\n",
       "      <th>...</th>\n",
       "      <th>speaks_english</th>\n",
       "      <th>primary_sector</th>\n",
       "      <th>main_sector</th>\n",
       "    </tr>\n",
       "  </thead>\n",
       "  <tbody>\n",
       "    <tr>\n",
       "      <th>66</th>\n",
       "      <td>/Organization/6N-Silicon</td>\n",
       "      <td>/funding-round/82a8781150acd315eee75194fab51c21</td>\n",
       "      <td>venture</td>\n",
       "      <td>...</td>\n",
       "      <td>1</td>\n",
       "      <td>Concentrated Solar Power</td>\n",
       "      <td>Cleantech / Semiconductors</td>\n",
       "    </tr>\n",
       "    <tr>\n",
       "      <th>526</th>\n",
       "      <td>/Organization/Alethia-Biotherapeutics</td>\n",
       "      <td>/funding-round/b396150b6759b59d47ce65ed31e802d8</td>\n",
       "      <td>venture</td>\n",
       "      <td>...</td>\n",
       "      <td>1</td>\n",
       "      <td>Biotechnology</td>\n",
       "      <td>Cleantech / Semiconductors</td>\n",
       "    </tr>\n",
       "    <tr>\n",
       "      <th>567</th>\n",
       "      <td>/Organization/Allon-Therapeutics</td>\n",
       "      <td>/funding-round/65410bf4d48ff5c7e00703b7762fd7b9</td>\n",
       "      <td>venture</td>\n",
       "      <td>...</td>\n",
       "      <td>1</td>\n",
       "      <td>Biotechnology</td>\n",
       "      <td>Cleantech / Semiconductors</td>\n",
       "    </tr>\n",
       "    <tr>\n",
       "      <th>683</th>\n",
       "      <td>/Organization/Angiochem</td>\n",
       "      <td>/funding-round/de6628ea42bedcc84d405a02d10ba9cb</td>\n",
       "      <td>venture</td>\n",
       "      <td>...</td>\n",
       "      <td>1</td>\n",
       "      <td>Biotechnology</td>\n",
       "      <td>Cleantech / Semiconductors</td>\n",
       "    </tr>\n",
       "    <tr>\n",
       "      <th>846</th>\n",
       "      <td>/Organization/Aquinox-Pharmaceuticals</td>\n",
       "      <td>/funding-round/aab371c3f7e91aba4d04e9d314288869</td>\n",
       "      <td>venture</td>\n",
       "      <td>...</td>\n",
       "      <td>1</td>\n",
       "      <td>Biotechnology</td>\n",
       "      <td>Cleantech / Semiconductors</td>\n",
       "    </tr>\n",
       "  </tbody>\n",
       "</table>\n",
       "<p>5 rows × 17 columns</p>\n",
       "</div>"
      ],
      "text/plain": [
       "                                 permalink  \\\n",
       "66                /Organization/6N-Silicon   \n",
       "526  /Organization/Alethia-Biotherapeutics   \n",
       "567       /Organization/Allon-Therapeutics   \n",
       "683                /Organization/Angiochem   \n",
       "846  /Organization/Aquinox-Pharmaceuticals   \n",
       "\n",
       "                             funding_round_permalink funding_round_type  ...  \\\n",
       "66   /funding-round/82a8781150acd315eee75194fab51c21            venture  ...   \n",
       "526  /funding-round/b396150b6759b59d47ce65ed31e802d8            venture  ...   \n",
       "567  /funding-round/65410bf4d48ff5c7e00703b7762fd7b9            venture  ...   \n",
       "683  /funding-round/de6628ea42bedcc84d405a02d10ba9cb            venture  ...   \n",
       "846  /funding-round/aab371c3f7e91aba4d04e9d314288869            venture  ...   \n",
       "\n",
       "    speaks_english            primary_sector                 main_sector  \n",
       "66               1  Concentrated Solar Power  Cleantech / Semiconductors  \n",
       "526              1             Biotechnology  Cleantech / Semiconductors  \n",
       "567              1             Biotechnology  Cleantech / Semiconductors  \n",
       "683              1             Biotechnology  Cleantech / Semiconductors  \n",
       "846              1             Biotechnology  Cleantech / Semiconductors  \n",
       "\n",
       "[5 rows x 17 columns]"
      ]
     },
     "execution_count": 103,
     "metadata": {},
     "output_type": "execute_result"
    }
   ],
   "source": [
    "#Creating dataframe where ' main sector' is \"Cleantech / Semiconductors\" \n",
    "d3_others = d3[d3['main_sector'] == 'Cleantech / Semiconductors']\n",
    "d3_others.head()"
   ]
  },
  {
   "cell_type": "markdown",
   "id": "a3743c59",
   "metadata": {},
   "source": [
    "#### which company received the highest and the second investment in top sector in GBR?"
   ]
  },
  {
   "cell_type": "code",
   "execution_count": 104,
   "id": "5f2e4fd6",
   "metadata": {},
   "outputs": [
    {
     "data": {
      "text/html": [
       "<div>\n",
       "<style scoped>\n",
       "    .dataframe tbody tr th:only-of-type {\n",
       "        vertical-align: middle;\n",
       "    }\n",
       "\n",
       "    .dataframe tbody tr th {\n",
       "        vertical-align: top;\n",
       "    }\n",
       "\n",
       "    .dataframe thead th {\n",
       "        text-align: right;\n",
       "    }\n",
       "</style>\n",
       "<table border=\"1\" class=\"dataframe\">\n",
       "  <thead>\n",
       "    <tr style=\"text-align: right;\">\n",
       "      <th></th>\n",
       "      <th>raised_amount_usd</th>\n",
       "    </tr>\n",
       "    <tr>\n",
       "      <th>permalink</th>\n",
       "      <th></th>\n",
       "    </tr>\n",
       "  </thead>\n",
       "  <tbody>\n",
       "    <tr>\n",
       "      <th>/Organization/Fresco-Microchip</th>\n",
       "      <td>48000000.0</td>\n",
       "    </tr>\n",
       "    <tr>\n",
       "      <th>/Organization/Ostara</th>\n",
       "      <td>43152682.0</td>\n",
       "    </tr>\n",
       "    <tr>\n",
       "      <th>/Organization/Diablo-Technologies</th>\n",
       "      <td>35500000.0</td>\n",
       "    </tr>\n",
       "  </tbody>\n",
       "</table>\n",
       "</div>"
      ],
      "text/plain": [
       "                                   raised_amount_usd\n",
       "permalink                                           \n",
       "/Organization/Fresco-Microchip            48000000.0\n",
       "/Organization/Ostara                      43152682.0\n",
       "/Organization/Diablo-Technologies         35500000.0"
      ]
     },
     "execution_count": 104,
     "metadata": {},
     "output_type": "execute_result"
    }
   ],
   "source": [
    "d3_others = d3_others.pivot_table(values= 'raised_amount_usd', index='permalink', aggfunc='sum')\n",
    "d3_others.sort_values(by='raised_amount_usd', ascending=False).head(3)"
   ]
  },
  {
   "cell_type": "raw",
   "id": "7d31b8b9",
   "metadata": {},
   "source": []
  },
  {
   "cell_type": "markdown",
   "id": "3eea10d4",
   "metadata": {},
   "source": [
    "#### Now we know top 3 sectors, so filtering as per top sectors"
   ]
  },
  {
   "cell_type": "code",
   "execution_count": 105,
   "id": "eb481407",
   "metadata": {},
   "outputs": [
    {
     "data": {
      "text/html": [
       "<div>\n",
       "<style scoped>\n",
       "    .dataframe tbody tr th:only-of-type {\n",
       "        vertical-align: middle;\n",
       "    }\n",
       "\n",
       "    .dataframe tbody tr th {\n",
       "        vertical-align: top;\n",
       "    }\n",
       "\n",
       "    .dataframe thead th {\n",
       "        text-align: right;\n",
       "    }\n",
       "</style>\n",
       "<table border=\"1\" class=\"dataframe\">\n",
       "  <thead>\n",
       "    <tr style=\"text-align: right;\">\n",
       "      <th></th>\n",
       "      <th>permalink</th>\n",
       "      <th>funding_round_permalink</th>\n",
       "      <th>funding_round_type</th>\n",
       "      <th>...</th>\n",
       "      <th>speaks_english</th>\n",
       "      <th>primary_sector</th>\n",
       "      <th>main_sector</th>\n",
       "    </tr>\n",
       "  </thead>\n",
       "  <tbody>\n",
       "    <tr>\n",
       "      <th>0</th>\n",
       "      <td>/Organization/128-Technology</td>\n",
       "      <td>/funding-round/fb6216a30cb566ede89e0bee0623a634</td>\n",
       "      <td>venture</td>\n",
       "      <td>...</td>\n",
       "      <td>1</td>\n",
       "      <td>Service Providers</td>\n",
       "      <td>Others</td>\n",
       "    </tr>\n",
       "    <tr>\n",
       "      <th>1</th>\n",
       "      <td>/Organization/170-Systems</td>\n",
       "      <td>/funding-round/b84bb882ca873f5fb96535671981196d</td>\n",
       "      <td>venture</td>\n",
       "      <td>...</td>\n",
       "      <td>1</td>\n",
       "      <td>Software</td>\n",
       "      <td>Others</td>\n",
       "    </tr>\n",
       "    <tr>\n",
       "      <th>2</th>\n",
       "      <td>/Organization/17Zuoye</td>\n",
       "      <td>/funding-round/69690484f51e15bc27ff52bfe472cd96</td>\n",
       "      <td>venture</td>\n",
       "      <td>...</td>\n",
       "      <td>1</td>\n",
       "      <td>Education</td>\n",
       "      <td>Others</td>\n",
       "    </tr>\n",
       "    <tr>\n",
       "      <th>3</th>\n",
       "      <td>/Organization/17Zuoye</td>\n",
       "      <td>/funding-round/8d87f771e938e0f31641bd600abbafca</td>\n",
       "      <td>venture</td>\n",
       "      <td>...</td>\n",
       "      <td>1</td>\n",
       "      <td>Education</td>\n",
       "      <td>Others</td>\n",
       "    </tr>\n",
       "    <tr>\n",
       "      <th>4</th>\n",
       "      <td>/Organization/1Stdibs</td>\n",
       "      <td>/funding-round/292b074d073fdd9c7e9d8f372c3aa5f6</td>\n",
       "      <td>venture</td>\n",
       "      <td>...</td>\n",
       "      <td>1</td>\n",
       "      <td>E-Commerce</td>\n",
       "      <td>Others</td>\n",
       "    </tr>\n",
       "  </tbody>\n",
       "</table>\n",
       "<p>5 rows × 17 columns</p>\n",
       "</div>"
      ],
      "text/plain": [
       "                      permalink  \\\n",
       "0  /Organization/128-Technology   \n",
       "1     /Organization/170-Systems   \n",
       "2         /Organization/17Zuoye   \n",
       "3         /Organization/17Zuoye   \n",
       "4         /Organization/1Stdibs   \n",
       "\n",
       "                           funding_round_permalink funding_round_type  ...  \\\n",
       "0  /funding-round/fb6216a30cb566ede89e0bee0623a634            venture  ...   \n",
       "1  /funding-round/b84bb882ca873f5fb96535671981196d            venture  ...   \n",
       "2  /funding-round/69690484f51e15bc27ff52bfe472cd96            venture  ...   \n",
       "3  /funding-round/8d87f771e938e0f31641bd600abbafca            venture  ...   \n",
       "4  /funding-round/292b074d073fdd9c7e9d8f372c3aa5f6            venture  ...   \n",
       "\n",
       "  speaks_english     primary_sector main_sector  \n",
       "0              1  Service Providers      Others  \n",
       "1              1           Software      Others  \n",
       "2              1          Education      Others  \n",
       "3              1          Education      Others  \n",
       "4              1         E-Commerce      Others  \n",
       "\n",
       "[5 rows x 17 columns]"
      ]
     },
     "execution_count": 105,
     "metadata": {},
     "output_type": "execute_result"
    }
   ],
   "source": [
    "#Now we know top 3 sectors, so filtering as per top sectors\n",
    "top_sectorwise = top_eng_countries_merged.loc[((top_eng_countries_merged['main_sector'] == 'Others') | \n",
    "        (top_eng_countries_merged['main_sector'] == 'Cleantech / Semiconductors')  |\n",
    "        (top_eng_countries_merged['main_sector'] == 'Social, Finance, Analytics, Advertising')),:]\n",
    "\n",
    "#reseting index\n",
    "top_sectorwise.reset_index(inplace=True, drop=True)\n",
    "top_sectorwise.head()"
   ]
  },
  {
   "cell_type": "code",
   "execution_count": 106,
   "id": "2a405a1a",
   "metadata": {},
   "outputs": [
    {
     "data": {
      "text/html": [
       "<div>\n",
       "<style scoped>\n",
       "    .dataframe tbody tr th:only-of-type {\n",
       "        vertical-align: middle;\n",
       "    }\n",
       "\n",
       "    .dataframe tbody tr th {\n",
       "        vertical-align: top;\n",
       "    }\n",
       "\n",
       "    .dataframe thead th {\n",
       "        text-align: right;\n",
       "    }\n",
       "</style>\n",
       "<table border=\"1\" class=\"dataframe\">\n",
       "  <thead>\n",
       "    <tr style=\"text-align: right;\">\n",
       "      <th>main_sector</th>\n",
       "      <th>Cleantech / Semiconductors</th>\n",
       "      <th>Others</th>\n",
       "      <th>Social, Finance, Analytics, Advertising</th>\n",
       "    </tr>\n",
       "    <tr>\n",
       "      <th>country_code</th>\n",
       "      <th></th>\n",
       "      <th></th>\n",
       "      <th></th>\n",
       "    </tr>\n",
       "  </thead>\n",
       "  <tbody>\n",
       "    <tr>\n",
       "      <th>CAN</th>\n",
       "      <td>97</td>\n",
       "      <td>90</td>\n",
       "      <td>50</td>\n",
       "    </tr>\n",
       "    <tr>\n",
       "      <th>GBR</th>\n",
       "      <td>114</td>\n",
       "      <td>125</td>\n",
       "      <td>93</td>\n",
       "    </tr>\n",
       "    <tr>\n",
       "      <th>SGP</th>\n",
       "      <td>7</td>\n",
       "      <td>13</td>\n",
       "      <td>20</td>\n",
       "    </tr>\n",
       "    <tr>\n",
       "      <th>USA</th>\n",
       "      <td>2070</td>\n",
       "      <td>2546</td>\n",
       "      <td>1777</td>\n",
       "    </tr>\n",
       "  </tbody>\n",
       "</table>\n",
       "</div>"
      ],
      "text/plain": [
       "main_sector   Cleantech / Semiconductors  Others  \\\n",
       "country_code                                       \n",
       "CAN                                   97      90   \n",
       "GBR                                  114     125   \n",
       "SGP                                    7      13   \n",
       "USA                                 2070    2546   \n",
       "\n",
       "main_sector   Social, Finance, Analytics, Advertising  \n",
       "country_code                                           \n",
       "CAN                                                50  \n",
       "GBR                                                93  \n",
       "SGP                                                20  \n",
       "USA                                              1777  "
      ]
     },
     "execution_count": 106,
     "metadata": {},
     "output_type": "execute_result"
    }
   ],
   "source": [
    "# Creating table country and sectors wise.\n",
    "top_sectorwise_table = pd.pivot_table(data=top_sectorwise, values=\"raised_amount_usd\", \n",
    "                         index=\"country_code\", columns=\"main_sector\", \n",
    "                         aggfunc='count')\n",
    "top_sectorwise_table"
   ]
  },
  {
   "cell_type": "markdown",
   "id": "83c79682",
   "metadata": {},
   "source": [
    "#### Ploting the number of investments in the top 3 sectors of the top 3 countries on one chart "
   ]
  },
  {
   "cell_type": "code",
   "execution_count": 107,
   "id": "be7bddc0",
   "metadata": {},
   "outputs": [
    {
     "data": {
      "image/png": "[encoded data removed]",
      "text/plain": [
       "<Figure size 720x1080 with 1 Axes>"
      ]
     },
     "metadata": {
      "needs_background": "light"
     },
     "output_type": "display_data"
    }
   ],
   "source": [
    "# Ploting the number of investments in the top 3 sectors of the top 3 countries on one chart \n",
    "ax = top_sectorwise_table.plot.bar(figsize=(10, 15),logy=True)\n",
    "title = 'Sectorwise Investment in top3 Countries'\n",
    "plt.title(title)\n",
    "plt.show()"
   ]
  },
  {
   "cell_type": "markdown",
   "id": "3f8ade02",
   "metadata": {},
   "source": [
    "### Checkpoint 6: Plots\n",
    "\n"
   ]
  },
  {
   "cell_type": "code",
   "execution_count": 108,
   "id": "ae504703",
   "metadata": {},
   "outputs": [
    {
     "data": {
      "image/png": "[encoded data removed]",
      "text/plain": [
       "<Figure size 1080x720 with 1 Axes>"
      ]
     },
     "metadata": {
      "needs_background": "light"
     },
     "output_type": "display_data"
    }
   ],
   "source": [
    "# Ploting the representative number of investments in the  funding type\n",
    "\n",
    "cmap = cm.get_cmap('viridis') \n",
    "ax = rep_amount_in_FT.plot.bar(figsize=(15, 10),logy=True , colormap =cmap)\n",
    "title = 'the representative number of investments in the  funding type'\n",
    "plt.title(title)\n",
    "plt.show()"
   ]
  },
  {
   "cell_type": "code",
   "execution_count": null,
   "id": "0358b30c",
   "metadata": {},
   "outputs": [],
   "source": []
  },
  {
   "cell_type": "markdown",
   "id": "4b0dd594",
   "metadata": {},
   "source": [
    "#### Ploting the top 9 countries against the total amount of investments of funding type \"Venture\""
   ]
  },
  {
   "cell_type": "code",
   "execution_count": 109,
   "id": "d6f4c4a9",
   "metadata": {},
   "outputs": [
    {
     "data": {
      "image/png": "[encoded data removed]",
      "text/plain": [
       "<Figure size 1080x576 with 1 Axes>"
      ]
     },
     "metadata": {
      "needs_background": "light"
     },
     "output_type": "display_data"
    }
   ],
   "source": [
    "#Ploting the top 9 countries against the total amount of investments of funding type \"Venture\" with log scale to see the difference clearly\n",
    "title ='The top 9 countries against the total amount of investments'\n",
    "cmap = cm.get_cmap('viridis') \n",
    "country_table_sorted.plot(x='country_code', y='raised_amount_usd', kind='bar',logy=True, colormap=cmap, figsize=(15,8))\n",
    "plt.title(title)\n",
    "plt.show()"
   ]
  },
  {
   "cell_type": "markdown",
   "id": "d361388d",
   "metadata": {},
   "source": [
    "#### Ploting the number of investments in the top 3 sectors of the top 3 countries on one chart "
   ]
  },
  {
   "cell_type": "code",
   "execution_count": 110,
   "id": "141a3174",
   "metadata": {
    "scrolled": false
   },
   "outputs": [
    {
     "data": {
      "image/png": "[encoded data removed]",
      "text/plain": [
       "<Figure size 432x864 with 1 Axes>"
      ]
     },
     "metadata": {
      "needs_background": "light"
     },
     "output_type": "display_data"
    }
   ],
   "source": [
    "# Ploting the number of investments in the top 3 sectors of the top 3 countries on one chart \n",
    "ax = top_sectorwise_table.plot.bar(figsize=(6, 12),logy=True)\n",
    "title = 'Sectorwise Investment in top3 Countries'\n",
    "plt.title(title)\n",
    "    \n",
    "plt.show()"
   ]
  },
  {
   "cell_type": "code",
   "execution_count": null,
   "id": "6dcbac69",
   "metadata": {},
   "outputs": [],
   "source": []
  },
  {
   "cell_type": "code",
   "execution_count": null,
   "id": "c43e0f3b",
   "metadata": {},
   "outputs": [],
   "source": []
  }
 ],
 "metadata": {
  "kernelspec": {
   "display_name": "Python 3",
   "language": "python",
   "name": "python3"
  },
  "language_info": {
   "codemirror_mode": {
    "name": "ipython",
    "version": 3
   },
   "file_extension": ".py",
   "mimetype": "text/x-python",
   "name": "python",
   "nbconvert_exporter": "python",
   "pygments_lexer": "ipython3",
   "version": "3.8.5"
  }
 },
 "nbformat": 4,
 "nbformat_minor": 5
}
